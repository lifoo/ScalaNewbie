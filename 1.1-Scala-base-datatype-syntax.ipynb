{
 "cells": [
  {
   "cell_type": "markdown",
   "metadata": {},
   "source": [
    "## 使用Scala解释器\n"
   ]
  },
  {
   "cell_type": "code",
   "execution_count": null,
   "metadata": {},
   "outputs": [],
   "source": [
    "1+2\n"
   ]
  },
  {
   "cell_type": "markdown",
   "metadata": {},
   "source": [
    "## 定义变量\n",
    "这里msg的类型是推断出来的(type inference)，能够推算出那些不显示指定的类型。\n",
    "\n",
    "当scala能够帮推断类型的时候，通常来说我们最好让它帮我们推断类型，而不是在代码中到处写上那些不必要的，显示的类型标注。\n",
    "\n",
    "当然也可以显示的给出类型，既可以确保Scala推断出来符合你意图的类型，也能作为文档。"
   ]
  },
  {
   "cell_type": "code",
   "execution_count": null,
   "metadata": {},
   "outputs": [],
   "source": [
    "val msg = \"Hello, world!\"\n",
    "\n",
    "val msg2: java.lang.String = \"Hello again, world!\"\n",
    "\n",
    "//在Scala中，java.lang中的类型在Scala中可以直接用简称引用\n",
    "val msg3: String = \"Hello yet again, world!\""
   ]
  },
  {
   "cell_type": "markdown",
   "metadata": {},
   "source": [
    "## 定义函数\n",
    "函数定义以def开始，函数名是max，它接收两个Int型的参数，返回一个Int型的参数"
   ]
  },
  {
   "cell_type": "code",
   "execution_count": null,
   "metadata": {},
   "outputs": [],
   "source": [
    "def max(x:Int,y:Int): Int = {\n",
    "    if(x > y)\n",
    "        x\n",
    "    else\n",
    "        y\n",
    "}\n",
    "max(1,2)"
   ]
  },
  {
   "cell_type": "markdown",
   "metadata": {},
   "source": [
    "## 使用while循环及if判断"
   ]
  },
  {
   "cell_type": "code",
   "execution_count": null,
   "metadata": {},
   "outputs": [],
   "source": [
    "def whiletest(args: Array[String]): Unit = {\n",
    "    var i = 0\n",
    "    while(i < args.length){\n",
    "        if(i!=0)\n",
    "            print(\" \")\n",
    "        print(args(i))\n",
    "        i +=1\n",
    "    }\n",
    "    println()\n",
    "}\n",
    "val args = Array(\"Scala\",\"is\",\"fun\")\n",
    "whiletest(args)"
   ]
  },
  {
   "cell_type": "markdown",
   "metadata": {},
   "source": [
    "## 使用foreach和for遍历，以及函数字面量\n",
    "### 函数字面量\n",
    "(x:Int,y:Int) => \n",
    "圆括号重视函数的参数(x:Int,y:Int)，用=>与函数体x + y连接"
   ]
  },
  {
   "cell_type": "code",
   "execution_count": null,
   "metadata": {},
   "outputs": [],
   "source": [
    "val args = Array(\"Scala\",\"is\",\"fun\")\n",
    "\n",
    "println(\"==============foreach test===============\")\n",
    "def foreachtest(args: Array[String]): Unit = {\n",
    "    //arg => println(arg)是函数字面量(function literal),该匿名函数接收一个名为arg的参数，函数体为println(arg)\n",
    "    println(\"Test0:\")\n",
    "    args.foreach(arg => println(arg))\n",
    "    //参数可以指定类型，但是需要抱在圆括号里(arg: String)\n",
    "    println(\"Test1:\")\n",
    "    args.foreach((arg: String) => println(arg))\n",
    "    //利用特殊规则，如果函数字面量只是一个接收单个参数的语句,如例子中的println，可以不必给出参数名和参数本身\n",
    "    println(\"Test2:\")\n",
    "    args.foreach(println)\n",
    "}\n",
    "\n",
    "foreachtest(args)\n",
    "\n",
    "println(\"==============for test===============\")\n",
    "def fortest(args: Array[String]): Unit = {\n",
    "    println(\"Test0:\")\n",
    "    //arg <- args,<-可以念做里的，for(arg <- args)读起来就像：对args里的arg，执行...\n",
    "    //<- 的右边时我们熟知的数组，左边时一个val变量的名字，注意它不是var\n",
    "    //尽管arg看起来像var，因为每次循环的时候都会拿到新的值，但它确实是个val,arg不能在for循环体内被重新赋值\n",
    "    //实际情况是，对应args中的每个元素，一个新的名字为arg的val就会被创建出来，初始化成元素的值，这是for表达式的循环体才会被执行\n",
    "    for(arg <- args){\n",
    "        //arg = 1\n",
    "        println(arg)\n",
    "    }\n",
    "        \n",
    "}\n",
    "fortest(args)"
   ]
  },
  {
   "cell_type": "markdown",
   "metadata": {},
   "source": [
    "## 类型参数化数组\n",
    "参数化的意思是在创建实例时对实例做“配置”，做法时在构造方法的括号中传入对象参数。  \n",
    "\n",
    "**重要概念：**val本身不能被重新赋值，但它指向的对象是有可能发生改变的，如示例中的greetStrings(0)/(1)/(2)，***scala使用圆括号()访问数组***     \n",
    "**scala另一个通行的规则：**如果一个方法只接收一个参数，在调用它的时候，可以不适用英文句点或圆括号。本例中to是个接收Int参数的方法，代码0 to 2 会被转化成(0).to(2)，这种方法仅在显式给出方法的目标对象时才有效。不能写\"print 10\"，但可以写\"Console print 10\"。\n"
   ]
  },
  {
   "cell_type": "code",
   "execution_count": null,
   "metadata": {},
   "outputs": [],
   "source": [
    "//用“12345”对BigInteger进行参数化\n",
    "val big = new java.math.BigInteger(\"12345\")\n",
    "//用类型参数化,先是[]中的类型，然后才是()括号中的值（参数）\n",
    "val greetStrings = new Array[String](3)\n",
    "greetStrings(0) = \"Hello\"\n",
    "greetStrings(1) = \", \"\n",
    "greetStrings(2) = \"world!\\n\"\n",
    "for(i <- 0 to 2)\n",
    "    print(greetStrings(i))\n",
    "for(i <- (0).to(2))\n",
    "    print(greetStrings(i))\n",
    "//更明确的表达你的意图\n",
    "val greetStrings2 : Array[String] = new Array[String](3)\n",
    "\n",
    "print(10)\n",
    "//print 10 //will fail\n",
    "Console print 10"
   ]
  },
  {
   "cell_type": "markdown",
   "metadata": {},
   "source": [
    "## 工厂方法apply的调用"
   ]
  },
  {
   "cell_type": "code",
   "execution_count": null,
   "metadata": {},
   "outputs": [],
   "source": []
  },
  {
   "cell_type": "code",
   "execution_count": null,
   "metadata": {},
   "outputs": [],
   "source": [
    "val numNames = Array(\"zero\",\"one\",\"two\")\n",
    "//同样是调用apply，但更啰嗦的写法如下,apply接收一个变长参数列表\n",
    "val numNames2 = Array.apply(\"zero\",\"one\",\"two\")"
   ]
  },
  {
   "cell_type": "markdown",
   "metadata": {},
   "source": [
    "## 使用列表\n",
    "scala的数组是一个拥有相同类型的对象的可变序列。例如Array[String]中智能包含字符串。虽然无法在数组实例化以后改变其长度，但可以改变它的元素值。因此，数组是可变的对象。\n",
    "对于相同类型对象的不可变序列的场景，可以使用scala的List类。跟数组类似，一个List[String]只能包含字符串，但是不可改变其对象的值。\n",
    "scala的List被设计为允许函数式编程的风格。"
   ]
  },
  {
   "cell_type": "code",
   "execution_count": null,
   "metadata": {},
   "outputs": [],
   "source": [
    "val oneTwo = List(1,2)//不需要写new List，因为scala.List的伴生对象上定义了一个工厂方法\"List.apply()\"\n",
    "oneTwo(0)\n",
    "//oneTwoThree(0) = 2 //fail\n",
    "val threeFour = List(3,4)\n",
    "val oneTwoThreeFour = oneTwo ::: threeFour\n",
    "println(oneTwo + \" and \" + threeFour + \"were not mutated.\")\n",
    "println(\"Thus, \" + oneTwoThreeFour + \"is a new list.\")\n",
    "\n",
    "//cons ::，往列表的头部追加元素\n",
    "//::是右操作元(right operand，即twoThree这个列表)的方法\n",
    "val twoThree = List(2,3)\n",
    "val oneTwoThree = 1 :: twoThree\n",
    "println(oneTwoThree)\n",
    "val oneTwoThree1 = 1 :: 2 :: 3 :: Nil\n",
    "println(oneTwoThree1)\n",
    "\n",
    "//append :+，往列表尾部增加元素，不建议这么用，在尾部增加元素的耗时会随着列表的长度增加而增加，可以使用::再reverse列表也可以用ListBuffer\n",
    "val twoThreeFour = twoThree :+ 4"
   ]
  },
  {
   "cell_type": "markdown",
   "metadata": {},
   "source": [
    "### 列表的常用方法"
   ]
  },
  {
   "cell_type": "code",
   "execution_count": null,
   "metadata": {},
   "outputs": [],
   "source": [
    "//空列表\n",
    "List()\n",
    "Nil"
   ]
  },
  {
   "cell_type": "code",
   "execution_count": null,
   "metadata": {},
   "outputs": [],
   "source": [
    "//创建一个新的List[String]，包含三个元素:\"cool\"、\"tools\"、\"rule\"\n",
    "List(\"cool\",\"tools\",\"rule\")"
   ]
  },
  {
   "cell_type": "code",
   "execution_count": null,
   "metadata": {},
   "outputs": [],
   "source": [
    "//创建一个新的List[String]，包含三个元素:\"will\"、\"fill\"、\"until\"\n",
    "val thrill = List(\"will\",\"fill\",\"until\")"
   ]
  },
  {
   "cell_type": "code",
   "execution_count": null,
   "metadata": {},
   "outputs": [],
   "source": [
    "//列表拼接\n",
    "List(\"a\",\"b\") ::: List(\"c\",\"d\")"
   ]
  },
  {
   "cell_type": "code",
   "execution_count": null,
   "metadata": {},
   "outputs": [],
   "source": [
    "//返回列表thrill中下标为2（从0开始计数）的元素\n",
    "thrill(2)"
   ]
  },
  {
   "cell_type": "code",
   "execution_count": null,
   "metadata": {},
   "outputs": [],
   "source": [
    "//thrill中长度为4的字符串进行计数\n",
    "thrill.count(s => s.length == 4)"
   ]
  },
  {
   "cell_type": "code",
   "execution_count": null,
   "metadata": {},
   "outputs": [],
   "source": [
    "//返回去掉thrill头两个元素的列表\n",
    "thrill.drop(2)"
   ]
  },
  {
   "cell_type": "code",
   "execution_count": null,
   "metadata": {},
   "outputs": [],
   "source": [
    "//返回去掉thrill后两个元素的列表\n",
    "thrill.dropRight(2)"
   ]
  },
  {
   "cell_type": "code",
   "execution_count": null,
   "metadata": {},
   "outputs": [],
   "source": [
    "//判断thrill中是否有值为\"until\"的元素\n",
    "thrill.exists(s => s==\"until\")"
   ]
  },
  {
   "cell_type": "code",
   "execution_count": null,
   "metadata": {},
   "outputs": [],
   "source": [
    "//按顺序返回thrill列表中长度是4的元素列表\n",
    "thrill.filter(s => s.length==4)"
   ]
  },
  {
   "cell_type": "code",
   "execution_count": null,
   "metadata": {},
   "outputs": [],
   "source": [
    "//按顺序返回thrill列表中长度不是4的元素列表\n",
    "thrill.filterNot(s => s.length==4)"
   ]
  },
  {
   "cell_type": "code",
   "execution_count": null,
   "metadata": {},
   "outputs": [],
   "source": [
    "//判断thrill中是否所有元素都以\"l\"结尾\n",
    "thrill.forall(s => s.endsWith(\"l\"))"
   ]
  },
  {
   "cell_type": "code",
   "execution_count": null,
   "metadata": {},
   "outputs": [],
   "source": [
    "//打印每个元素\n",
    "thrill.foreach(s => print(s))"
   ]
  },
  {
   "cell_type": "code",
   "execution_count": null,
   "metadata": {},
   "outputs": [],
   "source": [
    "//打印每个元素第二种方法\n",
    "thrill.foreach(print)"
   ]
  },
  {
   "cell_type": "code",
   "execution_count": null,
   "metadata": {},
   "outputs": [],
   "source": [
    "//返回首个元素\n",
    "thrill.head"
   ]
  },
  {
   "cell_type": "code",
   "execution_count": null,
   "metadata": {},
   "outputs": [],
   "source": [
    "//返回最后一个元素\n",
    "thrill.last"
   ]
  },
  {
   "cell_type": "code",
   "execution_count": null,
   "metadata": {},
   "outputs": [],
   "source": [
    "//返回除了最后一个元素外的其他元素\n",
    "thrill.init"
   ]
  },
  {
   "cell_type": "code",
   "execution_count": null,
   "metadata": {},
   "outputs": [],
   "source": [
    "//返回除了第一个元素外的其他元素\n",
    "thrill.tail"
   ]
  },
  {
   "cell_type": "code",
   "execution_count": null,
   "metadata": {},
   "outputs": [],
   "source": [
    "//判断列表thrill是否是空列表\n",
    "thrill.isEmpty"
   ]
  },
  {
   "cell_type": "code",
   "execution_count": null,
   "metadata": {},
   "outputs": [],
   "source": [
    "//列表thrill长度\n",
    "thrill.length"
   ]
  },
  {
   "cell_type": "code",
   "execution_count": null,
   "metadata": {},
   "outputs": [],
   "source": [
    "//对列表中所有的元素末尾怎加\"y\"\n",
    "thrill.map(s => s+\"y\")"
   ]
  },
  {
   "cell_type": "code",
   "execution_count": null,
   "metadata": {},
   "outputs": [],
   "source": [
    "//组合列表中所有的元素，用\", ”连接\n",
    "thrill.mkString(\", \")"
   ]
  },
  {
   "cell_type": "code",
   "execution_count": null,
   "metadata": {},
   "outputs": [],
   "source": [
    "//返回thrill的逆序\n",
    "thrill.reverse"
   ]
  },
  {
   "cell_type": "code",
   "execution_count": null,
   "metadata": {},
   "outputs": [],
   "source": [
    "//以首字母大小排序列表\n",
    "thrill.sortWith((s,t) => s.charAt(0).toLower < t.charAt(0).toLower)"
   ]
  }
 ],
 "metadata": {
  "kernelspec": {
   "display_name": "Scala",
   "language": "scala",
   "name": "scala"
  },
  "language_info": {
   "codemirror_mode": "text/x-scala",
   "file_extension": ".sc",
   "mimetype": "text/x-scala",
   "name": "scala",
   "nbconvert_exporter": "script",
   "version": "2.12.12"
  },
  "toc": {
   "base_numbering": 1,
   "nav_menu": {},
   "number_sections": true,
   "sideBar": true,
   "skip_h1_title": false,
   "title_cell": "Table of Contents",
   "title_sidebar": "Contents",
   "toc_cell": false,
   "toc_position": {},
   "toc_section_display": true,
   "toc_window_display": false
  }
 },
 "nbformat": 4,
 "nbformat_minor": 2
}
