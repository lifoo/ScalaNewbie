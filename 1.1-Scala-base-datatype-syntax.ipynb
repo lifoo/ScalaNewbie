{
 "cells": [
  {
   "source": [
    "## 使用Scala解释器\n"
   ],
   "cell_type": "markdown",
   "metadata": {}
  },
  {
   "source": [
    "1+2\n"
   ],
   "cell_type": "code",
   "metadata": {},
   "execution_count": 3,
   "outputs": [
    {
     "output_type": "execute_result",
     "data": {
      "text/plain": [
       "\u001b[36mres2\u001b[39m: \u001b[32mInt\u001b[39m = \u001b[32m3\u001b[39m"
      ]
     },
     "metadata": {},
     "execution_count": 3
    }
   ]
  },
  {
   "source": [
    "## 定义变量\n",
    "这里msg的类型是推断出来的(type inference)，能够推算出那些不显示指定的类型。\n",
    "\n",
    "当scala能够帮推断类型的时候，通常来说我们最好让它帮我们推断类型，而不是在代码中到处写上那些不必要的，显示的类型标注。\n",
    "\n",
    "当然也可以显示的给出类型，既可以确保Scala推断出来符合你意图的类型，也能作为文档。"
   ],
   "cell_type": "markdown",
   "metadata": {}
  },
  {
   "cell_type": "code",
   "execution_count": 1,
   "metadata": {},
   "outputs": [
    {
     "output_type": "execute_result",
     "data": {
      "text/plain": [
       "\u001b[36mmsg\u001b[39m: \u001b[32mString\u001b[39m = \u001b[32m\"Hello, world!\"\u001b[39m\n",
       "\u001b[36mmsg2\u001b[39m: \u001b[32mString\u001b[39m = \u001b[32m\"Hello again, world!\"\u001b[39m\n",
       "\u001b[36mmsg3\u001b[39m: \u001b[32mString\u001b[39m = \u001b[32m\"Hello yet again, world!\"\u001b[39m"
      ]
     },
     "metadata": {},
     "execution_count": 1
    }
   ],
   "source": [
    "val msg = \"Hello, world!\"\n",
    "\n",
    "val msg2: java.lang.String = \"Hello again, world!\"\n",
    "\n",
    "//在Scala中，java.lang中的类型在Scala中可以直接用简称引用\n",
    "val msg3: String = \"Hello yet again, world!\""
   ]
  },
  {
   "source": [
    "## 定义函数\n",
    "函数定义以def开始，函数名是max，它接收两个Int型的参数，返回一个Int型的参数"
   ],
   "cell_type": "markdown",
   "metadata": {}
  },
  {
   "cell_type": "code",
   "execution_count": 1,
   "metadata": {},
   "outputs": [
    {
     "output_type": "execute_result",
     "data": {
      "text/plain": [
       "defined \u001b[32mfunction\u001b[39m \u001b[36mmax\u001b[39m\n",
       "\u001b[36mres0_1\u001b[39m: \u001b[32mInt\u001b[39m = \u001b[32m2\u001b[39m"
      ]
     },
     "metadata": {},
     "execution_count": 1
    }
   ],
   "source": [
    "def max(x:Int,y:Int): Int = {\n",
    "    if(x > y)\n",
    "        x\n",
    "    else\n",
    "        y\n",
    "}\n",
    "max(1,2)"
   ]
  },
  {
   "cell_type": "code",
   "execution_count": 1,
   "metadata": {},
   "outputs": [
    {
     "output_type": "stream",
     "name": "stderr",
     "text": [
      "(console):11:11 expected \")\"\nwhiletest([\"Scala is fun\"])\n          ^"
     ]
    },
    {
     "output_type": "error",
     "ename": "",
     "evalue": "",
     "traceback": [
      "(console):11:11 expected \")\"\nwhiletest([\"Scala is fun\"])\n          ^"
     ]
    }
   ],
   "source": [
    "def whiletest(args: Array[String]): Unit = {\n",
    "    var i = 0\n",
    "    while(i < args.length){\n",
    "        if(i!=0)\n",
    "            print(\" \")\n",
    "        print(args(i))\n",
    "        i +=1\n",
    "    }\n",
    "    println()\n",
    "}\n",
    "whiletest([\"Scala is fun\"])"
   ]
  },
  {
   "cell_type": "code",
   "execution_count": null,
   "metadata": {},
   "outputs": [],
   "source": []
  }
 ],
 "metadata": {
  "kernelspec": {
   "display_name": "Scala",
   "language": "scala",
   "name": "scala"
  },
  "language_info": {
   "codemirror_mode": "text/x-scala",
   "file_extension": ".sc",
   "mimetype": "text/x-scala",
   "name": "scala",
   "nbconvert_exporter": "script",
   "version": "2.12.12"
  },
  "toc": {
   "base_numbering": 1,
   "nav_menu": {},
   "number_sections": true,
   "sideBar": true,
   "skip_h1_title": false,
   "title_cell": "Table of Contents",
   "title_sidebar": "Contents",
   "toc_cell": false,
   "toc_position": {},
   "toc_section_display": true,
   "toc_window_display": false
  }
 },
 "nbformat": 4,
 "nbformat_minor": 2
}