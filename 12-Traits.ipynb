{
 "cells": [
  {
   "cell_type": "markdown",
   "id": "cba8b453",
   "metadata": {},
   "source": [
    "# 第12章 特质\n",
    "特质是Scala代码复用的基础单元。特质将方法和字段定义封装起来，然后通过将它们混入（mix in）类的方式来实现复用。它不同于类继承，类继承要求每个类都继承自一个（明确的）超类，而类可以同时混入任意数量的特质。本章将向你展示特质的工作原 理并给出两种最常见的适用场景：将“瘦”接口拓宽为“富”接口，以及定义可叠加的修改。本章还会展示如何使用Ordered特质，以及特质和其他语言中的 多重继承的对比。\n",
    "\n",
    "## 12.1 特质如何工作\n",
    "特质的定义跟类定义很像，除了关键字trait。参考示例12.1："
   ]
  },
  {
   "cell_type": "code",
   "execution_count": 23,
   "id": "10fef4c2",
   "metadata": {},
   "outputs": [
    {
     "data": {
      "text/plain": [
       "defined \u001b[32mtrait\u001b[39m \u001b[36mPhilosophical\u001b[39m"
      ]
     },
     "execution_count": 23,
     "metadata": {},
     "output_type": "execute_result"
    }
   ],
   "source": [
    "trait Philosophical {\n",
    "    def philosophize() = {\n",
    "        println(\"I consume memory, therefore I am!\")\n",
    "    }\n",
    "}"
   ]
  },
  {
   "cell_type": "markdown",
   "id": "6164dee3",
   "metadata": {},
   "source": [
    "该特质名为Philosophical。它并没有声明一个超类，因此跟类一样，有一个默认的超类AnyRef。它定义了一个名为philosophize的方法，这个方法是具体的。这是个简单的特质，只是为了展示特质的工作原理。\n",
    "\n",
    "一旦特质被定义好，我们就可以用extends或with关键字将它混入到类中。Scala程序员混入（mix in）特质，而不是从特质继承，因为混入特质跟其他许多编程语言中的多重继承有重要的区别。这个问题在12.6节还会详细探讨。举例来说，示例12.2展示了一个用extends混入了Philosophical特质的类："
   ]
  },
  {
   "cell_type": "code",
   "execution_count": 24,
   "id": "376e7132",
   "metadata": {},
   "outputs": [
    {
     "data": {
      "text/plain": [
       "defined \u001b[32mclass\u001b[39m \u001b[36mFrog\u001b[39m"
      ]
     },
     "execution_count": 24,
     "metadata": {},
     "output_type": "execute_result"
    }
   ],
   "source": [
    "class Frog extends Philosophical {\n",
    "    override def toString = \"green\"\n",
    "}"
   ]
  },
  {
   "cell_type": "markdown",
   "id": "f3f80a77",
   "metadata": {},
   "source": [
    "可以用extends关键字来混入特质，**在这种情况下隐式地继承了特质的超类**。例如，在示例12.2中，Frog类是AnyRef的子类（因为AnyRef是Philosophical的超类），并且混入了Philosophical。从特质继承的方法跟从超类继承的方法用起来一样。参考如下的例子："
   ]
  },
  {
   "cell_type": "code",
   "execution_count": 25,
   "id": "08c8dbd7",
   "metadata": {},
   "outputs": [
    {
     "name": "stdout",
     "output_type": "stream",
     "text": [
      "I consume memory, therefore I am!\n"
     ]
    },
    {
     "data": {
      "text/plain": [
       "\u001b[36mfrog\u001b[39m: \u001b[32mFrog\u001b[39m = green"
      ]
     },
     "execution_count": 25,
     "metadata": {},
     "output_type": "execute_result"
    }
   ],
   "source": [
    "val frog = new Frog\n",
    "\n",
    "frog.philosophize()"
   ]
  },
  {
   "cell_type": "markdown",
   "id": "92ee08da",
   "metadata": {},
   "source": [
    "**特质同时也定义了一个类型**。以下是一个Philosophical被用作类型的例子："
   ]
  },
  {
   "cell_type": "code",
   "execution_count": 26,
   "id": "4a487da6",
   "metadata": {},
   "outputs": [
    {
     "data": {
      "text/plain": [
       "\u001b[36mphil\u001b[39m: \u001b[32mPhilosophical\u001b[39m = green"
      ]
     },
     "execution_count": 26,
     "metadata": {},
     "output_type": "execute_result"
    }
   ],
   "source": [
    "val phil: Philosophical = frog"
   ]
  },
  {
   "cell_type": "code",
   "execution_count": 27,
   "id": "0ae28c33",
   "metadata": {},
   "outputs": [
    {
     "name": "stdout",
     "output_type": "stream",
     "text": [
      "I consume memory, therefore I am!\n"
     ]
    }
   ],
   "source": [
    "phil.philosophize()"
   ]
  },
  {
   "cell_type": "markdown",
   "id": "ec135307",
   "metadata": {},
   "source": [
    "这里phil的类型是Philosophical，这是一个特质。因此，**变量phil可以由任何混入了Philosophical的类的对象初始化**。\n",
    "如果想要将特质混入一个显式继承自某个超类的类，可以用extends来给出这个超类，并用with来混入特质。示例12.3给出了一个例子。如果你想混入多个特质，可以用with子句进行添加。例如，如果有一个HasLegs特质，可以像示例12.4中所展示的那样同时混入Philosophical和HasLegs特质。\n"
   ]
  },
  {
   "cell_type": "code",
   "execution_count": 28,
   "id": "5501025d",
   "metadata": {},
   "outputs": [
    {
     "name": "stdout",
     "output_type": "stream",
     "text": [
      "I consume memory, therefore I am!\n"
     ]
    },
    {
     "data": {
      "text/plain": [
       "defined \u001b[32mclass\u001b[39m \u001b[36mAnimal\u001b[39m\n",
       "defined \u001b[32mclass\u001b[39m \u001b[36mFrog\u001b[39m\n",
       "\u001b[36mfrog\u001b[39m: \u001b[32mFrog\u001b[39m = green"
      ]
     },
     "execution_count": 28,
     "metadata": {},
     "output_type": "execute_result"
    }
   ],
   "source": [
    "class Animal\n",
    "class Frog extends Animal with Philosophical {\n",
    "    override def toString = \"green\"\n",
    "}\n",
    "\n",
    "val frog = new Frog\n",
    "frog.philosophize()"
   ]
  },
  {
   "cell_type": "code",
   "execution_count": 29,
   "id": "c12caa9c",
   "metadata": {},
   "outputs": [
    {
     "data": {
      "text/plain": [
       "defined \u001b[32mclass\u001b[39m \u001b[36mAnimal\u001b[39m\n",
       "defined \u001b[32mtrait\u001b[39m \u001b[36mHasLegs\u001b[39m\n",
       "defined \u001b[32mclass\u001b[39m \u001b[36mFrog\u001b[39m"
      ]
     },
     "execution_count": 29,
     "metadata": {},
     "output_type": "execute_result"
    }
   ],
   "source": [
    "class Animal\n",
    "trait HasLegs\n",
    "class Frog extends Animal with Philosophical with HasLegs {\n",
    "    override def toString = \"green\"\n",
    "}"
   ]
  },
  {
   "cell_type": "markdown",
   "id": "31f85234",
   "metadata": {},
   "source": [
    "在目前为止的示例中，Frog类从 Philosophical特质继承了philosophize的实现。Frog也可以重写philosophize。重写的语法跟重写超类中声明的方法看上去一样。参考下面这个例子："
   ]
  },
  {
   "cell_type": "code",
   "execution_count": 30,
   "id": "d2c62dd2",
   "metadata": {},
   "outputs": [
    {
     "data": {
      "text/plain": [
       "defined \u001b[32mclass\u001b[39m \u001b[36mAnimal\u001b[39m\n",
       "defined \u001b[32mclass\u001b[39m \u001b[36mFrog\u001b[39m"
      ]
     },
     "execution_count": 30,
     "metadata": {},
     "output_type": "execute_result"
    }
   ],
   "source": [
    "class Animal\n",
    "class Frog extends Animal with Philosophical{\n",
    "    override def toString = \"green\"\n",
    "    override def philosophize() = {\n",
    "        println(\"It ain't easy being \" + toString + \"!\")\n",
    "    }\n",
    "}"
   ]
  },
  {
   "cell_type": "markdown",
   "id": "336df246",
   "metadata": {},
   "source": [
    "由于这个新的Frog定义仍然混入了Philosophical特质，仍然可以用同一个该类型的变量使用它。不过由于Frog重写了Philosophical的philosophize实现，当你调用这个方法时，将得到新的行为："
   ]
  },
  {
   "cell_type": "code",
   "execution_count": 31,
   "id": "fca730b3",
   "metadata": {},
   "outputs": [
    {
     "data": {
      "text/plain": [
       "\u001b[36mphrog\u001b[39m: \u001b[32mPhilosophical\u001b[39m = green"
      ]
     },
     "execution_count": 31,
     "metadata": {},
     "output_type": "execute_result"
    }
   ],
   "source": [
    "val phrog: Philosophical = new Frog"
   ]
  },
  {
   "cell_type": "code",
   "execution_count": 32,
   "id": "1a4e9212",
   "metadata": {},
   "outputs": [
    {
     "name": "stdout",
     "output_type": "stream",
     "text": [
      "It ain't easy being green!\n"
     ]
    }
   ],
   "source": [
    "phrog.philosophize()"
   ]
  },
  {
   "cell_type": "markdown",
   "id": "53a16de3",
   "metadata": {},
   "source": [
    "至此，你可能会总结（philosophize）出特质很像是拥有具体方法的Java接口，不过它们能做的实际上远不止这些。比方说，特质可以声明字段并保持状态。事实上，在特质定义中可以做任何在类定义中做的事，语法也完全相同，除了以下两种情况：\n",
    "首先，**特质不能有任何“类”参数（即那些传入类的主构造方法的参数）**。换句话说，虽然可以像这样定义一个类：\n"
   ]
  },
  {
   "cell_type": "code",
   "execution_count": 33,
   "id": "c3388924",
   "metadata": {},
   "outputs": [
    {
     "data": {
      "text/plain": [
       "defined \u001b[32mclass\u001b[39m \u001b[36mPoint\u001b[39m"
      ]
     },
     "execution_count": 33,
     "metadata": {},
     "output_type": "execute_result"
    }
   ],
   "source": [
    "class Point(x:Int, y:Int)"
   ]
  },
  {
   "cell_type": "code",
   "execution_count": 33,
   "id": "9dbb3e0e",
   "metadata": {},
   "outputs": [],
   "source": [
    "//trait NoPoint(x:Int,y:Int)//不能编译"
   ]
  },
  {
   "attachments": {
    "image.png": {
     "image/png": "[encoded data removed]"
    }
   },
   "cell_type": "markdown",
   "id": "38c1d7cc",
   "metadata": {},
   "source": [
    "你将在20.5节了解到如何绕过这个限制。\n",
    "\n",
    "另一个类和特质的区别在于**类中的super调用是静态绑定的，而在特质中super是动态绑定的**。如果在类中编写“super.toString”这样的代码，你会确切地知道实际调用的是哪一个实现。在你定义特质的时候并没有被定义。具体是哪个实现被调用，在每次该特质被混入到某个具体的类时，都会重新判定。这里super看上去有些奇特的行为是特质能实现可叠加修改（stackable modification）的关键，我们将在12.5节介绍这个概念。解析super调用的规则将在12.6节给出。\n",
    "## 12.2 瘦接口和富接口\n",
    "特质的一个主要用途是自动给类添加基于已有方法的新方法。也就是说，特质可以丰富一个瘦接口，让它成为富接口。\n",
    "\n",
    "瘦接口和富接口代表了我们在面向对象设计中经常面临的取舍，在接口实现者和使用者之间的权衡。富接口有很多方法，对调用方而言十分方便。使用者可以选择完全匹配他们需求的功能的方法。而瘦接口的方法较少，因而实现起来更容易。不过瘦接口的使用方需要编写更多的代码。由于可供选择的方法较少，他们可能被迫选择一个不那么匹配需求的方法，然后编写额外的代码来使用它。\n",
    "\n",
    "Java的接口通常都比较瘦。例如，Java 1.4引入的CharSequence接口就是一个对所有包含一系列字符的类似字符串的类的通用瘦接口。如下是以Scala视角看到的定义：\n",
    "![image.png](attachment:image.png)\n",
    "虽然 String类的大部分方法都适用于 CharSequence,Java的CharSequence接口仅声明了四个方法。而如果CharSequence接口包括了完整的String接口方法，又势必会给CharSequence的实现者带来巨大的负担。每个用Java实现CharSequence的程序员都需要多实现数十个方法。由于Scala的特质能包含具体方法，这让编写富接口变得方便得多。\n",
    "\n",
    "给特质添加具体方法让瘦接口和富接口之间的取舍变得严重倾向于富接口。不同于Java，给Scala特质添加具体方法是一次性的投入。你只需要在特质中实现这些方法一次，而不需要在每个混入该特质的类中重新实现一遍。因此，跟其他没有特质的语言相比，在Scala中实现的富接口的代价更小。\n",
    "\n",
    "要用特质来丰富某个接口，只需定义一个拥有为数不多的抽象方法（接口中瘦的部分）和可能数量很多的具体方法（这些具体方法基于那些抽象方法编写）的特质。然后，你就可以将这个增值（enrichment）特质混入到某个类，在类中实现接口中瘦的部分，最终得到一个拥有完整富接口实现的类。\n",
    "\n",
    "## 12.3 示例：矩形对象\n",
    "图形类库通常有许多不同的类来表示矩形。例如窗体、位图图片，以及用鼠标圈定的区域等。为了让这些矩形对象更加易于使用，我们的类库最好能提供一些坐标相关的查询，比如width、height、left、right、toLeft，等等。不过，存在很多这样的方法，有它们很好，但是对于类库编写者而言，在Java类库中为所有的矩形对象提供全部方法是个巨大的负担。作为对比，如果这样的类库是Scala编写的，类库作者就可以用特质来轻松地对所有想要这些功能的类加上这些便利方法。\n",
    "首先，可以设想一下不用特质的情况下，代码会是什么样的。应该会有某种基本的几何类，比如Point和Rectangle：\n"
   ]
  },
  {
   "cell_type": "code",
   "execution_count": 34,
   "id": "8a673103",
   "metadata": {},
   "outputs": [
    {
     "data": {
      "text/plain": [
       "defined \u001b[32mclass\u001b[39m \u001b[36mPoint\u001b[39m\n",
       "defined \u001b[32mclass\u001b[39m \u001b[36mRectangle\u001b[39m"
      ]
     },
     "execution_count": 34,
     "metadata": {},
     "output_type": "execute_result"
    }
   ],
   "source": [
    "class Point(val x: Int, val y: Int)\n",
    "class Rectangle(val topLeft: Point, val bottomRight: Point){\n",
    "    def left = topLeft.x\n",
    "    def right = bottomRight.x\n",
    "    def width = right - left\n",
    "    //以及更多方法\n",
    "}"
   ]
  },
  {
   "cell_type": "markdown",
   "id": "a092061e",
   "metadata": {},
   "source": [
    "这里的Rectangle类在主构造方法中接收两个point：分别表示左上角和右下角的坐标。它接下来实现了许多遍历方法，比如left、right和width，做法是对这两个坐标点执行简单的计算。\n",
    "\n",
    "图形库可能会有的另一个类是2D图形组件：\n"
   ]
  },
  {
   "cell_type": "code",
   "execution_count": 35,
   "id": "63bac641",
   "metadata": {},
   "outputs": [
    {
     "data": {
      "text/plain": [
       "defined \u001b[32mclass\u001b[39m \u001b[36mComponent\u001b[39m"
      ]
     },
     "execution_count": 35,
     "metadata": {},
     "output_type": "execute_result"
    }
   ],
   "source": [
    "abstract class Component {\n",
    "    def topLeft: Point\n",
    "    def bottomRight: Point\n",
    "    \n",
    "    def left = topLeft.x\n",
    "    def right = bottomRight.x\n",
    "    def width = right - left\n",
    "}"
   ]
  },
  {
   "cell_type": "markdown",
   "id": "bafc80b7",
   "metadata": {},
   "source": [
    "**注意两个类的left、right和width的定义完全一致**。对于任何其他表示矩形对象的类，除了细微差异外，这些方法也会是相同的。\n",
    "\n",
    "这些重复代码可以用增值特质来消除。这个特质将会包含两个抽象方法：一个返回对象左上角的坐标，另一个返回右下角的坐标。然后它可以提供所有其他几何查询相关方法的具体实现。示例12.5给出了样子：\n"
   ]
  },
  {
   "cell_type": "code",
   "execution_count": 36,
   "id": "c8a1c59a",
   "metadata": {},
   "outputs": [
    {
     "data": {
      "text/plain": [
       "defined \u001b[32mtrait\u001b[39m \u001b[36mRectangular\u001b[39m"
      ]
     },
     "execution_count": 36,
     "metadata": {},
     "output_type": "execute_result"
    }
   ],
   "source": [
    "trait Rectangular {\n",
    "    def topLeft: Point //这里使用了无参方法，见10.3节\n",
    "    def bottomRight: Point\n",
    "    \n",
    "    def left = topLeft.x\n",
    "    def right = bottomRight.x\n",
    "    def width = right - left\n",
    "}"
   ]
  },
  {
   "cell_type": "markdown",
   "id": "59094054",
   "metadata": {},
   "source": [
    "Component类可以混入这个特质来获取所有由Rectangular提供的几何查询方法："
   ]
  },
  {
   "cell_type": "code",
   "execution_count": 37,
   "id": "31df5686",
   "metadata": {},
   "outputs": [
    {
     "data": {
      "text/plain": [
       "defined \u001b[32mclass\u001b[39m \u001b[36mComponent\u001b[39m"
      ]
     },
     "execution_count": 37,
     "metadata": {},
     "output_type": "execute_result"
    }
   ],
   "source": [
    "abstract class Component extends Rectangular{\n",
    "    //其他方法\n",
    "}"
   ]
  },
  {
   "cell_type": "markdown",
   "id": "48d0eaec",
   "metadata": {},
   "source": [
    "同理，Rectangle自己也可以混入这个特质："
   ]
  },
  {
   "cell_type": "code",
   "execution_count": 38,
   "id": "f93b9f98",
   "metadata": {},
   "outputs": [
    {
     "data": {
      "text/plain": [
       "defined \u001b[32mclass\u001b[39m \u001b[36mRectangle\u001b[39m"
      ]
     },
     "execution_count": 38,
     "metadata": {},
     "output_type": "execute_result"
    }
   ],
   "source": [
    "class Rectangle(val topLeft: Point, val bottomRight: Point) extends Rectangular{\n",
    "    //其他方法\n",
    "}"
   ]
  },
  {
   "cell_type": "markdown",
   "id": "0a26ad06",
   "metadata": {},
   "source": [
    "有了这些定义，你就可以创建一个Rectangle并调用其几何查询方法，比如width和left："
   ]
  },
  {
   "cell_type": "code",
   "execution_count": 39,
   "id": "3751a14d",
   "metadata": {},
   "outputs": [
    {
     "data": {
      "text/plain": [
       "\u001b[36mrect\u001b[39m: \u001b[32mRectangle\u001b[39m = ammonite.$sess.cmd37$Helper$Rectangle@40d55621"
      ]
     },
     "execution_count": 39,
     "metadata": {},
     "output_type": "execute_result"
    }
   ],
   "source": [
    "val rect = new Rectangle(new Point(1,1),new Point(10,10))"
   ]
  },
  {
   "cell_type": "code",
   "execution_count": 41,
   "id": "6e2f348f",
   "metadata": {},
   "outputs": [
    {
     "data": {
      "text/plain": [
       "\u001b[36mres40\u001b[39m: \u001b[32mInt\u001b[39m = \u001b[32m1\u001b[39m"
      ]
     },
     "execution_count": 41,
     "metadata": {},
     "output_type": "execute_result"
    }
   ],
   "source": [
    "rect.left"
   ]
  },
  {
   "cell_type": "code",
   "execution_count": 42,
   "id": "ac79a818",
   "metadata": {},
   "outputs": [
    {
     "data": {
      "text/plain": [
       "\u001b[36mres41\u001b[39m: \u001b[32mInt\u001b[39m = \u001b[32m10\u001b[39m"
      ]
     },
     "execution_count": 42,
     "metadata": {},
     "output_type": "execute_result"
    }
   ],
   "source": [
    "rect.right"
   ]
  },
  {
   "cell_type": "code",
   "execution_count": 43,
   "id": "10cc64d0",
   "metadata": {},
   "outputs": [
    {
     "data": {
      "text/plain": [
       "\u001b[36mres42\u001b[39m: \u001b[32mInt\u001b[39m = \u001b[32m9\u001b[39m"
      ]
     },
     "execution_count": 43,
     "metadata": {},
     "output_type": "execute_result"
    }
   ],
   "source": [
    "rect.width"
   ]
  },
  {
   "attachments": {},
   "cell_type": "markdown",
   "id": "79776a23",
   "metadata": {},
   "source": [
    "## 12.4 Ordered特质\n",
    "\n",
    "比较（对象大小）是另一个富接口会带来便捷的领域。当你需要比较两个对象来对它们排序时，如果有这么一个方法可以调用来明确你要的比较，就会很方便。如果你 要的是“小于”，可以说<，而如果你要的是“小于等于”，可以说<=。如果用一个瘦的比较接口，可能只能用<方法，而有时可能需要编写 类似“（x < y） || （x == y）”这样的代码。而一个富接口可以提供所有常用的比较操作，这样你就可以直接写下如同“x <= y”这样的代码。\n",
    "\n",
    "在看Ordered的具体实现之前，设想一下没有它你需要怎么完成比较。假定你用第6章的Rational类，然后给它添加比较操作。你可能会做出类似这样的代码：[1]\n",
    "\n"
   ]
  },
  {
   "cell_type": "code",
   "execution_count": 49,
   "id": "81b908fd",
   "metadata": {},
   "outputs": [
    {
     "data": {
      "text/plain": [
       "defined \u001b[32mclass\u001b[39m \u001b[36mRational\u001b[39m"
      ]
     },
     "execution_count": 49,
     "metadata": {},
     "output_type": "execute_result"
    }
   ],
   "source": [
    "class Rational(n: Int, d: Int) {\n",
    "    def < (that: Rational) = \n",
    "        this.numer *that.denom < that.numer * this.denom\n",
    "    def > (that: Rational) = that < this\n",
    "    def <= (that: Rational) = (this < that) || (this == that)\n",
    "    def >= (that: Rational) = (this > that) || (this == that)\n",
    "\n",
    "  require(d != 0)\n",
    "\n",
    "  private val g = gcd(n.abs, d.abs)\n",
    "  val numer = n / g\n",
    "  val denom = d / g\n",
    "\n",
    "  def this(n: Int) = this(n, 1)\n",
    "\n",
    "  def + (that: Rational): Rational =\n",
    "    new Rational(\n",
    "      numer * that.denom + that.numer * denom,\n",
    "      denom * that.denom\n",
    "    )\n",
    "\n",
    "  def + (i: Int): Rational =\n",
    "    new Rational(numer + i * denom, denom)\n",
    "\n",
    "  def - (that: Rational): Rational =\n",
    "    new Rational(\n",
    "      numer * that.denom - that.numer * denom,\n",
    "      denom * that.denom\n",
    "    )\n",
    "\n",
    "  def - (i: Int): Rational =\n",
    "    new Rational(numer - i * denom, denom)\n",
    "\n",
    "  def * (that: Rational): Rational =\n",
    "    new Rational(numer * that.numer, denom * that.denom)\n",
    "\n",
    "  def * (i: Int): Rational =\n",
    "    new Rational(numer * i, denom)\n",
    "\n",
    "  def / (that: Rational): Rational =\n",
    "    new Rational(numer * that.denom, denom * that.numer)\n",
    "\n",
    "  def / (i: Int): Rational =\n",
    "    new Rational(numer, denom * i)\n",
    "\n",
    "  override def toString = numer + \"/\" + denom\n",
    "\n",
    "  private def gcd(a: Int, b: Int): Int = \n",
    "    if (b == 0) a else gcd(b, a % b)\n",
    "\n",
    "  override def equals(other: Any): Boolean =\n",
    "    other match {\n",
    "\n",
    "      case that: Rational =>\n",
    "        (that canEqual this) &&\n",
    "        numer == that.numer &&\n",
    "        denom == that.denom\n",
    "\n",
    "      case _ => false\n",
    "    }\n",
    "\n",
    "  def canEqual(other: Any): Boolean =\n",
    "    other.isInstanceOf[Rational]\n",
    "\n",
    "  override def hashCode: Int = (numer, denom).##\n",
    "\n",
    "}"
   ]
  },
  {
   "cell_type": "code",
   "execution_count": 50,
   "id": "da4d9b3b",
   "metadata": {},
   "outputs": [
    {
     "data": {
      "text/plain": [
       "\u001b[36mhalf\u001b[39m: \u001b[32mRational\u001b[39m = 1/2\n",
       "\u001b[36mthird\u001b[39m: \u001b[32mRational\u001b[39m = 1/3\n",
       "\u001b[36mres49_2\u001b[39m: \u001b[32mBoolean\u001b[39m = false\n",
       "\u001b[36mres49_3\u001b[39m: \u001b[32mBoolean\u001b[39m = true\n",
       "\u001b[36mres49_4\u001b[39m: \u001b[32mBoolean\u001b[39m = true\n",
       "\u001b[36mres49_5\u001b[39m: \u001b[32mBoolean\u001b[39m = false"
      ]
     },
     "execution_count": 50,
     "metadata": {},
     "output_type": "execute_result"
    }
   ],
   "source": [
    "val half = new Rational(1, 2)\n",
    "val third = new Rational(1, 3)\n",
    "\n",
    "half < third\n",
    "half > third\n",
    "half >= third\n",
    "half <= third"
   ]
  },
  {
   "cell_type": "markdown",
   "id": "e5c2cb81",
   "metadata": {},
   "source": [
    "这个类定义了四个比较操作符（<、>、<=和>=），这是个经典的展示出定义富接口代价的例子。首先，注意其中的三个比较操作符都 是基于第一个来定义的。例如，>被定义为<的取反，而<=按字面意思定义为“小于或等于”。接下来，注意所有的这三个方法对于任何其他 可以被比较的类来说都是一样的。对于有理数而言，在<=的语义方面，没有任何的不同。在比较的上下文中，<=总是被用来表示“小于或等于”。 总体来说，这个类里有相当多的样板代码，在其他实现了比较操作的类中不会与此有什么不同。\n",
    "\n",
    "这 个问题如此普遍，Scala提供了专门的特质来解决。这个特质叫作Ordered。使用的方式是将所有单独的比较方法替换成compare方法。 Ordered特质为你定义了<、>、<=和>=，这些方法都是基于你提供的compare来实现的。因此，Ordered特质 允许你只实现一个compare方法来增强某个类，让它拥有完整的比较操作。\n",
    "\n",
    "以下是用Ordered特质来对Rational定义比较操作的代码："
   ]
  },
  {
   "cell_type": "code",
   "execution_count": 51,
   "id": "baf2d0d1",
   "metadata": {},
   "outputs": [
    {
     "data": {
      "text/plain": [
       "defined \u001b[32mclass\u001b[39m \u001b[36mRational\u001b[39m"
      ]
     },
     "execution_count": 51,
     "metadata": {},
     "output_type": "execute_result"
    }
   ],
   "source": [
    "class Rational(n: Int, d: Int) extends Ordered[Rational] {\n",
    "  def compare(that: Rational) =\n",
    "    (this.numer * that.denom) - (that.numer * this.denom)\n",
    "\n",
    "  require(d != 0)\n",
    "\n",
    "  private val g = gcd(n.abs, d.abs)\n",
    "  val numer = n / g\n",
    "  val denom = d / g\n",
    "\n",
    "  def this(n: Int) = this(n, 1)\n",
    "\n",
    "  def + (that: Rational): Rational =\n",
    "    new Rational(\n",
    "      numer * that.denom + that.numer * denom,\n",
    "      denom * that.denom\n",
    "    )\n",
    "\n",
    "  def + (i: Int): Rational =\n",
    "    new Rational(numer + i * denom, denom)\n",
    "\n",
    "  def - (that: Rational): Rational =\n",
    "    new Rational(\n",
    "      numer * that.denom - that.numer * denom,\n",
    "      denom * that.denom\n",
    "    )\n",
    "\n",
    "  def - (i: Int): Rational =\n",
    "    new Rational(numer - i * denom, denom)\n",
    "\n",
    "  def * (that: Rational): Rational =\n",
    "    new Rational(numer * that.numer, denom * that.denom)\n",
    "\n",
    "  def * (i: Int): Rational =\n",
    "    new Rational(numer * i, denom)\n",
    "\n",
    "  def / (that: Rational): Rational =\n",
    "    new Rational(numer * that.denom, denom * that.numer)\n",
    "\n",
    "  def / (i: Int): Rational =\n",
    "    new Rational(numer, denom * i)\n",
    "\n",
    "  override def toString = numer + \"/\" + denom\n",
    "\n",
    "  private def gcd(a: Int, b: Int): Int = \n",
    "    if (b == 0) a else gcd(b, a % b)\n",
    "\n",
    "  override def equals(other: Any): Boolean =\n",
    "    other match {\n",
    "\n",
    "      case that: Rational =>\n",
    "        (that canEqual this) &&\n",
    "        numer == that.numer &&\n",
    "        denom == that.denom\n",
    "\n",
    "      case _ => false\n",
    "    }\n",
    "\n",
    "  def canEqual(other: Any): Boolean =\n",
    "    other.isInstanceOf[Rational]\n",
    "\n",
    "  override def hashCode: Int = (numer, denom).##\n",
    "\n",
    "}"
   ]
  },
  {
   "cell_type": "code",
   "execution_count": 53,
   "id": "9b497551",
   "metadata": {},
   "outputs": [
    {
     "data": {
      "text/plain": [
       "\u001b[36mhalf\u001b[39m: \u001b[32mRational\u001b[39m = 1/2\n",
       "\u001b[36mthird\u001b[39m: \u001b[32mRational\u001b[39m = 1/3\n",
       "\u001b[36mres52_2\u001b[39m: \u001b[32mBoolean\u001b[39m = false\n",
       "\u001b[36mres52_3\u001b[39m: \u001b[32mBoolean\u001b[39m = true\n",
       "\u001b[36mres52_4\u001b[39m: \u001b[32mBoolean\u001b[39m = true\n",
       "\u001b[36mres52_5\u001b[39m: \u001b[32mBoolean\u001b[39m = false"
      ]
     },
     "execution_count": 53,
     "metadata": {},
     "output_type": "execute_result"
    }
   ],
   "source": [
    "val half = new Rational(1, 2)\n",
    "val third = new Rational(1, 3)\n",
    "\n",
    "half < third\n",
    "half > third\n",
    "half >= third\n",
    "half <= third"
   ]
  },
  {
   "cell_type": "markdown",
   "id": "c72a014b",
   "metadata": {},
   "source": [
    "每当你需要实现一个按某种比较排序的类，你都应该考虑混入Ordered特质。如果你这样做了，将会提供给类的使用方一组丰富的比较方法。\n",
    "\n",
    "要小心Ordered特质并不会帮你定义equals方法，因为它做不到。这当中的问题在于用compare来实现equals需要检查传入对象的类型，**而由于（Java的）类型擦除机制，Ordered特质自己无法完成这个检查**。因此，你需要自己定义equals方法，哪怕你已经继承了Ordered。你 将在第30章读到更多相关内容。\n",
    "\n",
    "## 12.5 作为可叠加修改的特质\n",
    "\n",
    "现在你已经看过了特质的一个主要用途：将瘦接口转化成富接口。现在我们将转向另一个主要用途：为类提供可叠加的修改。特质让你修改类的方法，而它们的实现方式允许你将这些修改叠加起来。\n",
    "\n",
    "考虑这样一个例子，对某个整数队列叠加修改。这个队列有两个操作：put，将整数放入队列；get，将它们取出来。队列是先进先出的，所以get应该按照整数被放入队列的顺序返回这些整数。\n",
    "\n",
    "给定一个实现了这样一个队列的类，可以定义特质来执行如下这些修改：\n",
    "\n",
    "● Doubling：将所有放入队列的整数翻倍\n",
    "\n",
    "● Incrementing：将所有放入队列的整数加一\n",
    "\n",
    "● Filtering：从队列中去除负整数\n",
    "\n",
    "这三个特质代表了修改（modification），因为它们修改底下的队列类，而不是自己定义完整的队列类。这三个特质也是可叠加的（stackable）。可以从这三个特质中任意选择，将它们混入类，并得到一个带上了你选择的修改的新的类。\n",
    "\n",
    "示例12.6给出了一个抽象的IntQueue类。IntQueue有一个put方法将新的整数加入队列，以及一个g e t方法从队列中去除并返回整数。示例12.7给出了使用ArrayBuffer的IntQueue的基本实现。"
   ]
  },
  {
   "cell_type": "code",
   "execution_count": 54,
   "id": "ae0aca61",
   "metadata": {},
   "outputs": [
    {
     "data": {
      "text/plain": [
       "defined \u001b[32mclass\u001b[39m \u001b[36mIntQueue\u001b[39m"
      ]
     },
     "execution_count": 54,
     "metadata": {},
     "output_type": "execute_result"
    }
   ],
   "source": [
    "abstract class IntQueue {\n",
    "    def get(): Int\n",
    "    def put(x: Int)\n",
    "}"
   ]
  },
  {
   "cell_type": "code",
   "execution_count": 57,
   "id": "146a32ea",
   "metadata": {},
   "outputs": [
    {
     "data": {
      "text/plain": [
       "\u001b[32mimport \u001b[39m\u001b[36mscala.collection.mutable.ArrayBuffer\n",
       "\u001b[39m\n",
       "defined \u001b[32mclass\u001b[39m \u001b[36mBasicIntQueue\u001b[39m"
      ]
     },
     "execution_count": 57,
     "metadata": {},
     "output_type": "execute_result"
    }
   ],
   "source": [
    "import scala.collection.mutable.ArrayBuffer\n",
    "class BasicIntQueue extends IntQueue {\n",
    "    private val buf = new ArrayBuffer[Int]\n",
    "    def get() = buf.remove(0)\n",
    "    def put(x: Int) = {buf += x}\n",
    "}"
   ]
  },
  {
   "cell_type": "markdown",
   "id": "6e96dfa7",
   "metadata": {},
   "source": [
    "BasicIntQueue类用一个私有字段持有数组缓冲（array buffer）。get方法从缓冲的一端移除条目，而put方法向缓冲的另一端添加元素。这个实现使用起来是这样的："
   ]
  },
  {
   "cell_type": "code",
   "execution_count": 59,
   "id": "0c1a31a8",
   "metadata": {},
   "outputs": [
    {
     "data": {
      "text/plain": [
       "\u001b[36mqueue\u001b[39m: \u001b[32mBasicIntQueue\u001b[39m = ammonite.$sess.cmd56$Helper$BasicIntQueue@6cfefe39"
      ]
     },
     "execution_count": 59,
     "metadata": {},
     "output_type": "execute_result"
    }
   ],
   "source": [
    "val queue = new BasicIntQueue"
   ]
  },
  {
   "cell_type": "code",
   "execution_count": 60,
   "id": "bd70fe39",
   "metadata": {},
   "outputs": [],
   "source": [
    "queue.put(10)"
   ]
  },
  {
   "cell_type": "code",
   "execution_count": 61,
   "id": "d46346ab",
   "metadata": {},
   "outputs": [],
   "source": [
    "queue.put(20)"
   ]
  },
  {
   "cell_type": "code",
   "execution_count": 62,
   "id": "5bb21475",
   "metadata": {},
   "outputs": [
    {
     "data": {
      "text/plain": [
       "\u001b[36mres61\u001b[39m: \u001b[32mInt\u001b[39m = \u001b[32m10\u001b[39m"
      ]
     },
     "execution_count": 62,
     "metadata": {},
     "output_type": "execute_result"
    }
   ],
   "source": [
    "queue.get()"
   ]
  },
  {
   "cell_type": "code",
   "execution_count": 63,
   "id": "e7e0c606",
   "metadata": {},
   "outputs": [
    {
     "data": {
      "text/plain": [
       "\u001b[36mres62\u001b[39m: \u001b[32mInt\u001b[39m = \u001b[32m20\u001b[39m"
      ]
     },
     "execution_count": 63,
     "metadata": {},
     "output_type": "execute_result"
    }
   ],
   "source": [
    "queue.get()"
   ]
  },
  {
   "cell_type": "markdown",
   "id": "a48aad86",
   "metadata": {},
   "source": [
    "到目前为止很不错。现在我们来看看如何用特质修改这个行为。示例12.8给出了在放入队列时对整数翻倍的特质。Doubling特质有两个好玩儿的地方。**首先它声明了一个超类IntQueue。这个声明意味着这个特质只能被混入同样继承自IntQueue的类。因此，可以将Doubling混入 BasicIntQueue，但不能将它混入Rational。**"
   ]
  },
  {
   "cell_type": "code",
   "execution_count": 64,
   "id": "adf90939",
   "metadata": {},
   "outputs": [
    {
     "data": {
      "text/plain": [
       "defined \u001b[32mtrait\u001b[39m \u001b[36mDoubling\u001b[39m"
      ]
     },
     "execution_count": 64,
     "metadata": {},
     "output_type": "execute_result"
    }
   ],
   "source": [
    "trait Doubling extends IntQueue {\n",
    "    abstract override def put(x: Int) = {super.put(2*x)}\n",
    "}"
   ]
  },
  {
   "cell_type": "markdown",
   "id": "38e6df9e",
   "metadata": {},
   "source": [
    "第二个好玩儿的地方是该特质有在一个声明**为抽象的方法里做了一个super调用**。对于普通的类而言这样的调用是非法的，因为它们在运行时必定会失败。不过对于特质来说，这样的调用实际上可以成功。**由于特质中的super调用是动态绑定的，只要在给出了该方法具体定义的特质或类之后混入**， Doubling特质里的super调用就可以正常工作。\n",
    "\n",
    "对于实现可叠加修改的特质，这样的安排通常是需要的。为了告诉编译器你是特意这样做的，**必须将这样的方法标记为abstract override。这样的修饰符组合只允许用在特质的成员上，不允许用在类的成员上，它的含义是该特质必须混入某个拥有该方法具体定义的类中。**\n",
    "\n",
    "对于这样一个简单的特质而言，是不是有很多事情发生（在幕后）?！这个特质用起来是这样的："
   ]
  },
  {
   "cell_type": "code",
   "execution_count": null,
   "id": "f19dfa23",
   "metadata": {},
   "outputs": [],
   "source": []
  },
  {
   "cell_type": "code",
   "execution_count": null,
   "id": "610a8781",
   "metadata": {},
   "outputs": [],
   "source": []
  }
 ],
 "metadata": {
  "kernelspec": {
   "display_name": "Scala",
   "language": "scala",
   "name": "scala"
  },
  "language_info": {
   "codemirror_mode": "text/x-scala",
   "file_extension": ".scala",
   "mimetype": "text/x-scala",
   "name": "scala",
   "nbconvert_exporter": "script",
   "version": "2.12.11"
  }
 },
 "nbformat": 4,
 "nbformat_minor": 5
}
