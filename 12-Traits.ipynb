{
 "cells": [
  {
   "cell_type": "markdown",
   "id": "054d5ca4",
   "metadata": {},
   "source": [
    "# 第12章 特质\n",
    "特质是Scala代码复用的基础单元。特质将方法和字段定义封装起来，然后通过将它们混入（mix in）类的方式来实现复用。它不同于类继承，类继承要求每个类都继承自一个（明确的）超类，而类可以同时混入任意数量的特质。本章将向你展示特质的工作原 理并给出两种最常见的适用场景：将“瘦”接口拓宽为“富”接口，以及定义可叠加的修改。本章还会展示如何使用Ordered特质，以及特质和其他语言中的 多重继承的对比。\n",
    "\n",
    "## 12.1 特质如何工作\n",
    "特质的定义跟类定义很像，除了关键字trait。参考示例12.1："
   ]
  },
  {
   "cell_type": "code",
   "execution_count": 2,
   "id": "e792cec2",
   "metadata": {},
   "outputs": [
    {
     "data": {
      "text/plain": [
       "defined \u001b[32mtrait\u001b[39m \u001b[36mPhilosophical\u001b[39m"
      ]
     },
     "execution_count": 2,
     "metadata": {},
     "output_type": "execute_result"
    }
   ],
   "source": [
    "trait Philosophical {\n",
    "    def philosophize() = {\n",
    "        println(\"I consume memory, therefore I am!\")\n",
    "    }\n",
    "}"
   ]
  },
  {
   "cell_type": "markdown",
   "id": "f7ff7cf3",
   "metadata": {},
   "source": [
    "该特质名为Philosophical。它并没有声明一个超类，因此跟类一样，有一个默认的超类AnyRef。它定义了一个名为philosophize的方法，这个方法是具体的。这是个简单的特质，只是为了展示特质的工作原理。\n",
    "\n",
    "一旦特质被定义好，我们就可以用extends或with关键字将它混入到类中。Scala程序员混入（mix in）特质，而不是从特质继承，因为混入特质跟其他许多编程语言中的多重继承有重要的区别。这个问题在12.6节还会详细探讨。举例来说，示例12.2展示了一个用extends混入了Philosophical特质的类："
   ]
  },
  {
   "cell_type": "code",
   "execution_count": null,
   "id": "b3ec65b4",
   "metadata": {},
   "outputs": [],
   "source": []
  }
 ],
 "metadata": {
  "kernelspec": {
   "display_name": "Scala",
   "language": "scala",
   "name": "scala"
  },
  "language_info": {
   "codemirror_mode": "text/x-scala",
   "file_extension": ".scala",
   "mimetype": "text/x-scala",
   "name": "scala",
   "nbconvert_exporter": "script",
   "version": "2.12.11"
  }
 },
 "nbformat": 4,
 "nbformat_minor": 5
}
