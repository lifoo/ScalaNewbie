{
 "cells": [
  {
   "cell_type": "markdown",
   "metadata": {},
   "source": [
    "# 第14章 断言和测试\n",
    "\n",
    "[scalatest官网](https://www.scalatest.org)\n",
    "\n",
    "断言和测试是我们用来检查软件行为符合预期的两种重要手段。本章将向你展示用Scala编写和运行断言和测试的若干选择。\n"
   ]
  },
  {
   "cell_type": "code",
   "execution_count": 19,
   "metadata": {},
   "outputs": [
    {
     "data": {
      "text/plain": [
       "\u001b[32mimport \u001b[39m\u001b[36m$ivy.$                               \n",
       "\u001b[39m\n",
       "\u001b[32mimport \u001b[39m\u001b[36m$ivy.$                               \n",
       "\u001b[39m"
      ]
     },
     "execution_count": 19,
     "metadata": {},
     "output_type": "execute_result"
    }
   ],
   "source": [
    "//val path = System.getProperty(\"user.dir\") + \"/ref/load.sc\"\n",
    "//val module = ammonite.ops.Path(java.nio.file.FileSystems.getDefault().getPath(path))\n",
    "//interp.load.module(module)\n",
    "import $ivy.`org.scalatest::scalatest:3.2.9`\n",
    "import $ivy.`org.scalactic::scalactic:3.2.9`\n"
   ]
  },
  {
   "cell_type": "code",
   "execution_count": 20,
   "metadata": {},
   "outputs": [
    {
     "data": {
      "text/plain": [
       "\u001b[32mimport \u001b[39m\u001b[36morg.scalatest.funsuite.AnyFunSuite\u001b[39m"
      ]
     },
     "execution_count": 20,
     "metadata": {},
     "output_type": "execute_result"
    }
   ],
   "source": [
    "import org.scalatest.funsuite.AnyFunSuite"
   ]
  },
  {
   "cell_type": "markdown",
   "metadata": {},
   "source": [
    "## 14.1 断言\n",
    "\n",
    "在Scala中，断言的写法是对预定义方法assert的调用。[1]如 果condition不满足，表达式assert（condition）将抛出AssertionError。assert还有另一个版本：assert（condition, explanation），首先检查condition是否满足，如果不满足，那么就抛出包含给定explanation的 AssertionError。explanation的类型为Any，因此可以传入任何对象。assert方法将调用explanation的 toString方法来获取一个字符串的解释放入AssertionError。例如，在示例10.13（205页）的Element类中名为 “above”的方法，可以在对widen的调用之后加入一行断言来确保被加宽的（两个）元素具有相同的宽度。参考示例14.1。"
   ]
  },
  {
   "cell_type": "code",
   "execution_count": 33,
   "metadata": {},
   "outputs": [
    {
     "data": {
      "text/plain": [
       "\u001b[32mimport \u001b[39m\u001b[36mElement.elem\n",
       "  \n",
       "\u001b[39m\n",
       "defined \u001b[32mclass\u001b[39m \u001b[36mElement\u001b[39m\n",
       "defined \u001b[32mobject\u001b[39m \u001b[36mElement\u001b[39m\n",
       "defined \u001b[32mclass\u001b[39m \u001b[36mArrayElement\u001b[39m\n",
       "defined \u001b[32mclass\u001b[39m \u001b[36mLineElement\u001b[39m\n",
       "defined \u001b[32mclass\u001b[39m \u001b[36mUniformElement\u001b[39m"
      ]
     },
     "execution_count": 33,
     "metadata": {},
     "output_type": "execute_result"
    }
   ],
   "source": [
    "import Element.elem\n",
    "  \n",
    "abstract class Element {\n",
    "\n",
    "    def contents: Array[String]\n",
    "\n",
    "    def width: Int =\n",
    "      if (height == 0) 0 else contents(0).length\n",
    "\n",
    "    def height: Int = contents.length\n",
    "\n",
    "    def above(that: Element): Element = {\n",
    "      val this1 = this widen that.width\n",
    "      val that1 = that widen this.width\n",
    "      assert(this1.width == that1.width)\n",
    "      elem(this.contents ++ that.contents)        \n",
    "    }\n",
    "\n",
    "  \n",
    "    def beside(that: Element): Element =\n",
    "      elem(\n",
    "        for (\n",
    "          (line1, line2) <- this.contents zip that.contents\n",
    "        ) yield line1 + line2\n",
    "      )\n",
    "    \n",
    "  private def widen(w: Int): Element =\n",
    "    if (w <= width) \n",
    "      this \n",
    "    else { \n",
    "      val left = elem(' ', (w - width) / 2, height) \n",
    "      var right = elem(' ', w - width - left.width, height) \n",
    "      left beside this beside right \n",
    "    } ensuring (w <= _.width)\n",
    "\n",
    "  \n",
    "    override def toString = contents mkString \"\\n\"\n",
    "  }\n",
    "\n",
    "  object Element {\n",
    "  \n",
    "    def elem(contents: Array[String]): Element = \n",
    "      new ArrayElement(contents)\n",
    "  \n",
    "    def elem(chr: Char, width: Int, height: Int): Element = \n",
    "      new UniformElement(chr, width, height)\n",
    "  \n",
    "    def elem(line: String): Element = \n",
    "      new LineElement(line)\n",
    "  }\n",
    "\n",
    "  class ArrayElement(conts: Array[String]) extends Element {\n",
    "    def contents: Array[String] = conts\n",
    "  }\n",
    "\n",
    "  class LineElement(s: String) extends ArrayElement(Array(s)) {\n",
    "    override def width = s.length\n",
    "    override def height = 1\n",
    "  }\n",
    "\n",
    "  class UniformElement(\n",
    "    ch: Char, \n",
    "    override val width: Int,\n",
    "    override val height: Int \n",
    "  ) extends Element {\n",
    "    private val line = ch.toString * width\n",
    "    def contents = Array.fill(height)(line)\n",
    "  }\n"
   ]
  },
  {
   "cell_type": "markdown",
   "metadata": {},
   "source": [
    "ensuring 这个方法可以被用于任何结果类型，这得益于一个隐式转换。虽然这段代码看上去调用的是widen结果的ensuring方法，实际上调用的是某个可以从 Element隐式转换得到的类型的ensuring方法。该方法接收一个参数，这是一个接收结果类型参数并返回Boolean的前提条件函数。 ensuring所做的，就是把计算结果传递给这个前提条件函数。如果前提条件函数返回true，那么ensuring就正常返回结果；如果前提条件返回 false，那么ensuring将抛出AssertionError。\n",
    "\n",
    "在本例中，前提条件函数是“w <= \\_.width”。**这里的下画线是传入该函数的入参的占位符，即调用widen方法的结果**：一个Element。如果作为w传入widen方法的宽度小于 或等于结果Element的width，这个前提条件函数将得到true的结果，这样ensuring就会返回被调用的那个Element结果。由于这是 widen方法的最后一个表达式，widen本身的结果也就是这个Element了。\n",
    "\n",
    "断言可以用JVM的命令行参数-e a和-d a来分别打开或关闭。打开时，断言就像是一个个小测试，用的是运行时得到的真实数据。在本章剩余的部分，我们将把精力集中在如何编写外部测试上，这些测试自己提供测试数据，并且独立于应用程序执行。\n",
    "\n",
    "## 14.2 用Scala写测试\n",
    "\n",
    "用Scala写测试，有很多选择，从已被广泛认可的Java工具，比如JUnit和TestNG，到用Scala编写的工具，比如ScalaTest、specs2和ScalaCheck。在本章剩余部分，我们将快速带你了解这些工具。我们从ScalaTest开始。\n",
    "\n",
    "ScalaTest是最灵活的Scala测试框架：可以很容易地定制它来解决不同的问题。\n",
    "\n",
    "ScalaTest的灵活性意味着团队可以使用任何最能满足他们需求的测试风格。例如，对于熟悉JUnit的团队，FunSuite风格是最舒适和熟悉的。参考示例14.3。"
   ]
  },
  {
   "cell_type": "code",
   "execution_count": 34,
   "metadata": {},
   "outputs": [
    {
     "data": {
      "text/plain": [
       "\u001b[32mimport \u001b[39m\u001b[36morg.scalatest.funsuite.AnyFunSuite\n",
       "\u001b[39m\n",
       "\u001b[32mimport \u001b[39m\u001b[36mElement.elem\n",
       "\u001b[39m\n",
       "defined \u001b[32mclass\u001b[39m \u001b[36mElementSuite\u001b[39m"
      ]
     },
     "execution_count": 34,
     "metadata": {},
     "output_type": "execute_result"
    }
   ],
   "source": [
    "import org.scalatest.funsuite.AnyFunSuite\n",
    "import Element.elem\n",
    "class ElementSuite extends AnyFunSuite {\n",
    "    test(\"elem result should have passed width\"){\n",
    "        val ele = elem('x',2,3)\n",
    "        assert(ele.width == 2)\n",
    "    }\n",
    "}"
   ]
  },
  {
   "cell_type": "markdown",
   "metadata": {},
   "source": [
    "ScalaTest的核心概念是套件（suite），即测试的集合。所谓的测试（test）可以是任何带有名称，可以被启动，并且要么成功，要么失败，要么被暂停，要么被取消的代码。在ScalaTest中，Suite特质是核心组合单元。Suite声明了一组“生命周期”方法，定义了运行测试的默认方式，我们也可以重写这些方法来对测试的编写和运行进行定制。\n",
    "\n",
    "ScalaTest提供了风格特质（style trait），这些特质扩展Suite并重写了生命周期方法来支持不同的测试风格。它还提供了混入特质（mixin trait），这些特质重写了生命周期方法来满足特定的测试需要。可以组合Suite的风格和混入特质来定义测试类，以及通过编写Suite实例来定义测试套件。\n",
    "\n",
    "示例14.3中的测试类扩展自FunSuite，这就是风格特质的一个例子。FunSuite中的“Fun”指的是函数；而“test”是定义在FunSuite中的一个方法，该方法被ElementSuite的主构造方法调用。可以在圆括号中用字符串给出测试的名称，并在花括号中给出具体的测试代码。测试代码是一个以传名参数传入test的函数，test将这个函数登记下来，稍后执行。\n",
    "\n",
    "ScalaTest已经被集成进常见的构建工具（比如sbt和Maven）和IDE（比如IntelliJ IDEA和Eclipse）。也可以通过ScalaTest的Runner应用程序直接运行Suite，或者在Scala解释器中简单地调用它的execute方法。比如：\n"
   ]
  },
  {
   "cell_type": "code",
   "execution_count": 29,
   "metadata": {},
   "outputs": [
    {
     "name": "stdout",
     "output_type": "stream",
     "text": [
      "\u001b[32mcmd26$Helper$ElementSuite:\u001b[0m\n",
      "\u001b[32m- elem result should have passed width\u001b[0m\n"
     ]
    }
   ],
   "source": [
    "(new ElementSuite).execute()"
   ]
  },
  {
   "cell_type": "markdown",
   "metadata": {},
   "source": [
    "ScalaTest的所有风格，包括FunSuite在内，都被设计为鼓励编写专注的、带有描述性名称的测试。不仅如此，所有的风格都会生成规格说明书般的输出，方便在干系人之间交流。你所选择的风格只规定了你的测试代码长成什么样，不论你选择什么样的风格，ScalaTest的运行机制都始终保持一致。[2]"
   ]
  },
  {
   "cell_type": "markdown",
   "metadata": {},
   "source": [
    "## 14.3 翔实的失败报告\n",
    "示例14.3中的测试尝试去创建一个宽度为2的元素，并断言产出的元素的宽度的确为2。如果这个断言失败了，失败报告就会包括文件名和该断言所在的行号，以及一条翔实的错误消息：\n"
   ]
  },
  {
   "cell_type": "code",
   "execution_count": 35,
   "metadata": {},
   "outputs": [
    {
     "data": {
      "text/plain": [
       "\u001b[36mwidth\u001b[39m: \u001b[32mInt\u001b[39m = \u001b[32m3\u001b[39m"
      ]
     },
     "execution_count": 35,
     "metadata": {},
     "output_type": "execute_result"
    }
   ],
   "source": [
    "val width = 3"
   ]
  },
  {
   "cell_type": "code",
   "execution_count": 37,
   "metadata": {},
   "outputs": [
    {
     "ename": "",
     "evalue": "",
     "output_type": "error",
     "traceback": [
      "\u001b[31mjava.lang.AssertionError: assertion failed\u001b[39m\n  scala.Predef$.assert(\u001b[32mPredef.scala\u001b[39m:\u001b[32m265\u001b[39m)\n  ammonite.$sess.cmd36$Helper.<init>(\u001b[32mcmd36.sc\u001b[39m:\u001b[32m1\u001b[39m)\n  ammonite.$sess.cmd36$.<clinit>(\u001b[32mcmd36.sc\u001b[39m:\u001b[32m7\u001b[39m)"
     ]
    }
   ],
   "source": [
    "assert(width == 2)"
   ]
  },
  {
   "cell_type": "markdown",
   "metadata": {},
   "source": [
    "为了在断言失败时提供描述性的错误消息，ScalaTest会在编译时分析传入每次assert调用的表达式。如果你想要看到更详细的关于断言失败的信息，可以使用ScalaTest的DiagrammedAssertions，其错误消息会显示传入assert的表达式的一张示意图："
   ]
  },
  {
   "cell_type": "code",
   "execution_count": null,
   "metadata": {},
   "outputs": [],
   "source": []
  }
 ],
 "metadata": {
  "kernelspec": {
   "display_name": "Scala",
   "language": "scala",
   "name": "scala"
  },
  "language_info": {
   "codemirror_mode": "text/x-scala",
   "file_extension": ".sc",
   "mimetype": "text/x-scala",
   "name": "scala",
   "nbconvert_exporter": "script",
   "version": "2.13.4"
  }
 },
 "nbformat": 4,
 "nbformat_minor": 5
}
