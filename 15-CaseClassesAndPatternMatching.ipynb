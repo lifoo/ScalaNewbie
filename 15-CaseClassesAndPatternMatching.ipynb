{
 "cells": [
  {
   "cell_type": "markdown",
   "id": "ea7d5e4b-3efb-46e1-a016-d0c98807eff4",
   "metadata": {},
   "source": [
    "# 第15章 样例类和模式匹配\n",
    "\n",
    "本章将介绍样例类（case class）和模式匹配（pattern matching），这组孪生的语法结构为我们编写规则的、未封装的数据结构提供支持。这两个语法结构对于表达树形的递归数据尤其有用。\n",
    "\n",
    "如果你之前曾用过函数式语言编程，你也许已经知道什么是模式匹配，不过样例类对你来说是新的概念。**样例类是Scala用来对对象进行模式匹配而并不需要大量的样板代码的方式**。笼统地说，你要做的就是对那些你希望能做模式匹配的类加上一个case关键字。\n",
    "\n",
    "本章将从一个简单的样例类和模式匹配的例子开始。然后依次介绍Scala支持的各种模式，探讨密封类（sealed class），讨论Option类型，并展示语言中某些不那么明显地使用到模式匹配的地方。"
   ]
  },
  {
   "cell_type": "markdown",
   "id": "f541cd0f-a1ab-48cd-a559-fdca406e9f6b",
   "metadata": {},
   "source": [
    "## 15.1 一个简单的例子\n",
    "\n",
    "在深入探讨模式匹配的所有规则和细节之前，有必要先看一个简单的例子，好让我们明白模式匹配大概是做什么的。假定你需要编写一个操作算术表达式的类库，可能这个类库是你正在设计的某个领域特性语言（DSL）的一部分。\n",
    "\n",
    "解决这个问题的第一步是定义输入数据。为保持简单，我们将注意力集中在由变量、数，以及一元和二元操作符组成的算术表达式上。用Scala的类层次结构来表达，如示例15.1所示。"
   ]
  },
  {
   "cell_type": "code",
   "execution_count": 1,
   "id": "d27fbc7d-ee79-4052-abc3-f6fa9971f97c",
   "metadata": {},
   "outputs": [],
   "source": [
    "interp.configureCompiler(_.settings.nowarnings.value = false)"
   ]
  },
  {
   "cell_type": "code",
   "execution_count": 2,
   "id": "75d733a3-f4fe-44b7-a223-ce95519f875c",
   "metadata": {},
   "outputs": [
    {
     "data": {
      "text/plain": [
       "defined \u001b[32mclass\u001b[39m \u001b[36mExpr\u001b[39m\n",
       "defined \u001b[32mclass\u001b[39m \u001b[36mVar\u001b[39m\n",
       "defined \u001b[32mclass\u001b[39m \u001b[36mNumber\u001b[39m\n",
       "defined \u001b[32mclass\u001b[39m \u001b[36mUnOp\u001b[39m\n",
       "defined \u001b[32mclass\u001b[39m \u001b[36mBinOp\u001b[39m"
      ]
     },
     "execution_count": 2,
     "metadata": {},
     "output_type": "execute_result"
    }
   ],
   "source": [
    "abstract class Expr\n",
    "case class Var(name: String) extends Expr\n",
    "case class Number(num: Double) extends Expr\n",
    "case class UnOp(operator: String, arg: Expr) extends Expr\n",
    "case class BinOp(operator: String, left: Expr, right: Expr) extends Expr"
   ]
  },
  {
   "cell_type": "markdown",
   "id": "6189afda-a73c-499b-9600-d3147c12fed7",
   "metadata": {},
   "source": [
    "这个层次结构包括一个抽象的基类Expr和四个子类，每一个都表示我们要考虑的一种表达式。[1]所有五个类的定义体都是空的。如之前提到的那样，Scala允许我们省去空定义体的花括号，即class C跟class C{}是相同的。\n",
    "\n",
    "样例类\n",
    "\n",
    "示例15.1中另一个值得注意的点是每个子类都有一个case修饰符。带有这种修饰符的类称作样例类（case class）。用上这个修饰符会让Scala编译器对我们的类添加一些语法上的便利。\n",
    "\n",
    "**首先，它会添加一个跟类同名的工厂方法**。这意味着我们可以用Var（“x”）来构造一个Var对象，而不用稍长版本的new Var（“x”）："
   ]
  },
  {
   "cell_type": "code",
   "execution_count": 3,
   "id": "4f2dcb65-1e70-4013-8352-e6fb3e54321f",
   "metadata": {},
   "outputs": [
    {
     "data": {
      "text/plain": [
       "\u001b[36mv\u001b[39m: \u001b[32mVar\u001b[39m = \u001b[33mVar\u001b[39m(name = \u001b[32m\"x\"\u001b[39m)"
      ]
     },
     "execution_count": 3,
     "metadata": {},
     "output_type": "execute_result"
    }
   ],
   "source": [
    "val v = Var(\"x\")"
   ]
  },
  {
   "cell_type": "markdown",
   "id": "46b95cf4-4a36-4815-8b38-12d4bacddc48",
   "metadata": {},
   "source": [
    "当你需要嵌套定义时，工厂方法尤为有用。由于代码中不再到处落满new关键字，可以一眼就看明白表达式的结构："
   ]
  },
  {
   "cell_type": "code",
   "execution_count": 4,
   "id": "e0331eda-b728-4625-8b4f-879c4f53ddca",
   "metadata": {},
   "outputs": [
    {
     "data": {
      "text/plain": [
       "\u001b[36mop\u001b[39m: \u001b[32mBinOp\u001b[39m = \u001b[33mBinOp\u001b[39m(\n",
       "  operator = \u001b[32m\"+\"\u001b[39m,\n",
       "  left = \u001b[33mNumber\u001b[39m(num = \u001b[32m1.0\u001b[39m),\n",
       "  right = \u001b[33mVar\u001b[39m(name = \u001b[32m\"x\"\u001b[39m)\n",
       ")"
      ]
     },
     "execution_count": 4,
     "metadata": {},
     "output_type": "execute_result"
    }
   ],
   "source": [
    "val op = BinOp(\"+\", Number(1), v)"
   ]
  },
  {
   "cell_type": "markdown",
   "id": "6c568b25-e154-4576-ab2d-65403ca93bb0",
   "metadata": {},
   "source": [
    "其次，第二个语法上的便利是**参数列表中的参数都隐式地获得了一个val前缀，因此它们会被当作字段处理**："
   ]
  },
  {
   "cell_type": "code",
   "execution_count": 5,
   "id": "91c8df54-3c44-4d92-b82a-539d47960cca",
   "metadata": {},
   "outputs": [
    {
     "data": {
      "text/plain": [
       "\u001b[36mres4\u001b[39m: \u001b[32mString\u001b[39m = \u001b[32m\"x\"\u001b[39m"
      ]
     },
     "execution_count": 5,
     "metadata": {},
     "output_type": "execute_result"
    }
   ],
   "source": [
    "v.name"
   ]
  },
  {
   "cell_type": "code",
   "execution_count": 6,
   "id": "d1f5272c-c072-4a46-8fcc-334fe66a1938",
   "metadata": {},
   "outputs": [
    {
     "data": {
      "text/plain": [
       "\u001b[36mres5\u001b[39m: \u001b[32mExpr\u001b[39m = \u001b[33mNumber\u001b[39m(num = \u001b[32m1.0\u001b[39m)"
      ]
     },
     "execution_count": 6,
     "metadata": {},
     "output_type": "execute_result"
    }
   ],
   "source": [
    "op.left"
   ]
  },
  {
   "cell_type": "markdown",
   "id": "86b97ea3-9a98-45d5-8e72-036735e650f0",
   "metadata": {},
   "source": [
    "再次，编译器会帮我们以“自然”的方式实现toString、hashCode和equals方法。这些方法分别会打印、哈希、比较包含类及所有入参的整棵树。由于Scala的==总是代理给equals方法，这意味着**以样例类表示的元素总是以结构化的方式做比较**："
   ]
  },
  {
   "cell_type": "code",
   "execution_count": 7,
   "id": "43473cff-586f-404a-a854-ce838f7159bf",
   "metadata": {},
   "outputs": [
    {
     "name": "stdout",
     "output_type": "stream",
     "text": [
      "BinOp(+,Number(1.0),Var(x))\n"
     ]
    }
   ],
   "source": [
    "println(op)"
   ]
  },
  {
   "cell_type": "code",
   "execution_count": 8,
   "id": "2f1e493e-e0d7-4e19-8b7d-c18bb047a2fb",
   "metadata": {},
   "outputs": [
    {
     "data": {
      "text/plain": [
       "\u001b[36mres7\u001b[39m: \u001b[32mBoolean\u001b[39m = true"
      ]
     },
     "execution_count": 8,
     "metadata": {},
     "output_type": "execute_result"
    }
   ],
   "source": [
    "op.right == Var(\"x\")"
   ]
  },
  {
   "cell_type": "markdown",
   "id": "73b2907e-4e80-4c95-9d69-f7355d2d9285",
   "metadata": {},
   "source": [
    "最后，编译器还会添加一个copy方法用于制作修改过的拷贝。这个方法可以用于制作除了一两个属性不同之外其余完全相同的该类的新实例。这个方法用到了带名字的参数和缺省参数（参考8.8节）。我们用带名字的参数给出想要做的修改。对于任何你没有给出的参数，都会用老对象中的原值。例如下面这段制作一个跟 op一样不过操作符改变了的操作的代码："
   ]
  },
  {
   "cell_type": "code",
   "execution_count": 9,
   "id": "769912d3-aa7b-4db7-9e45-e8af963a20ed",
   "metadata": {},
   "outputs": [
    {
     "data": {
      "text/plain": [
       "\u001b[36mres8\u001b[39m: \u001b[32mBinOp\u001b[39m = \u001b[33mBinOp\u001b[39m(\n",
       "  operator = \u001b[32m\"-\"\u001b[39m,\n",
       "  left = \u001b[33mNumber\u001b[39m(num = \u001b[32m1.0\u001b[39m),\n",
       "  right = \u001b[33mVar\u001b[39m(name = \u001b[32m\"x\"\u001b[39m)\n",
       ")"
      ]
     },
     "execution_count": 9,
     "metadata": {},
     "output_type": "execute_result"
    }
   ],
   "source": [
    "op.copy(operator = \"-\")"
   ]
  },
  {
   "cell_type": "markdown",
   "id": "36b7fe5d-f869-44e5-95d9-3fff2a5c0182",
   "metadata": {},
   "source": [
    "所有这些带来的是大量的便利（代价却很小）。你需要多写一个case修饰符，并且你的类和对象会变得大那么一点。之所以更大，是因为生成了额外的方法，并且对于构造方法的每个参数都隐式地添加了字段。不过，样例类最大的好处是它们支持模式匹配。\n",
    "\n",
    "**模式匹配**\n",
    "\n",
    "假定我们想简化前面展示的算术表达式。可用的简化规则非常多，以下只列举一部分：\n",
    "```scala\n",
    "    case UnOp(\"-\", UnOp(\"-\", e))  => e   // Double negation\n",
    "    case BinOp(\"+\", e, Number(0)) => e   // Adding zero\n",
    "    case BinOp(\"*\", e, Number(1)) => e   // Multiplying by one\n",
    "```\n",
    "\n",
    "用模式匹配的话，这些规则可以被看成是一个Scala编写的简化函数的核心逻辑，如示例15.2所示。我们可以这样来使用这个simplifyTop函数："
   ]
  },
  {
   "cell_type": "code",
   "execution_count": 10,
   "id": "e25ec9b0-395f-4da1-9d89-e6fde7140baf",
   "metadata": {},
   "outputs": [
    {
     "data": {
      "text/plain": [
       "defined \u001b[32mfunction\u001b[39m \u001b[36msimplifyTop\u001b[39m"
      ]
     },
     "execution_count": 10,
     "metadata": {},
     "output_type": "execute_result"
    }
   ],
   "source": [
    "def simplifyTop(expr: Expr): Expr = expr match {\n",
    "    case UnOp(\"-\", UnOp(\"-\", e))  => e   // Double negation\n",
    "    case BinOp(\"+\", e, Number(0)) => e   // Adding zero\n",
    "    case BinOp(\"*\", e, Number(1)) => e   // Multiplying by one\n",
    "    case _ => expr\n",
    "}"
   ]
  },
  {
   "cell_type": "code",
   "execution_count": 11,
   "id": "c8ac4d41-e01c-4751-b809-f0f9495f7a9d",
   "metadata": {},
   "outputs": [
    {
     "data": {
      "text/plain": [
       "\u001b[36mres10\u001b[39m: \u001b[32mExpr\u001b[39m = \u001b[33mVar\u001b[39m(name = \u001b[32m\"x\"\u001b[39m)"
      ]
     },
     "execution_count": 11,
     "metadata": {},
     "output_type": "execute_result"
    }
   ],
   "source": [
    "simplifyTop(UnOp(\"-\", UnOp(\"-\", Var(\"x\"))))"
   ]
  },
  {
   "cell_type": "code",
   "execution_count": 12,
   "id": "3fc7db52-a3aa-47a2-9c9b-91a8c731e317",
   "metadata": {},
   "outputs": [
    {
     "data": {
      "text/plain": [
       "\u001b[36mres11\u001b[39m: \u001b[32mExpr\u001b[39m = \u001b[33mVar\u001b[39m(name = \u001b[32m\"x1\"\u001b[39m)"
      ]
     },
     "execution_count": 12,
     "metadata": {},
     "output_type": "execute_result"
    }
   ],
   "source": [
    "simplifyTop(BinOp(\"+\", Var(\"x1\"), Number(0)))"
   ]
  },
  {
   "cell_type": "code",
   "execution_count": 13,
   "id": "c1ce0bd2-2792-4cb1-9fcc-96988a57c9ba",
   "metadata": {},
   "outputs": [
    {
     "data": {
      "text/plain": [
       "\u001b[36mres12\u001b[39m: \u001b[32mExpr\u001b[39m = \u001b[33mVar\u001b[39m(name = \u001b[32m\"x2\"\u001b[39m)"
      ]
     },
     "execution_count": 13,
     "metadata": {},
     "output_type": "execute_result"
    }
   ],
   "source": [
    "simplifyTop(BinOp(\"*\", Var(\"x2\"), Number(1)))"
   ]
  },
  {
   "cell_type": "code",
   "execution_count": 14,
   "id": "c11a820e-d9ba-41c0-ade6-398a0c51fa22",
   "metadata": {},
   "outputs": [
    {
     "data": {
      "text/plain": [
       "\u001b[36mres13\u001b[39m: \u001b[32mExpr\u001b[39m = \u001b[33mUnOp\u001b[39m(operator = \u001b[32m\"-\"\u001b[39m, arg = \u001b[33mVar\u001b[39m(name = \u001b[32m\"x\"\u001b[39m))"
      ]
     },
     "execution_count": 14,
     "metadata": {},
     "output_type": "execute_result"
    }
   ],
   "source": [
    "simplifyTop(UnOp(\"-\", Var(\"x\")))"
   ]
  },
  {
   "cell_type": "code",
   "execution_count": 15,
   "id": "b05b9af0-c62a-4e86-9cc0-c9957351edd6",
   "metadata": {},
   "outputs": [
    {
     "data": {
      "text/plain": [
       "\u001b[36mres14\u001b[39m: \u001b[32mExpr\u001b[39m = \u001b[33mNumber\u001b[39m(num = \u001b[32m2.0\u001b[39m)"
      ]
     },
     "execution_count": 15,
     "metadata": {},
     "output_type": "execute_result"
    }
   ],
   "source": [
    "simplifyTop(Number(2))"
   ]
  },
  {
   "attachments": {
    "%E5%9B%BE%E7%89%87-4.png": {
     "image/png": "[encoded data removed]"
    }
   },
   "cell_type": "markdown",
   "id": "b0671fbe-8bdd-4eab-ae4e-c62b6dc78b11",
   "metadata": {},
   "source": [
    "simplifyTop的右边由一个match表达式组成。match表达式对应Java的switch，不过match关键字出现在选择器表达式后面。换句话说，写成：\n",
    "`选择器 match {可选分支}`\n",
    "而不是：\n",
    "`switch (选择器) {可选分支}`\n",
    "模式匹配包含一系列以case关键字打头的可选分支（alternative）。每一个可选分支都包括一个模式（pattern）以及一个或多个表达式，如果模式匹配了，这些表达式就会被求值。箭头符=>用于将模式和表达式分开。\n",
    "\n",
    "一个match表达式的求值过程是按照模式给出的顺序逐一尝试的。第一个匹配上的模式被选中，跟在这个模式后面的表达式被执行。\n",
    "\n",
    "类似＂+＂和1这样的常量模式（constant pattern）可以匹配那些按照==的要求跟它们相等的值。而像e这样的变量模式（variable pattern）可以匹配任何值。匹配后，在右侧的表达式中，这个变量将指向这个匹配的值。在本例中，注意前三个可选分支都求值为e，一个在对应的模式中绑定的变量。通配模式（wildcard pattern），即_也匹配任何值，不过它并不会引入一个变量名来指向这个值。在示例15.2中，注意match是以一个缺省的什么都不做的case结尾的，这个缺省的case直接返回用于匹配的表达式expr。\n",
    "\n",
    "构造方法模式（constructor pattern）看上去就像`UnOp(\"-\",e)`。这个模式匹配所有类型为UnOp且首个入参匹配＂-＂而第二个入参匹配e的值。注意构造方法的入参本身也是模式。这允许我们用精简的表示法来编写有深度的模式。例如：`UnOp(\"-\",UnOp(\"-\",e))`\n",
    "想象一下如果用访问者模式来实现相同的功能要怎么做！[2]再想象一下如果用一长串if语句、类型测试和类型转换来实现相同的功能，几乎同样笨拙。\n",
    "\n",
    "对比match和switch\n",
    "\n",
    "match表达式可以被看作Java风格的switch的广义化。Java风格的switch可以很自然地用match表达式表达，其中每个模式都是常量且最后一个模式可以是一个通配模式（代表switch中的默认case）。\n",
    "\n",
    "不 过，我们需要记住三个区别：首先，Scala的match是一个表达式（也就是说它总是能得到一个值）。其次，Scala的可选分支不会贯穿（fall through）到下一个case。最后，如果没有一个模式匹配上，会抛出名为MatchError的异常。这意味着你需要确保所有的case被覆盖到， 哪怕这意味着你需要添加一个什么都不做的缺省case。\n",
    "\n",
    "参考示例 15.3。第二个case是必要的，因为没有它的话，match表达式对于任何非BinOp的expr入参都会抛出MatchError。在本例中，对于 第二个case，我们并没有给出任何代码，因此如果这个case被运行，什么都不会发生。两个case的结果都是unit值，即（），这也是整个 match表达式的结果。\n",
    "![%E5%9B%BE%E7%89%87-4.png](attachment:%E5%9B%BE%E7%89%87-4.png)\n",
    "<center>示例15.3 带有空的“默认”样例的模式匹配</center>"
   ]
  },
  {
   "cell_type": "code",
   "execution_count": 16,
   "id": "ace4a744-7245-48c5-bc8e-39331f929c5e",
   "metadata": {},
   "outputs": [
    {
     "data": {
      "text/plain": [
       "defined \u001b[32mfunction\u001b[39m \u001b[36msimplifyTop\u001b[39m"
      ]
     },
     "execution_count": 16,
     "metadata": {},
     "output_type": "execute_result"
    }
   ],
   "source": [
    "def simplifyTop(expr: Expr): Unit = expr match {\n",
    "    case BinOp(op, left, right) =>\n",
    "        println(expr + \" is a binary operation\")\n",
    "    case _ => \n",
    "}"
   ]
  },
  {
   "cell_type": "markdown",
   "id": "35ba736b-dfa3-4455-9262-a418fe507df9",
   "metadata": {},
   "source": [
    "## 15.2 模式的种类\n",
    "\n",
    "前面的例子快速地展示了几种模式，接下来花些时间详细来介绍每一种。\n",
    "\n",
    "模式的语法很容易理解，所以不必太担心。所有的模式跟相应的表达式看上去完全一样。例如，基于示例15.1的类层次结构，Var（x）这个模式将匹配任何变量表达式，并将x绑定成这个变量的名字。**作为表达式使用时**，Var（x）——完全相同的语法——将重新创建一个等效的对象，当然前提是x已经绑定到这个变量名。由于模式的语法是透明的，我们只需要关心能使用哪几种模式就对了。\n",
    "\n",
    "### 通配模式\n",
    "\n",
    "通配模式（\\_）会匹配任何对象。前面已经看到过通配模式用于缺省、捕获所有的可选路径，就像这样："
   ]
  },
  {
   "cell_type": "code",
   "execution_count": 17,
   "id": "3e48db74-7ad5-47f8-aa09-49f68f3c4e1d",
   "metadata": {},
   "outputs": [
    {
     "data": {
      "text/plain": [
       "defined \u001b[32mfunction\u001b[39m \u001b[36msimplifyTop\u001b[39m"
      ]
     },
     "execution_count": 17,
     "metadata": {},
     "output_type": "execute_result"
    }
   ],
   "source": [
    "def simplifyTop(expr: Expr): Unit = expr match {\n",
    "    case BinOp(op, left, right) =>\n",
    "        println(expr + \" is a binary operation\")\n",
    "    case _ => //处理默认case\n",
    "}"
   ]
  },
  {
   "cell_type": "markdown",
   "id": "bc1c2585-5ced-439b-9116-1f0113f5e5d5",
   "metadata": {},
   "source": [
    "通配模式还可以用来忽略某个对象中你并不关心的局部。例如，前面这个例子实际上并不需要关心二元操作的操作元是什么，它只是检查这个表达式是否是二元操作，仅此而已。因此，这段代码也完全可以用通配模式来表示BinOp的操作元，参考示例15.4："
   ]
  },
  {
   "cell_type": "code",
   "execution_count": 18,
   "id": "377d2cc9-91cc-4a03-9647-880408e5663b",
   "metadata": {},
   "outputs": [
    {
     "data": {
      "text/plain": [
       "defined \u001b[32mfunction\u001b[39m \u001b[36mcheckbinary\u001b[39m"
      ]
     },
     "execution_count": 18,
     "metadata": {},
     "output_type": "execute_result"
    }
   ],
   "source": [
    "def checkbinary(expr: Expr) {\n",
    "    expr match {\n",
    "        case BinOp(op, left, right) =>\n",
    "          println(expr + \" is a binary operation\")\n",
    "        case _ =>\n",
    "    }\n",
    "}"
   ]
  },
  {
   "cell_type": "markdown",
   "id": "c0697492-2113-48fe-bac4-1b8208cc52e7",
   "metadata": {},
   "source": [
    "<center>示例15.4 带有通配模式的模式匹配</center>"
   ]
  },
  {
   "cell_type": "markdown",
   "id": "e3f1193b-ab43-4163-bfc3-b9e3a91ce790",
   "metadata": {},
   "source": [
    "### 常量模式\n",
    "\n",
    "常量模式仅匹配自己。任何字面量都可以作为常量（模式）使用。例如，5、true和＂hello＂都是常量模式。同时，任何val或单例对象也可以被当作常量（模式）使用。例如，Nil这个单例对象能且仅能匹配空列表。示例15.5给出了常量模式的例子："
   ]
  },
  {
   "cell_type": "code",
   "execution_count": 19,
   "id": "aad6f9aa-201e-464a-8485-d4c20468b3ce",
   "metadata": {},
   "outputs": [
    {
     "data": {
      "text/plain": [
       "defined \u001b[32mfunction\u001b[39m \u001b[36mdescribe\u001b[39m"
      ]
     },
     "execution_count": 19,
     "metadata": {},
     "output_type": "execute_result"
    }
   ],
   "source": [
    "def describe(x: Any) = x match {\n",
    "    case 5 => \"five\"\n",
    "    case true => \"truth\"\n",
    "    case \"hello\" => \"hi!\"\n",
    "    case Nil => \"the empty list\"\n",
    "    case _ => \"something else\"\n",
    "}"
   ]
  },
  {
   "cell_type": "markdown",
   "id": "d2dc25b5-738b-4c16-adfd-c66bb3e57112",
   "metadata": {},
   "source": [
    "<center>示例15.5 带有常量模式的模式匹配</center>"
   ]
  },
  {
   "cell_type": "markdown",
   "id": "682d6d47-0a71-4f1b-adc3-0220dcbed4a6",
   "metadata": {},
   "source": [
    "以下是示例15.5中的模式在具体使用场景中的效果："
   ]
  },
  {
   "cell_type": "code",
   "execution_count": 20,
   "id": "85770fb1-0e22-4f6c-93c7-611a7db81ced",
   "metadata": {},
   "outputs": [
    {
     "data": {
      "text/plain": [
       "\u001b[36mres19\u001b[39m: \u001b[32mString\u001b[39m = \u001b[32m\"five\"\u001b[39m"
      ]
     },
     "execution_count": 20,
     "metadata": {},
     "output_type": "execute_result"
    }
   ],
   "source": [
    "describe(5)"
   ]
  },
  {
   "cell_type": "code",
   "execution_count": 21,
   "id": "81f140c9-dd7b-40db-8644-5375c83a0330",
   "metadata": {},
   "outputs": [
    {
     "data": {
      "text/plain": [
       "\u001b[36mres20\u001b[39m: \u001b[32mString\u001b[39m = \u001b[32m\"truth\"\u001b[39m"
      ]
     },
     "execution_count": 21,
     "metadata": {},
     "output_type": "execute_result"
    }
   ],
   "source": [
    "describe(true)"
   ]
  },
  {
   "cell_type": "code",
   "execution_count": 22,
   "id": "4396c7bf-2f50-4dc9-a69e-de5debe511ae",
   "metadata": {},
   "outputs": [
    {
     "data": {
      "text/plain": [
       "\u001b[36mres21\u001b[39m: \u001b[32mString\u001b[39m = \u001b[32m\"hi!\"\u001b[39m"
      ]
     },
     "execution_count": 22,
     "metadata": {},
     "output_type": "execute_result"
    }
   ],
   "source": [
    "describe(\"hello\")"
   ]
  },
  {
   "cell_type": "code",
   "execution_count": 23,
   "id": "e11f824a-9c68-4db5-a3f8-8946acf6024c",
   "metadata": {},
   "outputs": [
    {
     "data": {
      "text/plain": [
       "\u001b[36mres22\u001b[39m: \u001b[32mString\u001b[39m = \u001b[32m\"the empty list\"\u001b[39m"
      ]
     },
     "execution_count": 23,
     "metadata": {},
     "output_type": "execute_result"
    }
   ],
   "source": [
    "describe(Nil)"
   ]
  },
  {
   "cell_type": "code",
   "execution_count": 24,
   "id": "f6a2621d-c661-4d31-a4ba-aec7666593a4",
   "metadata": {},
   "outputs": [
    {
     "data": {
      "text/plain": [
       "\u001b[36mres23\u001b[39m: \u001b[32mString\u001b[39m = \u001b[32m\"something else\"\u001b[39m"
      ]
     },
     "execution_count": 24,
     "metadata": {},
     "output_type": "execute_result"
    }
   ],
   "source": [
    "describe(List(1,2,3))"
   ]
  },
  {
   "cell_type": "markdown",
   "id": "c4423e41-cb95-4fec-a479-f09ce2c291c1",
   "metadata": {},
   "source": [
    "### 变量模式\n",
    "\n",
    "变量模式匹配任何对象，这一点跟通配模式相同。**不过不同于通配模式的是，Scala将对应的变量绑定成匹配上的对象**。在绑定之后，你就可以用这个变量来对对象做进一步的处理。示例15.6给出了一个针对零的特例和针对所有其他值的缺省处理的模式匹配。缺省的case用到了变量模式，这样就给匹配的值赋予了一个名称，不论这个值是啥。"
   ]
  },
  {
   "cell_type": "code",
   "execution_count": 25,
   "id": "74eec038-8dfe-42cc-9ae1-bb983a5885d5",
   "metadata": {},
   "outputs": [
    {
     "data": {
      "text/plain": [
       "defined \u001b[32mfunction\u001b[39m \u001b[36mstartsWithZero\u001b[39m"
      ]
     },
     "execution_count": 25,
     "metadata": {},
     "output_type": "execute_result"
    }
   ],
   "source": [
    "def startsWithZero(expr: Any) = {\n",
    "    expr match {\n",
    "        case 0 => \"zero\"\n",
    "        case somethingElse => \"not zero: \" + somethingElse\n",
    "    }\n",
    "}"
   ]
  },
  {
   "cell_type": "code",
   "execution_count": 26,
   "id": "8375e25a-6731-4f97-b8b1-d808031a2926",
   "metadata": {},
   "outputs": [
    {
     "data": {
      "text/plain": [
       "\u001b[36mres25\u001b[39m: \u001b[32mString\u001b[39m = \u001b[32m\"zero\"\u001b[39m"
      ]
     },
     "execution_count": 26,
     "metadata": {},
     "output_type": "execute_result"
    }
   ],
   "source": [
    "startsWithZero(0)"
   ]
  },
  {
   "cell_type": "code",
   "execution_count": 27,
   "id": "8fcf5e9a-fb01-4c8e-9e80-3c7c5c058aad",
   "metadata": {},
   "outputs": [
    {
     "data": {
      "text/plain": [
       "\u001b[36mres26\u001b[39m: \u001b[32mString\u001b[39m = \u001b[32m\"not zero: 231\"\u001b[39m"
      ]
     },
     "execution_count": 27,
     "metadata": {},
     "output_type": "execute_result"
    }
   ],
   "source": [
    "startsWithZero(231)"
   ]
  },
  {
   "cell_type": "markdown",
   "id": "ca4d33d5-28b0-4d92-a58b-cafcde2d859e",
   "metadata": {},
   "source": [
    "<center>示例15.6 带有变量模式的模式匹配</center>"
   ]
  },
  {
   "cell_type": "markdown",
   "id": "9302fdd5-a05b-44dd-80b7-c8beaed7b88b",
   "metadata": {},
   "source": [
    "#### 变量还是常量？\n",
    "\n",
    "常量模式也可以有符号形式的名称。当我们把Nil当作一个模式的时候，实际上就是在用一个符号名称来引用常量。这里有一个相关的例子，这个模式匹配牵扯到常量E（2.71828...）和Pi（3.14159...）："
   ]
  },
  {
   "cell_type": "code",
   "execution_count": 28,
   "id": "96dd56bc-8117-4e02-8329-a1eeb25ceac5",
   "metadata": {},
   "outputs": [
    {
     "data": {
      "text/plain": [
       "\u001b[32mimport \u001b[39m\u001b[36mmath.{E, Pi}\n",
       "\u001b[39m\n",
       "\u001b[36mres27_1\u001b[39m: \u001b[32mString\u001b[39m = \u001b[32m\"OK\"\u001b[39m"
      ]
     },
     "execution_count": 28,
     "metadata": {},
     "output_type": "execute_result"
    }
   ],
   "source": [
    "import math.{E, Pi}\n",
    "E match {\n",
    "    case Pi => \"strange math? Pi = \" + Pi\n",
    "    case _ => \"OK\"\n",
    "}"
   ]
  },
  {
   "cell_type": "markdown",
   "id": "bea6f85c-cee3-45c3-a4a1-b51b7f9e36fc",
   "metadata": {},
   "source": [
    "跟我们预期的一样，E并不匹配Pi，因此“strange math”这个case没有被使用。\n",
    "\n",
    "Scala编译器是如何知道Pi是从scala.math包引入的常量，而不是一个代表选择器值本身的变量呢？Scala采用了一个简单的词法规则来区分：**一个以小写字母打头的简单名称会被当作模式变量处理**；所有其他引用都是常量。想看到具体的区别？可以给Pi创建一个小写的别名，然后尝试如下代码："
   ]
  },
  {
   "cell_type": "code",
   "execution_count": 29,
   "id": "85794236-7657-420a-ad72-d005b87afa66",
   "metadata": {},
   "outputs": [
    {
     "data": {
      "text/plain": [
       "\u001b[36mpi\u001b[39m: \u001b[32mDouble\u001b[39m = \u001b[32m3.141592653589793\u001b[39m\n",
       "\u001b[36mres28_1\u001b[39m: \u001b[32mString\u001b[39m = \u001b[32m\"strange math? Pi = 2.718281828459045\"\u001b[39m"
      ]
     },
     "execution_count": 29,
     "metadata": {},
     "output_type": "execute_result"
    }
   ],
   "source": [
    "val pi = math.Pi\n",
    "E match {\n",
    "    case pi => \"strange math? Pi = \" + pi\n",
    "}"
   ]
  },
  {
   "cell_type": "markdown",
   "id": "81d03cb9-7d0d-4f7f-adb6-7fac710d840a",
   "metadata": {},
   "source": [
    "在这里编译器甚至不允许我们添加一个默认的case。由于pi是变量模式，它将会匹配所有输入，因此不可能走到后面的case："
   ]
  },
  {
   "cell_type": "code",
   "execution_count": 30,
   "id": "0993d940-04bc-41c5-bb11-7cf0402c614e",
   "metadata": {},
   "outputs": [
    {
     "data": {
      "text/plain": [
       "\u001b[36mpi\u001b[39m: \u001b[32mDouble\u001b[39m = \u001b[32m3.141592653589793\u001b[39m\n",
       "\u001b[36mres29_1\u001b[39m: \u001b[32mString\u001b[39m = \u001b[32m\"strange math? Pi = 2.718281828459045\"\u001b[39m"
      ]
     },
     "execution_count": 30,
     "metadata": {},
     "output_type": "execute_result"
    }
   ],
   "source": [
    "val pi = math.Pi\n",
    "E match {\n",
    "    case pi => \"strange math? Pi = \" + pi\n",
    "    case _ => \"OK\"\n",
    "}//并没有报warning"
   ]
  },
  {
   "cell_type": "markdown",
   "id": "09e5d5a1-fde1-4ab2-850c-2e7e993903ad",
   "metadata": {},
   "source": [
    "如果需要，仍然可以用小写的名称来作为模式常量，有两个小技巧。首先，如果常量是某个对象的字段，可以在字段名前面加上限定词。例如，虽然pi是个变量模式，但this.pi或obj.pi是常量（模式），尽管它们以小写字母打头。如果这样不行（比如说pi可能是个局部变量），也可以用反引号将这个名称包起来。例如\\`pi\\`就能再次被编译器解读为一个常量，而不是变量了："
   ]
  },
  {
   "cell_type": "code",
   "execution_count": 31,
   "id": "f66c0045-254a-46a0-aaa6-746707334412",
   "metadata": {},
   "outputs": [
    {
     "data": {
      "text/plain": [
       "\u001b[36mpi\u001b[39m: \u001b[32mDouble\u001b[39m = \u001b[32m3.141592653589793\u001b[39m\n",
       "\u001b[36mres30_1\u001b[39m: \u001b[32mString\u001b[39m = \u001b[32m\"OK\"\u001b[39m"
      ]
     },
     "execution_count": 31,
     "metadata": {},
     "output_type": "execute_result"
    }
   ],
   "source": [
    "val pi = math.Pi\n",
    "E match {\n",
    "    case `pi` => \"strange math? Pi = \" + pi\n",
    "    case _ => \"OK\"\n",
    "}//并没有报warning"
   ]
  },
  {
   "cell_type": "markdown",
   "id": "af154d7a-cf98-4b6d-9967-bf9e813176b2",
   "metadata": {},
   "source": [
    "**你应该看到了，给标识符加上反引号在Scala中有两种用途，来帮助你从不寻常的代码场景中走出来。这里你看到的是如何将小写字母打头的标识符用作模式匹配中的常量。更早的时候，在6.10节，你还看到过反引号可以用来将关键字当作普通的标识符，比如访问Java的Thread类的静态方法yield,Thread.\\`yield\\`（）这段代码将yield当作标识符而不是关键字。**\n",
    "\n",
    "### 构造方法模式\n",
    "\n",
    "构造方法模式是真正体现出模式匹配威力的地方。一个构造方法模式看上去像这样：“BinOp（＂+＂, e, Number（0））”。它由一个名称（BinOp）和一组圆括号中的模式：＂+＂、e和Number（0）组成。假定这里的名称指定的是一个样例类，这样的一个模式将首先检查被匹配的对象是否是以这个名称命名的样例类的实例，然后再检查这个对象的构造方法参数是否匹配这些额外给出的模式。\n",
    "\n",
    "这些额外的模式意味着Scala的模式支持深度匹配（deep match）。这样的模式不仅检查给出的对象的顶层，还会进一步检查对象的内容是否匹配额外的模式要求。由于额外的模式也可能是构造方法模式，用它们来检查对象内部时可以到任意的深度。例如，示例15.7给出的模式将检查顶层的对象是BinOp，而它的第三个构造方法参数是一个Number，且这个Number的值字段为0。这是一个长度只有一行但深度有三层的模式。\n",
    "\n",
    "层次结构：\n",
    "> Binop\n",
    ">> Number()\n",
    ">>> 0"
   ]
  },
  {
   "cell_type": "code",
   "execution_count": 32,
   "id": "c43a838c-f1e1-4f83-8a23-cbf4c977d381",
   "metadata": {},
   "outputs": [
    {
     "data": {
      "text/plain": [
       "defined \u001b[32mfunction\u001b[39m \u001b[36mdeepmatch\u001b[39m"
      ]
     },
     "execution_count": 32,
     "metadata": {},
     "output_type": "execute_result"
    }
   ],
   "source": [
    "def deepmatch(expr: Expr) = {\n",
    "    expr match {\n",
    "      case BinOp(\"+\", e, Number(0)) => println(\"a deep match\")\n",
    "      case _ => println(\"Nothing\")\n",
    "    }\n",
    "}"
   ]
  },
  {
   "cell_type": "code",
   "execution_count": 33,
   "id": "efea7392-7d0c-4a90-bba3-c7e037e6ee2c",
   "metadata": {},
   "outputs": [
    {
     "name": "stdout",
     "output_type": "stream",
     "text": [
      "a deep match\n"
     ]
    }
   ],
   "source": [
    "deepmatch(BinOp(\"+\",Var(\"x\"),Number(0)))"
   ]
  },
  {
   "cell_type": "code",
   "execution_count": 34,
   "id": "8775d647-398b-487b-a0b3-ec9f7ad1ccef",
   "metadata": {},
   "outputs": [
    {
     "name": "stdout",
     "output_type": "stream",
     "text": [
      "Nothing\n"
     ]
    }
   ],
   "source": [
    "deepmatch(BinOp(\"+\",Var(\"x\"),Number(1)))"
   ]
  },
  {
   "cell_type": "markdown",
   "id": "39165622-9492-46ec-ba1d-4eb186f4da27",
   "metadata": {},
   "source": [
    "<center>示例15.7 带有构造方法模式的模式匹配</center>"
   ]
  },
  {
   "cell_type": "markdown",
   "id": "0b7aad8f-fca7-4853-b897-dbf3b3c26d91",
   "metadata": {},
   "source": [
    "### 序列模式\n",
    "\n",
    "就跟与样例类匹配一样，也可以跟序列类型做匹配，比如List或Array。使用的语法是相同的，不过现在可以在模式中给出任意数量的元素。示例15.8显示了一个以0开始的三元素列表的模式。"
   ]
  },
  {
   "cell_type": "code",
   "execution_count": 35,
   "id": "350f4d5b-fae1-46ad-897c-8337ff3f5778",
   "metadata": {},
   "outputs": [
    {
     "data": {
      "text/plain": [
       "defined \u001b[32mfunction\u001b[39m \u001b[36mstartsWithZero1\u001b[39m"
      ]
     },
     "execution_count": 35,
     "metadata": {},
     "output_type": "execute_result"
    }
   ],
   "source": [
    "def startsWithZero1(expr: List[Int]) = \n",
    "    expr match {\n",
    "      case List(0, _, _) => println(\"found it\")\n",
    "      case _ =>\n",
    "    }"
   ]
  },
  {
   "cell_type": "code",
   "execution_count": 36,
   "id": "e8d542f6-4024-45d2-8e90-5ecda75ebe70",
   "metadata": {},
   "outputs": [
    {
     "name": "stdout",
     "output_type": "stream",
     "text": [
      "found it\n"
     ]
    }
   ],
   "source": [
    "startsWithZero1(List(0,1,2))"
   ]
  },
  {
   "cell_type": "code",
   "execution_count": 37,
   "id": "79432a82-72d1-4c56-880d-3345b42a8f8d",
   "metadata": {},
   "outputs": [],
   "source": [
    "startsWithZero1(List(1,2,3))"
   ]
  },
  {
   "cell_type": "markdown",
   "id": "f61a81a1-ca96-4f5b-a839-c27c49adf008",
   "metadata": {},
   "source": [
    "<center>示例15.8 固定长度的序列模式</center>"
   ]
  },
  {
   "cell_type": "markdown",
   "id": "77d34fde-bc94-4e90-9197-1db51734e8a3",
   "metadata": {},
   "source": [
    "如果你想匹配一个序列，但又不想给出多长，你可以用_\\*作为模式的最后一个元素。这个看上去有些奇怪的模式能够匹配序列中任意数量的元素，包括0个元素。示例15.9显示了一个能匹配任意长度的以0开始的列表。"
   ]
  },
  {
   "cell_type": "code",
   "execution_count": 38,
   "id": "d5b6cc98-e333-4e15-b1ee-3cebee86a485",
   "metadata": {},
   "outputs": [
    {
     "data": {
      "text/plain": [
       "defined \u001b[32mfunction\u001b[39m \u001b[36mstartsWithZero2\u001b[39m"
      ]
     },
     "execution_count": 38,
     "metadata": {},
     "output_type": "execute_result"
    }
   ],
   "source": [
    "def startsWithZero2(expr: List[Int]) =\n",
    "    expr match {\n",
    "      case List(0, _*) => println(\"found it\")\n",
    "      case _ =>\n",
    "    }"
   ]
  },
  {
   "cell_type": "code",
   "execution_count": 39,
   "id": "361ab1d8-12df-473c-93bf-48b5b48aa319",
   "metadata": {},
   "outputs": [
    {
     "name": "stdout",
     "output_type": "stream",
     "text": [
      "found it\n"
     ]
    }
   ],
   "source": [
    "startsWithZero2(List(0))"
   ]
  },
  {
   "cell_type": "code",
   "execution_count": 40,
   "id": "327eafbb-cc7d-4d21-8511-19133dc02e41",
   "metadata": {},
   "outputs": [
    {
     "name": "stdout",
     "output_type": "stream",
     "text": [
      "found it\n"
     ]
    }
   ],
   "source": [
    "startsWithZero2(List(0,1))"
   ]
  },
  {
   "cell_type": "code",
   "execution_count": 41,
   "id": "f9ee33e0-ed20-4e40-8537-7800a4308036",
   "metadata": {},
   "outputs": [],
   "source": [
    "startsWithZero2(List(2))"
   ]
  },
  {
   "cell_type": "markdown",
   "id": "15e14994-737e-4ab6-8fbd-1041924ccc66",
   "metadata": {},
   "source": [
    "<center>示例15.9 任意长度的序列模式</center>"
   ]
  },
  {
   "cell_type": "markdown",
   "id": "784755fb-bc20-4de7-9812-3558ac8c7c38",
   "metadata": {},
   "source": [
    "### 元组模式\n",
    "\n",
    "我们还可以匹配元组（tuple）。形如（a, b, c）这样的模式能匹配任意的三元组。参考示例15.10。"
   ]
  },
  {
   "cell_type": "code",
   "execution_count": 42,
   "id": "d1c05573-1ea2-4daa-bda0-ecb6901ef13a",
   "metadata": {},
   "outputs": [
    {
     "data": {
      "text/plain": [
       "defined \u001b[32mfunction\u001b[39m \u001b[36mtupleDemo\u001b[39m"
      ]
     },
     "execution_count": 42,
     "metadata": {},
     "output_type": "execute_result"
    }
   ],
   "source": [
    "def tupleDemo(expr: Any) =\n",
    "    expr match {\n",
    "        case(a,b,c) => println(\"matched \" + a + b + c)\n",
    "        case _ =>\n",
    "    }"
   ]
  },
  {
   "cell_type": "code",
   "execution_count": 43,
   "id": "bc21f498-4f06-4cf5-92bd-4dc1ca8ee70c",
   "metadata": {},
   "outputs": [
    {
     "name": "stdout",
     "output_type": "stream",
     "text": [
      "matched a3-tuple\n"
     ]
    }
   ],
   "source": [
    "tupleDemo((\"a\",3,\"-tuple\"))"
   ]
  },
  {
   "cell_type": "code",
   "execution_count": 44,
   "id": "d9b1ef83-fc2a-4d93-bdd1-2ed2a14271de",
   "metadata": {},
   "outputs": [],
   "source": [
    "tupleDemo((1))"
   ]
  },
  {
   "cell_type": "markdown",
   "id": "2373aee2-4b24-4040-9818-a152d9f173c6",
   "metadata": {},
   "source": [
    "### 带类型的模式\n",
    "\n",
    "可以用带类型的模式（typed pattern）来替代类型测试和类型转换。参考示例15.11。"
   ]
  },
  {
   "cell_type": "code",
   "execution_count": 45,
   "id": "49a18d16-0e8a-40bb-a4b5-ecae37c418dc",
   "metadata": {},
   "outputs": [
    {
     "data": {
      "text/plain": [
       "defined \u001b[32mfunction\u001b[39m \u001b[36mgeneralSize\u001b[39m"
      ]
     },
     "execution_count": 45,
     "metadata": {},
     "output_type": "execute_result"
    }
   ],
   "source": [
    "def generalSize(x: Any) = x match {\n",
    "    case s: String => s.length\n",
    "    case m: Map[_, _] => m.size\n",
    "    case _ => -1\n",
    "}"
   ]
  },
  {
   "cell_type": "code",
   "execution_count": 46,
   "id": "bbdfec2b-5d85-4500-8a87-0a823f6526ba",
   "metadata": {},
   "outputs": [
    {
     "data": {
      "text/plain": [
       "\u001b[36mres45\u001b[39m: \u001b[32mInt\u001b[39m = \u001b[32m3\u001b[39m"
      ]
     },
     "execution_count": 46,
     "metadata": {},
     "output_type": "execute_result"
    }
   ],
   "source": [
    "generalSize(\"abc\")"
   ]
  },
  {
   "cell_type": "code",
   "execution_count": 47,
   "id": "71bf67ab-1097-4640-a673-7ef51bd9861d",
   "metadata": {},
   "outputs": [
    {
     "data": {
      "text/plain": [
       "\u001b[36mres46\u001b[39m: \u001b[32mInt\u001b[39m = \u001b[32m2\u001b[39m"
      ]
     },
     "execution_count": 47,
     "metadata": {},
     "output_type": "execute_result"
    }
   ],
   "source": [
    "generalSize(Map(1->'a',2->'b'))"
   ]
  },
  {
   "cell_type": "code",
   "execution_count": 48,
   "id": "515c70a2-5fcd-4646-b4a7-fc495837d67d",
   "metadata": {},
   "outputs": [
    {
     "data": {
      "text/plain": [
       "\u001b[36mres47\u001b[39m: \u001b[32mInt\u001b[39m = \u001b[32m-1\u001b[39m"
      ]
     },
     "execution_count": 48,
     "metadata": {},
     "output_type": "execute_result"
    }
   ],
   "source": [
    "generalSize(math.Pi)"
   ]
  },
  {
   "cell_type": "markdown",
   "id": "e9bc8f51-d8fc-452b-94b5-c358c1f599b3",
   "metadata": {},
   "source": [
    "<center>示例15.11 带有类型模式的模式匹配</center>"
   ]
  },
  {
   "cell_type": "markdown",
   "id": "8509343f-6e3a-4394-a8f2-e996bb15af99",
   "metadata": {},
   "source": [
    "generalSize方法返回不同类型的对象的大小或长度。其入参的类型是Any，因此可以是任何值。如果入参是String，那么方法将返回这个字符串的长度。模式“s:String”是一个带类型的模式，它将匹配每个（非null的）String实例。其中的模式变量s将指向这个字符串。\n",
    "\n",
    "需要注意的是，尽管s和x指向同一个值，x的类型是Any，而s的类型是String。因此可以在与模式相对应的可选分支中使用s.length，但不能写成x.length，因为类型Any并没有一个叫作length的成员。\n",
    "\n",
    "另一个跟用带类型的模式匹配等效但是更冗长的方式是做类型测试然后（强制）类型转换。对于类型测试和转换，Scala跟Java的语法不太一样。比方说要测试某个表达式expr的类型是否为String，我们需要这样写："
   ]
  },
  {
   "cell_type": "code",
   "execution_count": 49,
   "id": "619848ca-4a75-46cf-b9b7-3e311768f5d4",
   "metadata": {},
   "outputs": [
    {
     "data": {
      "text/plain": [
       "\u001b[36mexpr\u001b[39m: \u001b[32mString\u001b[39m = \u001b[32m\"abc\"\u001b[39m"
      ]
     },
     "execution_count": 49,
     "metadata": {},
     "output_type": "execute_result"
    }
   ],
   "source": [
    "val expr = \"abc\""
   ]
  },
  {
   "cell_type": "code",
   "execution_count": 50,
   "id": "86862163-972a-4509-a9a4-1f4545c99a91",
   "metadata": {},
   "outputs": [
    {
     "data": {
      "text/plain": [
       "\u001b[36mres49\u001b[39m: \u001b[32mBoolean\u001b[39m = true"
      ]
     },
     "execution_count": 50,
     "metadata": {},
     "output_type": "execute_result"
    }
   ],
   "source": [
    "expr.isInstanceOf[String]"
   ]
  },
  {
   "cell_type": "code",
   "execution_count": 51,
   "id": "e7b43c4d-cf78-4a9e-8714-9804d0976d6e",
   "metadata": {},
   "outputs": [
    {
     "data": {
      "text/plain": [
       "\u001b[36mres50\u001b[39m: \u001b[32mString\u001b[39m = \u001b[32m\"abc\"\u001b[39m"
      ]
     },
     "execution_count": 51,
     "metadata": {},
     "output_type": "execute_result"
    }
   ],
   "source": [
    "expr.asInstanceOf[String]"
   ]
  },
  {
   "cell_type": "markdown",
   "id": "627a49e7-1c42-4977-b6a7-2f1fb7074562",
   "metadata": {},
   "source": [
    "通过类型测试和类型转换，可以重写示例15.12的match表达式。"
   ]
  },
  {
   "cell_type": "code",
   "execution_count": 52,
   "id": "f21bce68-99ec-4051-8d74-f9aab6a19cb7",
   "metadata": {},
   "outputs": [
    {
     "data": {
      "text/plain": [
       "defined \u001b[32mfunction\u001b[39m \u001b[36misInstance\u001b[39m"
      ]
     },
     "execution_count": 52,
     "metadata": {},
     "output_type": "execute_result"
    }
   ],
   "source": [
    "def isInstance(expr: Any) = {\n",
    "    if (expr.isInstanceOf[String]) {\n",
    "        val s = expr.asInstanceOf[String]\n",
    "        s.length\n",
    "    } else 0\n",
    "}"
   ]
  },
  {
   "cell_type": "code",
   "execution_count": 53,
   "id": "eb97a639-558a-4e4f-a6d2-ac675eaac839",
   "metadata": {},
   "outputs": [
    {
     "data": {
      "text/plain": [
       "\u001b[36mres52\u001b[39m: \u001b[32mInt\u001b[39m = \u001b[32m3\u001b[39m"
      ]
     },
     "execution_count": 53,
     "metadata": {},
     "output_type": "execute_result"
    }
   ],
   "source": [
    "isInstance(\"abc\")"
   ]
  },
  {
   "cell_type": "markdown",
   "id": "8d6f7acc-84ee-433e-8e1b-388137ab118c",
   "metadata": {},
   "source": [
    "<center>示例15.12 使用isInstanceOf和asInstanceOf（不良风格）</center>"
   ]
  },
  {
   "cell_type": "markdown",
   "id": "6e10f7e3-6ef5-4831-b927-71ed3ce981f5",
   "metadata": {},
   "source": [
    "isInstanceOf和asInstanceOf两个操作符会被当作Any类的预定义方法处理，这两个方法接收一个用方括号括起来的类型参数。事实上，x.asInstanceOf[String]是该方法调用的一个特例，它带上了显式的类型参数String。\n",
    "\n",
    "你现在应该已经注意到了，在Scala中编写类型测试和类型检查会比较啰唆。我们是有意为之，因为这并不是一个值得鼓励的做法。通常，使用带类型的模式会更好，尤其是当你需要同时做类型测试和类型转换的时候，因为这两个操作所做的事情会被并在单个模式匹配中完成。\n",
    "\n",
    "示例15.11中的match表达式的第二个case包含了带类型的模式“m:Map[\\_, \\_]”。这个模式匹配的是任何Map值，不管它的键和值的类型是什么，然后让m指向这个值。因此，m.size的类型是完备的，返回的是这个映射 （map）的大小。类型模式（type pattern）[3]中的下画线就像是其他模式中的通配符。除了用下画线，你也可以用（小写的）类型变量。\n",
    "\n",
    "### 类型擦除\n",
    "\n",
    "除了笼统的映射，我们还能测试特定元素类型的映射吗？这对于测试某个值是否是Int到Int的映射这类场景会很方便。我们试试看吧："
   ]
  },
  {
   "cell_type": "code",
   "execution_count": 54,
   "id": "9ba616ee-90b4-47d6-bb6e-0cded8644b79",
   "metadata": {},
   "outputs": [
    {
     "data": {
      "text/plain": [
       "defined \u001b[32mfunction\u001b[39m \u001b[36misIntIntMap\u001b[39m"
      ]
     },
     "execution_count": 54,
     "metadata": {},
     "output_type": "execute_result"
    }
   ],
   "source": [
    "def isIntIntMap(x: Any) = x match {\n",
    "    case m: Map[Int, Int] => true\n",
    "    case _ => false\n",
    "}"
   ]
  },
  {
   "cell_type": "markdown",
   "id": "81ed626e-0fb6-49e6-b8e2-bf153b603994",
   "metadata": {},
   "source": [
    "Scala采用了擦除式的泛型，就跟Java一样。这意味着在运行时并不会保留类型参数的信息。这么一来，我们在运行时就无法判断某个给定的Map对象是用两个Int的类型参数创建的，还是其他什么类型参数创建的。系统能做的只是判断某个值是某种不确定类型参数的Map。可以把isIntIntMap应用到不同的Map类实例来验证这个行为："
   ]
  },
  {
   "cell_type": "code",
   "execution_count": 55,
   "id": "0ab71a8a-8800-4652-ad33-ef01eb9111f1",
   "metadata": {},
   "outputs": [
    {
     "data": {
      "text/plain": [
       "\u001b[36mres54\u001b[39m: \u001b[32mBoolean\u001b[39m = true"
      ]
     },
     "execution_count": 55,
     "metadata": {},
     "output_type": "execute_result"
    }
   ],
   "source": [
    "isIntIntMap(Map(1 -> -1))"
   ]
  },
  {
   "cell_type": "code",
   "execution_count": 56,
   "id": "435313f1-0a94-413c-a0ee-0983f85b8e5d",
   "metadata": {},
   "outputs": [
    {
     "data": {
      "text/plain": [
       "\u001b[36mres55\u001b[39m: \u001b[32mBoolean\u001b[39m = true"
      ]
     },
     "execution_count": 56,
     "metadata": {},
     "output_type": "execute_result"
    }
   ],
   "source": [
    "isIntIntMap(Map(\"abc\" -> \"abc\"))"
   ]
  },
  {
   "cell_type": "markdown",
   "id": "9a2b655d-b2b8-4f78-8b7d-b300542e8ac0",
   "metadata": {},
   "source": [
    "第一次应用返回true，看上去是正确的，不过第二次应用同样返回true，这可能会让你感到意外。为了警示这种可能违反直觉的运行时行为，编译器会给出前面我们看到的那种非受检的警告。\n",
    "\n",
    "对于这个擦除规则唯一的例外是数组，因为Java和Scala都对它们做了特殊处理。数组的元素类型是跟数组一起保存的，因此我们可以对它进行模式匹配。例如："
   ]
  },
  {
   "cell_type": "code",
   "execution_count": 57,
   "id": "9e377070-4ca8-4971-981b-33f0e9d7b4d7",
   "metadata": {},
   "outputs": [
    {
     "data": {
      "text/plain": [
       "defined \u001b[32mfunction\u001b[39m \u001b[36misStringArray\u001b[39m"
      ]
     },
     "execution_count": 57,
     "metadata": {},
     "output_type": "execute_result"
    }
   ],
   "source": [
    "def isStringArray(x: Any) = x match {\n",
    "    case a: Array[String] => \"yes\"\n",
    "    case _ => \"no\"\n",
    "}"
   ]
  },
  {
   "cell_type": "code",
   "execution_count": 58,
   "id": "f5a1991f-c97c-4ca3-8668-f06d94d2358a",
   "metadata": {},
   "outputs": [
    {
     "data": {
      "text/plain": [
       "\u001b[36mas\u001b[39m: \u001b[32mArray\u001b[39m[\u001b[32mString\u001b[39m] = \u001b[33mArray\u001b[39m(\u001b[32m\"abc\"\u001b[39m)"
      ]
     },
     "execution_count": 58,
     "metadata": {},
     "output_type": "execute_result"
    }
   ],
   "source": [
    "val as = Array(\"abc\")"
   ]
  },
  {
   "cell_type": "code",
   "execution_count": 59,
   "id": "dbed47ce-f216-4a9d-91d1-3f62446a60d7",
   "metadata": {},
   "outputs": [
    {
     "data": {
      "text/plain": [
       "\u001b[36mres58\u001b[39m: \u001b[32mString\u001b[39m = \u001b[32m\"yes\"\u001b[39m"
      ]
     },
     "execution_count": 59,
     "metadata": {},
     "output_type": "execute_result"
    }
   ],
   "source": [
    "isStringArray(as)"
   ]
  },
  {
   "cell_type": "code",
   "execution_count": 60,
   "id": "417f7164-79b3-4b13-9dee-d227a957e264",
   "metadata": {},
   "outputs": [
    {
     "data": {
      "text/plain": [
       "\u001b[36mai\u001b[39m: \u001b[32mArray\u001b[39m[\u001b[32mInt\u001b[39m] = \u001b[33mArray\u001b[39m(\u001b[32m1\u001b[39m, \u001b[32m2\u001b[39m, \u001b[32m3\u001b[39m)"
      ]
     },
     "execution_count": 60,
     "metadata": {},
     "output_type": "execute_result"
    }
   ],
   "source": [
    "val ai = Array(1,2,3)"
   ]
  },
  {
   "cell_type": "code",
   "execution_count": 61,
   "id": "d2c97ae2-fd32-4efb-93f0-44d404a6b6dd",
   "metadata": {},
   "outputs": [
    {
     "data": {
      "text/plain": [
       "\u001b[36mres60\u001b[39m: \u001b[32mString\u001b[39m = \u001b[32m\"no\"\u001b[39m"
      ]
     },
     "execution_count": 61,
     "metadata": {},
     "output_type": "execute_result"
    }
   ],
   "source": [
    "isStringArray(ai)"
   ]
  },
  {
   "cell_type": "markdown",
   "id": "1a751d9a-4d2d-44f5-9ae4-3b6802cbe95a",
   "metadata": {},
   "source": [
    "### 变量绑定\n",
    "\n",
    "除了独自存在的变量模式外，我们还可以对任何其他模式添加变量。只需要写下变量名、一个@符和模式本身，就得到一个变量绑定模式。意味着这个模式将跟平常一样执行模式匹配，如果匹配成功，就将匹配的对象赋值给这个变量，就像简单的变量模式一样。\n",
    "\n",
    "示例15.13给出了一个（在表达式中）查找绝对值操作被连续应用两次的模式匹配的例子。这样的表达式可以被简化成只执行一次求绝对值的操作。"
   ]
  },
  {
   "cell_type": "code",
   "execution_count": 62,
   "id": "cfb99917-4cef-4048-b433-6d1feda32c8d",
   "metadata": {},
   "outputs": [
    {
     "data": {
      "text/plain": [
       "defined \u001b[32mfunction\u001b[39m \u001b[36mmatchUnOp\u001b[39m"
      ]
     },
     "execution_count": 62,
     "metadata": {},
     "output_type": "execute_result"
    }
   ],
   "source": [
    "def matchUnOp(expr: Expr) = {\n",
    "    expr match {\n",
    "      case UnOp(\"abs\", e @ UnOp(\"abs\", _)) => e\n",
    "      //case UnOp(\"abs\", e @ _) => e\n",
    "      case _ =>\n",
    "    }\n",
    "}"
   ]
  },
  {
   "cell_type": "code",
   "execution_count": 63,
   "id": "a2f40465-80dd-4a3e-9065-13b479c69d5a",
   "metadata": {},
   "outputs": [
    {
     "data": {
      "text/plain": [
       "\u001b[36munopExpr\u001b[39m: \u001b[32mUnOp\u001b[39m = \u001b[33mUnOp\u001b[39m(operator = \u001b[32m\"abs\"\u001b[39m, arg = \u001b[33mNumber\u001b[39m(num = \u001b[32m3.0\u001b[39m))\n",
       "\u001b[36mres62_1\u001b[39m: \u001b[32mAny\u001b[39m = ()\n",
       "\u001b[36mres62_2\u001b[39m: \u001b[32mAny\u001b[39m = \u001b[33mUnOp\u001b[39m(operator = \u001b[32m\"abs\"\u001b[39m, arg = \u001b[33mNumber\u001b[39m(num = \u001b[32m3.0\u001b[39m))"
      ]
     },
     "execution_count": 63,
     "metadata": {},
     "output_type": "execute_result"
    }
   ],
   "source": [
    "val unopExpr = new UnOp(\"abs\", new Number(3))\n",
    "matchUnOp(unopExpr)\n",
    "matchUnOp(new UnOp(\"abs\", unopExpr))"
   ]
  },
  {
   "cell_type": "markdown",
   "id": "26fd28d2-28aa-4182-b54e-1f4dfe391de1",
   "metadata": {},
   "source": [
    "示例15.13包括了一个以e为变量，UnOp（＂abs＂, \\_）为模式的的变量绑定模式。如果整个匹配成功了，那么匹配了UnOp（＂abs＂, \\_）的部分就被赋值给变量e。这个case的结果就是e，这是因为e跟expr的值相同，但是少了一次求绝对值的操作。"
   ]
  },
  {
   "cell_type": "markdown",
   "id": "b3dcd75d-ec5c-4813-b3c0-6d3846364fae",
   "metadata": {},
   "source": [
    "## 15.3 模式守卫\n",
    "\n",
    "有时候语法级的模式匹配不够精准。举例来说，假定我们要公式化一个简化规则，即用乘以2（e * 2）来替换对两个相同操作元的加法（e + e）。在表示Expr树的语言中，下面这样的表达式：\n",
    "```scala\n",
    "def simplifyAdd(e: Expr) = e match {\n",
    "    case BinOp(\"+\", x, x) => BinOp(\"*\", x, Number(2))\n",
    "    case _ => e\n",
    "}\n",
    "\n",
    "```\n",
    "```\n",
    "cmd64.sc:2: x is already defined as value x\n",
    "    case BinOp(\"+\", x, x) => BinOp(\"*\", x, Number(2))\n",
    "                       ^Compilation Failed\n",
    "\n",
    "Compilation Failed\n",
    "```"
   ]
  },
  {
   "cell_type": "markdown",
   "id": "4e79146a-c33c-4f29-8415-eac5eb40462f",
   "metadata": {},
   "source": [
    "这样做会失败，**因为Scala要求模式都是线性（linear）的：同一个模式变量在模式中只能出现一次**。不过，我们可以用一个模式守卫（pattern guard）来重新定义这个匹配逻辑，如示例15.14所示："
   ]
  },
  {
   "cell_type": "code",
   "execution_count": 64,
   "id": "7f619adf-6ae9-4c3e-b0b1-22a5fdecff95",
   "metadata": {},
   "outputs": [
    {
     "data": {
      "text/plain": [
       "defined \u001b[32mfunction\u001b[39m \u001b[36msimplifyAdd\u001b[39m"
      ]
     },
     "execution_count": 64,
     "metadata": {},
     "output_type": "execute_result"
    }
   ],
   "source": [
    "def simplifyAdd(e: Expr) = e match {\n",
    "    case BinOp(\"+\", x, y) if x == y => BinOp(\"*\", x, Number(2))\n",
    "    case _ => e\n",
    "}"
   ]
  },
  {
   "cell_type": "markdown",
   "id": "afd1d81f-4da6-4291-b979-974674596eb8",
   "metadata": {},
   "source": [
    "<center>示例15.14 带有模式守卫的match表达式</center>"
   ]
  },
  {
   "cell_type": "markdown",
   "id": "1395127d-e7f0-4a89-ae2f-f209745796cb",
   "metadata": {},
   "source": [
    "模式守卫出现在模式之后，并以if打头。模式守卫可以是任意的布尔表达式，通常会引用到模式中的变量。如果存在模式守卫，这个匹配仅在模式守卫求值得到true时才会成功。因此，上面提到的首个case只能匹配那些两个操作元相等的二元操作。\n",
    "\n",
    "以下是其他一些带有守卫的模式示例：\n",
    "```scala\n",
    "// match only positive integers\n",
    "case n: Int if 0 < n => ...  \n",
    "\n",
    "// match only strings starting with the letter `a'\n",
    "case s: String if s(0) == 'a' => ... \n",
    "```"
   ]
  },
  {
   "cell_type": "markdown",
   "id": "762ec4aa-c47e-43b2-835d-d903322b1c71",
   "metadata": {},
   "source": [
    "## 15.4 模式重叠\n",
    "\n",
    "模式会按照代码中的顺序逐个被尝试。示例15.15中的simplify展示了模式中的case出现顺序的重要性。"
   ]
  },
  {
   "cell_type": "code",
   "execution_count": 65,
   "id": "cf16831e-7721-4b8a-8643-a8b02eddea94",
   "metadata": {},
   "outputs": [
    {
     "data": {
      "text/plain": [
       "defined \u001b[32mfunction\u001b[39m \u001b[36msimplifyAll\u001b[39m"
      ]
     },
     "execution_count": 65,
     "metadata": {},
     "output_type": "execute_result"
    }
   ],
   "source": [
    "def simplifyAll(expr: Expr): Expr = expr match {\n",
    "    case UnOp(\"-\", UnOp(\"-\", e)) =>\n",
    "      simplifyAll(e)   // `-' is its own inverse\n",
    "    case BinOp(\"+\", e, Number(0)) =>\n",
    "      simplifyAll(e)   // `0' is a neutral element for `+'\n",
    "    case BinOp(\"*\", e, Number(1)) =>\n",
    "      simplifyAll(e)   // `1' is a neutral element for `*'\n",
    "    case UnOp(op, e) => \n",
    "      UnOp(op, simplifyAll(e))\n",
    "    case BinOp(op, l, r) =>\n",
    "      BinOp(op, simplifyAll(l), simplifyAll(r))\n",
    "    case _ => expr\n",
    "}"
   ]
  },
  {
   "cell_type": "markdown",
   "id": "6d061675-f434-4667-bb28-d189af358352",
   "metadata": {},
   "source": [
    "示例15.15中的simplify将会对一个表达式中的各处都执行简化，不像simplifyTop那样仅仅在顶层做简化。simplify可以从 simplifyTop演化出来，只需要再添加两个case分别针对一元和二元表达式即可（示例15.15中的第四和第五个case）。\n",
    "\n",
    "第四个case的模式是UnOp（op, e），它匹配所有的一元操作。这个一元操作的操作符和操作元可以是任意的。它们分别被绑定到模式变量op和e上。这个case对应的可选分支会递归地对操 作元e应用simplifyAll，然后用（可能的）简化后的操作元重建这个一元操作。第五个B i n O p的case也是同理：它是一个“捕获所有”（catch-all）的对任意二元操作的匹配，匹配成功后递归地对它的两个操作元应用简化方法。\n",
    "\n",
    "在本例中，捕获所有的case出现在更具体的简化规则之后，这是很重要的。如果我们将顺序颠倒过来，那么捕获所有的case就会优先于更具体的规则执行。在 许多场景下，编译器甚至会拒绝编译。例如下面这个match表达式就无法通过编译，因为首个case将会匹配所有第二个case能匹配的值："
   ]
  },
  {
   "cell_type": "code",
   "execution_count": 66,
   "id": "6410010d-75ef-4d21-b240-a0b5c6ff5ec8",
   "metadata": {},
   "outputs": [
    {
     "data": {
      "text/plain": [
       "defined \u001b[32mfunction\u001b[39m \u001b[36msimplifyBad\u001b[39m"
      ]
     },
     "execution_count": 66,
     "metadata": {},
     "output_type": "execute_result"
    }
   ],
   "source": [
    "def simplifyBad(expr: Expr): Expr = expr match {\n",
    "    case UnOp(op, e) => UnOp(op, simplifyBad(e))\n",
    "    case UnOp(\"-\", UnOp(\"-\", e)) => e\n",
    "}"
   ]
  },
  {
   "cell_type": "markdown",
   "id": "f766073c-c9fa-4f0e-b2d0-0a1aa8120193",
   "metadata": {},
   "source": [
    "## 15.5 密封类\n",
    "\n",
    "每当我们编写一个模式匹配时，都需要确保完整地覆盖了所有可能的case。有时候可以通过在末尾添加一个缺省case来做到，不过这仅限于有合理兜底的场合。如果没有这样的缺省行为，我们如何确信自己覆盖了所有的场景呢？\n",
    "\n",
    "我们可以寻求Scala编译器的帮助，帮我们检测出match表达式中缺失的模式组合。为了做到这一点，编译器需要分辨出可能的case有哪些。一般来说，在Scala中这是不可能的，因为新的样例类随时随地都能被定义出来。例如没有人会阻止你在现在的四个样例类所在的编译单元之外的另一个编译单元中给 Expr的类继承关系添加第五个样例类。\n",
    "\n",
    "解决这个问题的手段是将这些样例类的超类标记为密封（sealed）的。**密封类除了在同一个文件中定义的子类之外，不能添加新的子类**。这一点对于模式匹配而言十分有用，因为这样一来我们就只需要关心那些已知的样例类。不仅如此，我们还因此获得了更好的编译器支持。**如果我们对继承自密封类的样例类做匹配，编译器会用警告消息标示出缺失的模式组合**。\n",
    "\n",
    "如果你的类打算被用于模式匹配，那么你应该考虑将它们做成密封类。只需要在类继承关系的顶部那个类的类名前面加上sealed关键字。这样，使用你的这组类的程序员在模式匹配你的这些类时，就会信心十足。 这也是为什么sealed关键字通常被看作模式匹配的执照的原因。示例15.16给出了Expr被转成密封类的例子。"
   ]
  },
  {
   "cell_type": "code",
   "execution_count": 67,
   "id": "bf14bd34-4eca-41b1-b7bf-c280178e93a0",
   "metadata": {},
   "outputs": [
    {
     "data": {
      "text/plain": [
       "defined \u001b[32mclass\u001b[39m \u001b[36mExpr\u001b[39m\n",
       "defined \u001b[32mclass\u001b[39m \u001b[36mVar\u001b[39m\n",
       "defined \u001b[32mclass\u001b[39m \u001b[36mNumber\u001b[39m\n",
       "defined \u001b[32mclass\u001b[39m \u001b[36mUnOp\u001b[39m\n",
       "defined \u001b[32mclass\u001b[39m \u001b[36mBinOp\u001b[39m"
      ]
     },
     "execution_count": 67,
     "metadata": {},
     "output_type": "execute_result"
    }
   ],
   "source": [
    "sealed abstract class Expr\n",
    "case class Var(name: String) extends Expr\n",
    "case class Number(num: Double) extends Expr\n",
    "case class UnOp(operator: String, arg: Expr) extends Expr\n",
    "case class BinOp(operator: String, \n",
    "  left: Expr, right: Expr) extends Expr"
   ]
  },
  {
   "cell_type": "markdown",
   "id": "32c0a559-88b9-47f6-af33-7e0aaf41e4e6",
   "metadata": {},
   "source": [
    "<center>示例15.16 一组继承关系封闭的样例类</center>"
   ]
  },
  {
   "cell_type": "markdown",
   "id": "e3a8e604-0465-472c-a6b5-3e8b66a9bedf",
   "metadata": {},
   "source": [
    "现在我们可以试着定义一个漏掉了某些可能case的模式匹配："
   ]
  },
  {
   "cell_type": "code",
   "execution_count": 68,
   "id": "8524f768-d6a2-42a2-836d-e153d6ea1bdc",
   "metadata": {},
   "outputs": [
    {
     "data": {
      "text/plain": [
       "defined \u001b[32mfunction\u001b[39m \u001b[36mdescribe\u001b[39m"
      ]
     },
     "execution_count": 68,
     "metadata": {},
     "output_type": "execute_result"
    }
   ],
   "source": [
    "def describe(e: Expr): String = e match {\n",
    "    case Number(_) => \"a number\"\n",
    "    case Var(_) => \"a variable\"\n",
    "}"
   ]
  },
  {
   "cell_type": "markdown",
   "id": "fa66457a-7053-4791-8db5-533ea39c3ad8",
   "metadata": {},
   "source": [
    "这样的警告告诉我们这段代码存在产生MatchError异常的风险，因为某些可能出现的模式（UnOp、BinOp）并没有被处理。这个警告指出了潜在的运行时错误源，因此这通常有助于我们编写正确的程序。\n",
    "\n",
    "不过，有时候你也会遇到编译器过于挑剔的情况。举例来说，你可能从上下文知道你永远只会将describe应用到Number或Var，因此你很清楚不会有MatchError发生。这时你可以对describe添加一个捕获所有的case，这样就不会有编译器告警了："
   ]
  },
  {
   "cell_type": "code",
   "execution_count": 69,
   "id": "6c8b2270-0645-4f01-a7b3-e9acfd9bc8be",
   "metadata": {},
   "outputs": [
    {
     "data": {
      "text/plain": [
       "defined \u001b[32mfunction\u001b[39m \u001b[36mdescribe\u001b[39m"
      ]
     },
     "execution_count": 69,
     "metadata": {},
     "output_type": "execute_result"
    }
   ],
   "source": [
    "def describe(e: Expr): String = e match {\n",
    "    case Number(_) => \"a number\"\n",
    "    case Var(_) => \"a variable\"\n",
    "    case _ => throw new RuntimeException //不应该发生\n",
    "}"
   ]
  },
  {
   "cell_type": "markdown",
   "id": "c762ee38-e400-46de-84a0-54924ec8fe38",
   "metadata": {},
   "source": [
    "这样可行，但并不理想。你可能并不会很乐意，因为你被迫添加了永远不会被执行的代码（也可能是你认为不会），而所有这些只是为了让编译器闭嘴。\n",
    "\n",
    "一个更轻量的做法是给match表达式的选择器部分添加一个@unchecked注解。就像这样："
   ]
  },
  {
   "cell_type": "code",
   "execution_count": 70,
   "id": "5804b1f4-e8ce-4fc1-a735-396c0a3fadf7",
   "metadata": {},
   "outputs": [
    {
     "data": {
      "text/plain": [
       "defined \u001b[32mfunction\u001b[39m \u001b[36mdescribe\u001b[39m"
      ]
     },
     "execution_count": 70,
     "metadata": {},
     "output_type": "execute_result"
    }
   ],
   "source": [
    "def describe(e: Expr): String = (e: @unchecked) match {\n",
    "    case Number(_) => \"a number\"\n",
    "    case Var(_) => \"a variable\"\n",
    "}"
   ]
  },
  {
   "cell_type": "markdown",
   "id": "6f327e2b-b6d7-4cae-b264-20bbed92c2e4",
   "metadata": {},
   "source": [
    "我们会在第27章介绍注解。一般来说，可以像添加类型声明那样对表达式添加注解：在表达式后加一个冒号和注解的名称（以@打头）。例如，在本例中我们给变量 e添加了@unchecked注解，即“e: @unchecked”。@unchecked注解对模式匹配而言有特殊的含义。如果match表达式的选择器带上了这个注解，那么编译器对后续模式分支的覆盖完整性检查就会被压制。"
   ]
  },
  {
   "cell_type": "markdown",
   "id": "6f74d0e1-524d-4b54-969d-da45ea263198",
   "metadata": {},
   "source": [
    "## 15.6 Option类型\n",
    "\n",
    "Scala由一个名为Option的标准类型来表示可选值。这样的值可以有两种形式：Some（x），其中x是那个实际的值；或者None对象，代表没有值。\n",
    "\n",
    "Scala集合类的某些标准操作会返回可选值。比如，Scala的Map有一个get方法，当传入的键有对应的值时，返回Some（value）；而当传入的键在Map中没有定义时，返回None。我们来看下面这个例子："
   ]
  },
  {
   "cell_type": "code",
   "execution_count": 71,
   "id": "589403b2-613c-4212-b3f8-4464187ae6a4",
   "metadata": {},
   "outputs": [
    {
     "data": {
      "text/plain": [
       "\u001b[36mcapitals\u001b[39m: \u001b[32mMap\u001b[39m[\u001b[32mString\u001b[39m, \u001b[32mString\u001b[39m] = \u001b[33mMap\u001b[39m(\u001b[32m\"France\"\u001b[39m -> \u001b[32m\"Paris\"\u001b[39m, \u001b[32m\"Japan\"\u001b[39m -> \u001b[32m\"Tokyo\"\u001b[39m)"
      ]
     },
     "execution_count": 71,
     "metadata": {},
     "output_type": "execute_result"
    }
   ],
   "source": [
    "val capitals = Map(\"France\" -> \"Paris\", \"Japan\" -> \"Tokyo\")"
   ]
  },
  {
   "cell_type": "code",
   "execution_count": 72,
   "id": "5de3f810-b9e4-45b8-9a30-5b358b7ebc02",
   "metadata": {},
   "outputs": [
    {
     "data": {
      "text/plain": [
       "\u001b[36mres71\u001b[39m: \u001b[32mOption\u001b[39m[\u001b[32mString\u001b[39m] = \u001b[33mSome\u001b[39m(value = \u001b[32m\"Paris\"\u001b[39m)"
      ]
     },
     "execution_count": 72,
     "metadata": {},
     "output_type": "execute_result"
    }
   ],
   "source": [
    "capitals get \"France\""
   ]
  },
  {
   "cell_type": "code",
   "execution_count": 73,
   "id": "4ae24436-de55-42c6-ab1f-087acd71f18d",
   "metadata": {},
   "outputs": [
    {
     "data": {
      "text/plain": [
       "\u001b[36mres72\u001b[39m: \u001b[32mOption\u001b[39m[\u001b[32mString\u001b[39m] = \u001b[32mNone\u001b[39m"
      ]
     },
     "execution_count": 73,
     "metadata": {},
     "output_type": "execute_result"
    }
   ],
   "source": [
    "capitals get \"North Pole\""
   ]
  },
  {
   "cell_type": "markdown",
   "id": "8e277bf4-1448-431e-93cf-3b3549a9d8c8",
   "metadata": {},
   "source": [
    "将可选值解开最常见的方式是通过模式匹配。例如："
   ]
  },
  {
   "cell_type": "code",
   "execution_count": 74,
   "id": "d87c393d-c81b-4870-8c34-e13b3702c4c2",
   "metadata": {},
   "outputs": [
    {
     "data": {
      "text/plain": [
       "defined \u001b[32mfunction\u001b[39m \u001b[36mshow\u001b[39m"
      ]
     },
     "execution_count": 74,
     "metadata": {},
     "output_type": "execute_result"
    }
   ],
   "source": [
    "def show(x: Option[String]) = x match{\n",
    "    case Some(s) => s\n",
    "    case None => \"?\"\n",
    "}"
   ]
  },
  {
   "cell_type": "code",
   "execution_count": 75,
   "id": "4574ba20-86ca-4db3-a48b-91121abd4e78",
   "metadata": {},
   "outputs": [
    {
     "data": {
      "text/plain": [
       "\u001b[36mres74\u001b[39m: \u001b[32mString\u001b[39m = \u001b[32m\"Paris\"\u001b[39m"
      ]
     },
     "execution_count": 75,
     "metadata": {},
     "output_type": "execute_result"
    }
   ],
   "source": [
    "show(capitals get \"France\")"
   ]
  },
  {
   "cell_type": "code",
   "execution_count": 76,
   "id": "2b49eaa1-579f-4f19-8765-01a26de816b1",
   "metadata": {},
   "outputs": [
    {
     "data": {
      "text/plain": [
       "\u001b[36mres75\u001b[39m: \u001b[32mString\u001b[39m = \u001b[32m\"?\"\u001b[39m"
      ]
     },
     "execution_count": 76,
     "metadata": {},
     "output_type": "execute_result"
    }
   ],
   "source": [
    "show(capitals get \"North Pole\")"
   ]
  },
  {
   "cell_type": "markdown",
   "id": "6c5fa1fd-388c-4f5a-b4d0-ce81f09b7641",
   "metadata": {},
   "source": [
    "Scala程序经常用到Option类型。可以把这个跟Java中用null来表示无值做比较。举例来说，java.util.HashMap的get方法要么返回存放在HashMap中的某个值，要么（在值未找到时）返回null。这种方式对Java来说是可以的，但很容易出错，因为在实践当中要想跟踪某个程序中的哪些变量可以为null是一件很困难的事。\n",
    "\n",
    "如果某个变量允许为null，那么必须记住在每次用到它的时候都要判空（null）。如果忘记了，那么运行时就有可能出现NullPointerException。由于这样的类异常可能并不经常发生，在测试过程中也就很难发现。对Scala而言，这种方式完全不能工作，因为Scala允许在哈希映射中存放值类型的数据，而null并不是值类型的合法元素。例如，一个HashMap[Int, Int]不可能用返回null来表示“无值”。\n",
    "\n",
    "Scala鼓励我们使用Option来表示可选值。这种处理可选值的方式跟Java相比有若干优势。首先，对于代码的读者而言，某个类型为 Option[String]的变量对应一个可选的String，跟某个类型为String的变量是一个可选的String（可能为null）相比，要直 观得多。不过最重要的是，我们之前描述的那种在不检查某个变量是否为null就开始用它的编程错误在Scala中直接变成了类型错误。如果某个变量的类型为Option[String]，而我们把它当作String来用，这样的 Scala程序是无法编译通过的。"
   ]
  },
  {
   "cell_type": "markdown",
   "id": "156a7c6a-0fe5-4807-9f7b-c7523801faf1",
   "metadata": {},
   "source": [
    "## 15.7 到处都是模式\n",
    "\n",
    "Scala中很多地方都允许使用模式，并不仅仅是match表达式。我们来看看其他能用模式的地方。\n",
    "\n",
    "### 变量定义中的模式\n",
    "\n",
    "每当我们定义一个val或var，都可以用模式而不是简单的标识符。例如，可以将一个元组解开并将其中的每个元素分别赋值给不同的变量，参考示例15.17："
   ]
  },
  {
   "cell_type": "code",
   "execution_count": 77,
   "id": "57231599-1745-4a3a-b8c1-060a7a30e5bf",
   "metadata": {},
   "outputs": [
    {
     "data": {
      "text/plain": [
       "\u001b[36mmyTuple\u001b[39m: (\u001b[32mInt\u001b[39m, \u001b[32mString\u001b[39m) = (\u001b[32m123\u001b[39m, \u001b[32m\"abc\"\u001b[39m)"
      ]
     },
     "execution_count": 77,
     "metadata": {},
     "output_type": "execute_result"
    }
   ],
   "source": [
    "val myTuple = (123, \"abc\")"
   ]
  },
  {
   "cell_type": "code",
   "execution_count": 78,
   "id": "5eb1a55b-f948-477e-860f-a60aa5eb6842",
   "metadata": {},
   "outputs": [
    {
     "data": {
      "text/plain": [
       "\u001b[36mnumber\u001b[39m: \u001b[32mInt\u001b[39m = \u001b[32m123\u001b[39m\n",
       "\u001b[36mstring\u001b[39m: \u001b[32mString\u001b[39m = \u001b[32m\"abc\"\u001b[39m"
      ]
     },
     "execution_count": 78,
     "metadata": {},
     "output_type": "execute_result"
    }
   ],
   "source": [
    "val (number, string) = myTuple"
   ]
  },
  {
   "cell_type": "markdown",
   "id": "51c62f77-e746-487e-bd26-1ed28c6f196f",
   "metadata": {},
   "source": [
    "<center>示例15.17 用单个赋值定义多个变量</center>"
   ]
  },
  {
   "cell_type": "markdown",
   "id": "beef2a77-0995-4e70-8397-0f5be31f3a49",
   "metadata": {},
   "source": [
    "这个语法结构在处理样例类时非常有用。如果你知道要处理的样例类是什么，就可以用一个模式来析构它。参考下面的例子："
   ]
  },
  {
   "cell_type": "code",
   "execution_count": 79,
   "id": "8329c30a-d8b8-4d75-ba92-5dd5fd686230",
   "metadata": {},
   "outputs": [
    {
     "data": {
      "text/plain": [
       "\u001b[36mexp\u001b[39m: \u001b[32mBinOp\u001b[39m = \u001b[33mBinOp\u001b[39m(\n",
       "  operator = \u001b[32m\"*\"\u001b[39m,\n",
       "  left = \u001b[33mNumber\u001b[39m(num = \u001b[32m5.0\u001b[39m),\n",
       "  right = \u001b[33mNumber\u001b[39m(num = \u001b[32m1.0\u001b[39m)\n",
       ")"
      ]
     },
     "execution_count": 79,
     "metadata": {},
     "output_type": "execute_result"
    }
   ],
   "source": [
    "val exp = new BinOp(\"*\", Number(5), Number(1))"
   ]
  },
  {
   "cell_type": "code",
   "execution_count": 80,
   "id": "9829dfe8-0a66-4dd4-ae77-52512c32ab2b",
   "metadata": {},
   "outputs": [
    {
     "data": {
      "text/plain": [
       "\u001b[36mop\u001b[39m: \u001b[32mString\u001b[39m = \u001b[32m\"*\"\u001b[39m\n",
       "\u001b[36mleft\u001b[39m: \u001b[32mExpr\u001b[39m = \u001b[33mNumber\u001b[39m(num = \u001b[32m5.0\u001b[39m)\n",
       "\u001b[36mright\u001b[39m: \u001b[32mExpr\u001b[39m = \u001b[33mNumber\u001b[39m(num = \u001b[32m1.0\u001b[39m)"
      ]
     },
     "execution_count": 80,
     "metadata": {},
     "output_type": "execute_result"
    }
   ],
   "source": [
    "val BinOp(op, left, right) = exp"
   ]
  },
  {
   "cell_type": "markdown",
   "id": "8ef5c4a2-6c86-4b0d-87f9-d5cbbe8be861",
   "metadata": {},
   "source": [
    "### 作为偏函数的case序列\n",
    "\n",
    "用花括号包起来的一系列case（即可选分支）可以用在任何允许出现函数字面量的地方。**本质上讲，case序列就是一个函数字面量，只是更加通用**。不像普通函数那样只有一个入口和参数列表，case序列可以有多个入口，每个入口都有自己的参数列表。每个case对应该函数的一个入口，而该入口的参数列表用模式来指定。每个入口的逻辑主体是case右边的部分。\n",
    "\n",
    "下面是个简单的例子："
   ]
  },
  {
   "cell_type": "code",
   "execution_count": 81,
   "id": "f8d415ab-4fba-462e-baca-610b97e825c7",
   "metadata": {},
   "outputs": [
    {
     "data": {
      "text/plain": [
       "\u001b[36mwithDefault\u001b[39m: \u001b[32mOption\u001b[39m[\u001b[32mInt\u001b[39m] => \u001b[32mInt\u001b[39m = ammonite.$sess.cmd80$Helper$$Lambda$2379/20473158@aa022b\n",
       "defined \u001b[32mfunction\u001b[39m \u001b[36mshow\u001b[39m"
      ]
     },
     "execution_count": 81,
     "metadata": {},
     "output_type": "execute_result"
    }
   ],
   "source": [
    "val withDefault: Option[Int] => Int = {\n",
    "    case Some(x) => x\n",
    "    case None => 0\n",
    "}\n",
    "\n",
    "def show(x: Option[String]) = x match{\n",
    "    case Some(s) => s\n",
    "    case None => \"?\"\n",
    "}"
   ]
  },
  {
   "cell_type": "markdown",
   "id": "c8227a64-d02a-4db5-8ccb-0d7c38b5149e",
   "metadata": {},
   "source": [
    "该函数的函数体有两个case。第一个case匹配Some，返回Some中的值。第二个case匹配None，返回默认值0。以下是这个函数用起来的效果："
   ]
  },
  {
   "cell_type": "code",
   "execution_count": 82,
   "id": "74e50487-2480-4bbf-b9a7-9246c6218e62",
   "metadata": {},
   "outputs": [
    {
     "data": {
      "text/plain": [
       "\u001b[36mres81\u001b[39m: \u001b[32mInt\u001b[39m = \u001b[32m10\u001b[39m"
      ]
     },
     "execution_count": 82,
     "metadata": {},
     "output_type": "execute_result"
    }
   ],
   "source": [
    "withDefault(Some(10))"
   ]
  },
  {
   "cell_type": "code",
   "execution_count": 83,
   "id": "73b0d159-5123-4158-a96c-363edad4fb1d",
   "metadata": {},
   "outputs": [
    {
     "data": {
      "text/plain": [
       "\u001b[36mres82\u001b[39m: \u001b[32mInt\u001b[39m = \u001b[32m0\u001b[39m"
      ]
     },
     "execution_count": 83,
     "metadata": {},
     "output_type": "execute_result"
    }
   ],
   "source": [
    "withDefault(None)"
   ]
  },
  {
   "cell_type": "markdown",
   "id": "903c7a2b-86bc-47d3-95d5-d985bc7b5ed6",
   "metadata": {},
   "source": [
    "这套机制对于Akka这个actor类库而言十分有用，因为有了它，Akka可以用一组case来定义它的receive方法：\n",
    "```scala\n",
    "var sum = 0\n",
    "\n",
    "def receive = {\n",
    "\n",
    "  case Data(byte) =>\n",
    "    sum += byte\n",
    "\n",
    "  case GetChecksum(requester) =>\n",
    "    val checksum = ~(sum & 0xFF) + 1\n",
    "    requester ! checksum\n",
    "}\n",
    "```"
   ]
  },
  {
   "cell_type": "markdown",
   "id": "9a18af02-d70f-441e-b8fb-d026d132603c",
   "metadata": {},
   "source": [
    "还有另一点值得我们注意：**通过case序列得到的是一个偏函数（partial function）。如果我们将这样一个函数应用到它不支持的值上，它会产生一个运行时异常**。例如，这里有一个返回整数列表中第二个元素的偏函数："
   ]
  },
  {
   "cell_type": "code",
   "execution_count": 84,
   "id": "602f528c-ad80-4b38-bed7-e136e85f8370",
   "metadata": {},
   "outputs": [
    {
     "data": {
      "text/plain": [
       "\u001b[36msecond\u001b[39m: \u001b[32mList\u001b[39m[\u001b[32mInt\u001b[39m] => \u001b[32mInt\u001b[39m = ammonite.$sess.cmd83$Helper$$Lambda$2391/22133561@14897aa"
      ]
     },
     "execution_count": 84,
     "metadata": {},
     "output_type": "execute_result"
    }
   ],
   "source": [
    "val second: List[Int] => Int = {\n",
    "    case x::y::_ => y\n",
    "}"
   ]
  },
  {
   "cell_type": "code",
   "execution_count": 85,
   "id": "55c989de-c2b2-4a05-a00f-139d2ab18395",
   "metadata": {},
   "outputs": [
    {
     "data": {
      "text/plain": [
       "\u001b[36mres84\u001b[39m: \u001b[32mInt\u001b[39m = \u001b[32m7\u001b[39m"
      ]
     },
     "execution_count": 85,
     "metadata": {},
     "output_type": "execute_result"
    }
   ],
   "source": [
    "second(List(6,7,8))"
   ]
  },
  {
   "cell_type": "code",
   "execution_count": 85,
   "id": "d28c1057-75f3-4bca-ad80-18bcf6960e0c",
   "metadata": {},
   "outputs": [],
   "source": [
    "//second(List())"
   ]
  },
  {
   "cell_type": "markdown",
   "id": "667b20fa-a5a3-44d1-b07a-0591d20296c3",
   "metadata": {},
   "source": [
    "如果你想检查某个偏函数是否对某个入参有定义，必须首先告诉编译器你知道你要处理的是偏函数。List[Int] => Int这个类型涵盖了所有从整数列表到整数的函数，不论这个函数是偏函数还是全函数。仅涵盖从整数列表到整数的偏函数的类型写作 PartialFunction[List[Int], Int]。我们重新写一遍second函数，这次用偏函数的类型声明："
   ]
  },
  {
   "cell_type": "code",
   "execution_count": 86,
   "id": "10d0e596-eed9-4ea0-864c-3dc9f9049b6e",
   "metadata": {},
   "outputs": [
    {
     "data": {
      "text/plain": [
       "\u001b[36msecond\u001b[39m: \u001b[32mPartialFunction\u001b[39m[\u001b[32mList\u001b[39m[\u001b[32mInt\u001b[39m], \u001b[32mInt\u001b[39m] = <function1>"
      ]
     },
     "execution_count": 86,
     "metadata": {},
     "output_type": "execute_result"
    }
   ],
   "source": [
    "val second: PartialFunction[List[Int],Int] = {\n",
    "    case x::y::_ => y\n",
    "}"
   ]
  },
  {
   "cell_type": "markdown",
   "id": "46cb13cb-eb68-461b-bf67-f9e66ba4eede",
   "metadata": {},
   "source": [
    "偏函数定义了一个isDefinedAt方法，可以用来检查该函数是否对某个特定的值有定义。在本例中，这个函数对于任何至少有两个元素的列表都有定义："
   ]
  },
  {
   "cell_type": "code",
   "execution_count": 87,
   "id": "a9d4c38c-4e69-40d9-bb08-b5a9b865911c",
   "metadata": {},
   "outputs": [
    {
     "data": {
      "text/plain": [
       "\u001b[36mres86\u001b[39m: \u001b[32mBoolean\u001b[39m = true"
      ]
     },
     "execution_count": 87,
     "metadata": {},
     "output_type": "execute_result"
    }
   ],
   "source": [
    "second.isDefinedAt(List(5,6,7))"
   ]
  },
  {
   "cell_type": "code",
   "execution_count": 88,
   "id": "fd9caf0f-0421-4f2e-8388-2412b5443d7d",
   "metadata": {},
   "outputs": [
    {
     "data": {
      "text/plain": [
       "\u001b[36mres87\u001b[39m: \u001b[32mBoolean\u001b[39m = true"
      ]
     },
     "execution_count": 88,
     "metadata": {},
     "output_type": "execute_result"
    }
   ],
   "source": [
    "second.isDefinedAt(List(5,6,7,8))"
   ]
  },
  {
   "cell_type": "code",
   "execution_count": 89,
   "id": "4abb05c5-ba16-4eca-bb72-f069b2abe818",
   "metadata": {},
   "outputs": [
    {
     "data": {
      "text/plain": [
       "\u001b[36mres88\u001b[39m: \u001b[32mBoolean\u001b[39m = true"
      ]
     },
     "execution_count": 89,
     "metadata": {},
     "output_type": "execute_result"
    }
   ],
   "source": [
    "second.isDefinedAt(List(5,6))"
   ]
  },
  {
   "cell_type": "code",
   "execution_count": 90,
   "id": "45fbba63-e1a6-4675-ba7e-956008b9768d",
   "metadata": {},
   "outputs": [
    {
     "data": {
      "text/plain": [
       "\u001b[36mres89\u001b[39m: \u001b[32mBoolean\u001b[39m = false"
      ]
     },
     "execution_count": 90,
     "metadata": {},
     "output_type": "execute_result"
    }
   ],
   "source": [
    "second.isDefinedAt(List(5))"
   ]
  },
  {
   "cell_type": "code",
   "execution_count": 91,
   "id": "9a2b19e0-cbc0-4400-8e81-96b927c6fdb6",
   "metadata": {},
   "outputs": [
    {
     "data": {
      "text/plain": [
       "\u001b[36mres90\u001b[39m: \u001b[32mBoolean\u001b[39m = false"
      ]
     },
     "execution_count": 91,
     "metadata": {},
     "output_type": "execute_result"
    }
   ],
   "source": [
    "second.isDefinedAt(List())"
   ]
  },
  {
   "cell_type": "code",
   "execution_count": 92,
   "id": "a1f058fd-d619-4c11-b7d1-92dd41554f4a",
   "metadata": {},
   "outputs": [
    {
     "data": {
      "text/plain": [
       "\u001b[36mres91\u001b[39m: \u001b[32mInt\u001b[39m = \u001b[32m6\u001b[39m"
      ]
     },
     "execution_count": 92,
     "metadata": {},
     "output_type": "execute_result"
    }
   ],
   "source": [
    "second(List(5,6,7))"
   ]
  },
  {
   "cell_type": "markdown",
   "id": "053ec893-691c-46c6-9272-01326cab427c",
   "metadata": {},
   "source": [
    "```scala\n",
    "second(List(\"a\",\"b\",\"c\"))\n",
    "\n",
    "\n",
    "cmd170.sc:1: type mismatch;\n",
    " found   : String(\"a\")\n",
    " required: Int\n",
    "val res170 = second(List(\"a\",\"b\",\"c\"))\n",
    "                         ^cmd170.sc:1: type mismatch;\n",
    " found   : String(\"b\")\n",
    " required: Int\n",
    "val res170 = second(List(\"a\",\"b\",\"c\"))\n",
    "                             ^cmd170.sc:1: type mismatch;\n",
    " found   : String(\"c\")\n",
    " required: Int\n",
    "val res170 = second(List(\"a\",\"b\",\"c\"))\n",
    "                                 ^Compilation Failed\n",
    "Compilation Failed\n",
    "```"
   ]
  },
  {
   "cell_type": "markdown",
   "id": "bbee9473-39e1-451d-ad15-219daa22cf9d",
   "metadata": {},
   "source": [
    "偏函数的典型用例是模式匹配函数字面量，就像前面这个例子。事实上，这样的表达式会被Scala编译器翻译成偏函数，这样的翻译发生了两次：一次是实现真正的函数，另一次是测试这个函数是否对指定值有定义。\n",
    "\n",
    "举例来说，函数字面量{ case x::y::_ => y }将被翻译成如下的偏函数值："
   ]
  },
  {
   "cell_type": "code",
   "execution_count": 93,
   "id": "e44837a8-0adc-4fd3-9bea-1a2fff667749",
   "metadata": {},
   "outputs": [
    {
     "data": {
      "text/plain": [
       "\u001b[36mres92\u001b[39m: \u001b[32mAnyRef\u001b[39m with \u001b[32mPartialFunction\u001b[39m[\u001b[32mList\u001b[39m[\u001b[32mInt\u001b[39m], \u001b[32mInt\u001b[39m] = <function1>"
      ]
     },
     "execution_count": 93,
     "metadata": {},
     "output_type": "execute_result"
    }
   ],
   "source": [
    "new PartialFunction[List[Int],Int] {\n",
    "    def apply(xs: List[Int]) = xs match {\n",
    "        case x::y::_ => y\n",
    "    }\n",
    "    def isDefinedAt(xs: List[Int]) = xs match {\n",
    "        case x::y::_ => true\n",
    "        case _ => false\n",
    "    }\n",
    "}"
   ]
  },
  {
   "cell_type": "markdown",
   "id": "4930ef62-be34-4163-8232-a04c1c0c4304",
   "metadata": {},
   "source": [
    "只要函数字面量声明的类型是PartialFunction，这样的翻译就会生效。如果声明的类型只是Function1，或没有声明，那么函数字面量对应的就是一个全函数（complete function）。\n",
    "\n",
    "一般来说，我们应该尽量用全函数，因为偏函数允许运行时出现错误，而编译器帮不了我们。不过有时候偏函数也特别有用。你也许能确信不会有不能处理的值传入， 也可能会用到那种预期偏函数的框架，在调用函数之前，总是会先用isDefinedAt做一次检查。后者的例子可以参考上面讲到的react示例，示例中的入参是一个偏函数，只处理那些调用方想处理的消息。[4]\n",
    "\n",
    "### for表达式中的模式\n",
    "\n",
    "我们还可以在for表达式中使用模式，如示例15.18。这里的for表达式从capitals映射中接收键/值对，每个键/值对都跟模式（country, city）匹配，这个模式定义了两个变量，country和city。"
   ]
  },
  {
   "cell_type": "code",
   "execution_count": 94,
   "id": "da03485e-f678-4b33-b9db-de96b746ce68",
   "metadata": {},
   "outputs": [
    {
     "name": "stdout",
     "output_type": "stream",
     "text": [
      "The capital of France is Paris\n",
      "The capital of Japan is Tokyo\n"
     ]
    },
    {
     "data": {
      "text/plain": [
       "\u001b[36mcapitals\u001b[39m: \u001b[32mMap\u001b[39m[\u001b[32mString\u001b[39m, \u001b[32mString\u001b[39m] = \u001b[33mMap\u001b[39m(\u001b[32m\"France\"\u001b[39m -> \u001b[32m\"Paris\"\u001b[39m, \u001b[32m\"Japan\"\u001b[39m -> \u001b[32m\"Tokyo\"\u001b[39m)"
      ]
     },
     "execution_count": 94,
     "metadata": {},
     "output_type": "execute_result"
    }
   ],
   "source": [
    "val capitals = Map(\"France\" -> \"Paris\", \"Japan\" -> \"Tokyo\")\n",
    "for((country, city) <- capitals)\n",
    "    println(\"The capital of \" + country + \" is \" + city)"
   ]
  },
  {
   "cell_type": "markdown",
   "id": "41acbf5d-691c-4bdc-aa4e-5a11bdfcae1e",
   "metadata": {},
   "source": [
    "<center>示例15.18 带有元组模式的for表达式</center>\n",
    "\n",
    "示例15.18给出的对偶（pair）模式很特别，因为这个匹配永远都不会失败。的确，capitals交出一系列的对偶，因此可以确信每个生成的对偶都能够跟对偶模式匹配上。\n",
    "\n",
    "不过某个模式不能匹配某个生成的值的情况也同样存在。示例15.19的代码就是这样一个例子。"
   ]
  },
  {
   "cell_type": "code",
   "execution_count": 95,
   "id": "313f2f69-67bf-4591-8a29-db2c9613cd36",
   "metadata": {},
   "outputs": [
    {
     "name": "stdout",
     "output_type": "stream",
     "text": [
      "apple\n",
      "orange\n"
     ]
    },
    {
     "data": {
      "text/plain": [
       "\u001b[36mresults\u001b[39m: \u001b[32mList\u001b[39m[\u001b[32mOption\u001b[39m[\u001b[32mString\u001b[39m]] = \u001b[33mList\u001b[39m(\n",
       "  \u001b[33mSome\u001b[39m(value = \u001b[32m\"apple\"\u001b[39m),\n",
       "  \u001b[32mNone\u001b[39m,\n",
       "  \u001b[33mSome\u001b[39m(value = \u001b[32m\"orange\"\u001b[39m)\n",
       ")"
      ]
     },
     "execution_count": 95,
     "metadata": {},
     "output_type": "execute_result"
    }
   ],
   "source": [
    "val results = List(Some(\"apple\"), None, Some(\"orange\"))\n",
    "for(Some(fruit) <- results) println(fruit)"
   ]
  },
  {
   "cell_type": "markdown",
   "id": "4a404de7-69ed-4364-8f36-14abdd547b69",
   "metadata": {},
   "source": [
    "<center>示例15.19 从列表中选取匹配特定模式的元素</center>\n",
    "\n",
    "我们从这个例子当中可以看到，**生成的值当中那些不能匹配给定模式的值会被直接丢弃**。例如，results列表中的第二个元素None就不能匹配上模式Some（fruit），因此它也就不会出现在输出当中了。"
   ]
  },
  {
   "attachments": {
    "b6fbb9fc-f892-402d-904d-14ec6b18b992.png": {
     "image/png": "[encoded data removed]"
    }
   },
   "cell_type": "markdown",
   "id": "f4c29ed1-b6d3-4de2-9e5a-845a1e1e95bb",
   "metadata": {},
   "source": [
    "## 15.8 一个复杂的例子\n",
    "\n",
    "在学习了模式的不同形式之后，你可能会对它们在相对复杂的例子中是如何应用的感兴趣。提议的任务是编写一个表达式格式化类，以二维布局来显示一个算术表达式。诸如“x / （x + 1）”的除法应该纵向打印，将被除数放在除数上面，就像这样：  \n",
    "![图片.png](attachment:b6fbb9fc-f892-402d-904d-14ec6b18b992.png)"
   ]
  },
  {
   "attachments": {
    "4dd04258-759f-4086-88b8-0cb580b2596b.png": {
     "image/png": "[encoded data removed]"
    }
   },
   "cell_type": "markdown",
   "id": "5ef11d16-9fcc-40b5-a476-d91c8c196f86",
   "metadata": {},
   "source": [
    "再看另一个例子，表达式（（a / （b * c） + 1 / n） / 3）放在二维布局是这样的：  \n",
    "![图片.png](attachment:4dd04258-759f-4086-88b8-0cb580b2596b.png)"
   ]
  },
  {
   "attachments": {
    "3d2fc5d3-1b46-494a-b3b4-efef4f87c43f.png": {
     "image/png": "[encoded data removed]"
    }
   },
   "cell_type": "markdown",
   "id": "756fadd8-4c95-4846-9450-40c3823c2bc9",
   "metadata": {},
   "source": [
    "从这些示例来看，要定义的这个类（我们就叫它ExprFormatter吧）需要做大量的布局安排，因此我们有理由使用在第10章开发的布局类库。我们还会用到本章前面讲到的Expr这组样例类，并将第10章的布局类库和本章的表达式格式化工具放在对应名称的包里。这个例子的完整代码请参考示例15.20和示例15.21。\n",
    "\n",
    "第一步，我们先集中精力做好横向布局。比如对于下面这个结构化的表达式：  \n",
    "![图片.png](attachment:3d2fc5d3-1b46-494a-b3b4-efef4f87c43f.png)"
   ]
  },
  {
   "attachments": {
    "58ef3994-9768-453f-834a-5c86957435b1.png": {
     "image/png": "[encoded data removed]"
    }
   },
   "cell_type": "markdown",
   "id": "11c32f94-c762-46e9-9286-b9f7b0264522",
   "metadata": {},
   "source": [
    "应该打印出 （x + y） * z + 1。注意包在x + y外围的这组圆括号是必需的，但（x + y） * z外围则不是必需的。为了保持布局尽可能清晰易读，我们的目标是去掉冗余的圆括号，同时确保所有必要的圆括号继续保留。\n",
    "\n",
    "为了知道哪里该放置圆括号，我们的代码需要知晓操作符的优先级，我们先把这件事搞定吧。可以用下面这样的映射字面量来直接表示优先级：  \n",
    "![图片.png](attachment:58ef3994-9768-453f-834a-5c86957435b1.png)"
   ]
  },
  {
   "cell_type": "markdown",
   "id": "f6246641-beed-4f6a-9f8d-7ede890abab4",
   "metadata": {},
   "source": [
    "不过，这需要我们自己来事先做一些运算。更方便的做法是按照递增的优先级定义多组操作符，然后再从中计算每个操作符的优先级。具体代码参考示例15.20。\n",
    "\n",
    "变量precedence是一个从操作符到优先级的映射，其中优先级从0开始。它是通过一个带有两个生成器的for表达式计算出来的。第一个生成器产生 opGroups数组的每一个下标i，第二个生成器产生opGroups（i）中的每一个操作符op。对每一个操作符，for表达式都会交出这个操作符 op到下标i的关联。这样一来，数组中操作符的相对位置就被当作它的优先级。\n",
    "\n",
    "关联关系用中缀的剪头表示，例如op -> i。之前我们只在映射的构造过程中看到过这样的关联，不过它们本身也是一种值。事实上，op -> i这样的关联跟对偶（op, i）是一回事。\n",
    "\n",
    "现在我们已经搞定了所有除/之外的二元操作符的优先级，接下来我们将这个概念进一步泛化让它也包含一元操作符。一元操作符的优先级高于所有的二元操作符。因此可以将unaryPrecedence（示例15.20）的优先级设为跟opGroups的长度相等，也就是比\\*和%操作符多1。分数的优先级处理区别 于其他操作符，因为分数采用的是纵向布局。不过，稍后我们就会看到，将除法的优先级设置为特殊的-1会很方便，因此我们将 fractionPrecedence设为-1（如示例15.20所示）。\n",
    "\n",
    "完成了这些准备工作之后，我们就可以着手编写format这个主方法了。该方法接收两个入参：类型为Expr的表达式e和直接闭合表达式e的的操作符的优先级encPrec（如果没有直接闭合的操作符，enclPrec应设为0）。这个方法交出的是一个代表了二维字符数组的布局元素。\n",
    "\n",
    "示例15.20表达式格式化方法的上半部分\n",
    "\n",
    "示例15.21给出了ExprFormatter类的余下部分，包含三个方法。第一个方法stripDot是一个助手方法；第二个私有的format方法完 成了格式化表达式的主要工作；最后一个同样命名为format的方法是类库中唯一的公开方法，接收一个要格式化的表达式作为入参。私有的format方法 通过对表达式的种类执行模式匹配来完成工作。这里的match表达式有五个case，我们将逐一介绍每个case。"
   ]
  },
  {
   "cell_type": "code",
   "execution_count": 96,
   "id": "914d8cee-6309-4809-8b21-72995b94b1e3",
   "metadata": {},
   "outputs": [
    {
     "data": {
      "text/plain": [
       "defined \u001b[32mobject\u001b[39m \u001b[36mElement\u001b[39m\n",
       "\u001b[32mimport \u001b[39m\u001b[36mElement.elem\n",
       "\n",
       "\u001b[39m\n",
       "defined \u001b[32mclass\u001b[39m \u001b[36mElement\u001b[39m"
      ]
     },
     "execution_count": 96,
     "metadata": {},
     "output_type": "execute_result"
    }
   ],
   "source": [
    "object Element {\n",
    "  private class ArrayElement(\n",
    "    val contents: Array[String]\n",
    "  ) extends Element\n",
    "\n",
    "  private class LineElement(s: String) extends Element {\n",
    "    val contents = Array(s)\n",
    "    override def width = s.length\n",
    "    override def height = 1\n",
    "  }\n",
    "  private class UniformElement(\n",
    "    ch: Char,\n",
    "    override val width: Int,\n",
    "    override val height: Int\n",
    "  ) extends Element {\n",
    "    private val line = ch.toString * width\n",
    "    def contents = Array.fill(height)(line)\n",
    "  }\n",
    "\n",
    "  def elem(contents:  Array[String]): Element =\n",
    "    new ArrayElement(contents)\n",
    "    \n",
    "  def elem(chr: Char, width: Int, height: Int): Element =\n",
    "    new UniformElement(chr, width, height)\n",
    "\n",
    "  def elem(line: String): Element =\n",
    "    new LineElement(line)\n",
    "}\n",
    "\n",
    "import Element.elem\n",
    "\n",
    "abstract class Element {\n",
    "  def contents:  Array[String]\n",
    "\n",
    "  def width: Int = contents(0).length\n",
    "  def height: Int = contents.length\n",
    "\n",
    "  def above(that: Element): Element = {\n",
    "    val this1 = this widen that.width\n",
    "    val that1 = that widen this.width\n",
    "    elem(this1.contents ++ that1.contents)\n",
    "  }\n",
    "\n",
    "  def beside(that: Element): Element = {\n",
    "    val this1 = this heighten that.height\n",
    "    val that1 = that heighten this.height\n",
    "    elem(\n",
    "      for ((line1, line2) <- this1.contents zip that1.contents) \n",
    "      yield line1 + line2)\n",
    "  }\n",
    "\n",
    "  def widen(w: Int): Element = \n",
    "    if (w <= width) this\n",
    "    else {\n",
    "      val left = elem(' ', (w - width) / 2, height) \n",
    "      var right = elem(' ', w - width - left.width, height)\n",
    "      left beside this beside right\n",
    "    }\n",
    "\n",
    "  def heighten(h: Int): Element = \n",
    "    if (h <= height) this\n",
    "    else {\n",
    "      val top = elem(' ', width, (h - height) / 2)\n",
    "      var bot = elem(' ', width, h - height - top.height)\n",
    "      top above this above bot\n",
    "    }\n",
    "\n",
    "  override def toString = contents mkString \"\\n\"\n",
    "}"
   ]
  },
  {
   "cell_type": "code",
   "execution_count": 97,
   "id": "7f9277a6-f988-442f-8ef5-ceabdce869b1",
   "metadata": {},
   "outputs": [
    {
     "data": {
      "text/plain": [
       "defined \u001b[32mclass\u001b[39m \u001b[36mExpr\u001b[39m\n",
       "defined \u001b[32mclass\u001b[39m \u001b[36mVar\u001b[39m\n",
       "defined \u001b[32mclass\u001b[39m \u001b[36mNumber\u001b[39m\n",
       "defined \u001b[32mclass\u001b[39m \u001b[36mUnOp\u001b[39m\n",
       "defined \u001b[32mclass\u001b[39m \u001b[36mBinOp\u001b[39m\n",
       "defined \u001b[32mclass\u001b[39m \u001b[36mExprFormatter\u001b[39m"
      ]
     },
     "execution_count": 97,
     "metadata": {},
     "output_type": "execute_result"
    }
   ],
   "source": [
    "abstract class Expr\n",
    "case class Var(name: String) extends Expr\n",
    "case class Number(num: Double) extends Expr\n",
    "case class UnOp(operator: String, arg: Expr) extends Expr\n",
    "case class BinOp(operator: String, left: Expr, right: Expr) extends Expr\n",
    "\n",
    "class ExprFormatter {\n",
    "  \n",
    "    // Contains operators in groups of increasing precedence\n",
    "    private val opGroups =\n",
    "      Array(\n",
    "        Set(\"|\", \"||\"),\n",
    "        Set(\"&\", \"&&\"),\n",
    "        Set(\"^\"),\n",
    "        Set(\"==\", \"!=\"),\n",
    "        Set(\"<\", \"<=\", \">\", \">=\"),\n",
    "        Set(\"+\", \"-\"),\n",
    "        Set(\"*\", \"%\")\n",
    "      )\n",
    "  \n",
    "    // A mapping from operators to their precedence\n",
    "    private val precedence = {\n",
    "      val assocs =\n",
    "        for {\n",
    "          i <- 0 until opGroups.length\n",
    "          op <- opGroups(i)\n",
    "        } yield op -> i\n",
    "      assocs.toMap\n",
    "    }\n",
    "  \n",
    "    private val unaryPrecedence = opGroups.length\n",
    "    private val fractionPrecedence = -1\n",
    "  \n",
    "    // continued in Listing 15.21...\n",
    "\n",
    "  //import org.stairwaybook.layout.Element\n",
    "\n",
    "  // ...continued from Listing 15.20\n",
    "  \n",
    "  //import org.stairwaybook.layout.Element\n",
    "  \n",
    "  private def format(e: Expr, enclPrec: Int): Element =\n",
    "  \n",
    "    e match {\n",
    "      //如果表达式是一个变量，结果就是由该变量名构成的元素。\n",
    "      case Var(name) => \n",
    "        elem(name)\n",
    "        \n",
    "      //如果表达式是一个数值，结果就是一个由该数值构成的元素。\n",
    "      //stripDot函数通过去掉＂.0＂后缀来简化显示浮点数。\n",
    "      case Number(num) => \n",
    "        def stripDot(s: String) = \n",
    "          if (s endsWith \".0\") s.substring(0, s.length - 2)\n",
    "          else s\n",
    "        elem(stripDot(num.toString))\n",
    "      \n",
    "      //如果表达式是一个一元操作UnOp（op, arg），\n",
    "      //由于是一元操作符，因此arg有最高优先级\n",
    "      //结果就是由操作op和用当前环境中最高优先级格式化入参arg后的结果构成。\n",
    "      //这意味着如果arg是二元操作符（不过不是分数），它将总是显示在圆括号中。\n",
    "      case UnOp(op, arg) => \n",
    "        elem(op) beside format(arg, unaryPrecedence)\n",
    "  \n",
    "      //如果表达式是一个分数，那么中间结果frac就是由格式化后的操作元left和right上下叠在一起用横线隔开构成的。\n",
    "      //横线的宽度是被格式化的操作元宽度的最大值。\n",
    "      //这个中间结果也就是最终结果，除非这个分数本身是另一个分数的入参。\n",
    "      //对于后面这种情况，在frac的两边都会添加一个空格。\n",
    "      //要搞清楚为什么需要这样做，考虑表达式“（a / b） / c”。\n",
    "      case BinOp(\"/\", left, right) => \n",
    "        val top = format(left, fractionPrecedence)\n",
    "        val bot = format(right, fractionPrecedence)\n",
    "        val line = elem('-', top.width max bot.width, 1)\n",
    "        val frac = top above line above bot\n",
    "        if (enclPrec != fractionPrecedence) frac\n",
    "        else elem(\" \") beside frac beside elem(\" \")\n",
    "  \n",
    "      case BinOp(op, left, right) => \n",
    "        val opPrec = precedence(op)\n",
    "        val l = format(left, opPrec) \n",
    "        val r = format(right, opPrec + 1)\n",
    "        val oper = l beside elem(\" \" + op + \" \") beside r \n",
    "        if (enclPrec <= opPrec) oper\n",
    "        else elem(\"(\") beside oper beside elem(\")\")\n",
    "    }\n",
    "  \n",
    "    def format(e: Expr): Element = format(e, 0)\n",
    "  }"
   ]
  },
  {
   "attachments": {
    "93842261-4e1b-4082-a668-2b5165657a4d.png": {
     "image/png": "[encoded data removed]"
    },
    "996fe951-83db-46a6-9b29-fa58bc35aac0.png": {
     "image/png": "[encoded data removed]"
    },
    "d7d72254-18d6-482d-aae6-bfcd5003a9ff.png": {
     "image/png": "[encoded data removed]"
    },
    "dd8be5db-784a-4839-abd2-541b38f874f5.png": {
     "image/png": "[encoded data removed]"
    }
   },
   "cell_type": "markdown",
   "id": "3ae35af9-5177-4e6a-8ed0-020f5dcb1072",
   "metadata": {},
   "source": [
    "第一个case是：\n",
    "```scala\n",
    "case Var(name) => elem(name)\n",
    "```\n",
    "如果表达式是一个变量，结果就是由该变量名构成的元素。\n",
    "\n",
    "第二个case是：\n",
    "```scala\n",
    "case Number(num) => \n",
    "    def stripDot(s: String) = \n",
    "        if (s endsWith \".0\") s.substring(0, s.length - 2)\n",
    "        else s\n",
    "    elem(stripDot(num.toString))\n",
    "```\n",
    "如果表达式是一个数值，结果就是一个由该数值构成的元素。stripDot函数通过去掉＂.0＂后缀来简化显示浮点数。\n",
    "\n",
    "第三个case是：\n",
    "```scala\n",
    "case UnOp(op, arg) => \n",
    "    elem(op) beside format(arg, unaryPrecedence)\n",
    "```\n",
    "如果表达式是一个一元操作UnOp（op, arg），结果就是由操作op和用当前环境中最高优先级格式化入参arg后的结果构成。[5]这意味着如果arg是二元操作符（不过不是分数），它将总是显示在圆括号中。\n",
    "\n",
    "第四个case是：\n",
    "```scala\n",
    "case BinOp(\"/\", left, right) => \n",
    "    val top = format(left, fractionPrecedence)\n",
    "    val bot = format(right, fractionPrecedence)\n",
    "    val line = elem('-', top.width max bot.width, 1)\n",
    "    val frac = top above line above bot\n",
    "    if (enclPrec != fractionPrecedence) frac\n",
    "    else elem(\" \") beside frac beside elem(\" \")\n",
    "```\n",
    "如果表达式是一个分数，那么中间结果frac就是由格式化后的操作元left和right上下叠在一起用横线隔开构成的。横线的宽度是被格式化的操作元宽度 的最大值。这个中间结果也就是最终结果，除非这个分数本身是另一个分数的入参。对于后面这种情况，在frac的两边都会添加一个空格。要搞清楚为什么需要 这样做，考虑表达式“（a / b） / c”。\n",
    "\n",
    "如果没有这样的加宽处理，这个表达式在格式化之后的效果会是这样的：  \n",
    "![图片.png](attachment:996fe951-83db-46a6-9b29-fa58bc35aac0.png)\n",
    "\n",
    "这个布局的问题很明显：到底哪一条横线表示了分数的第一级是不清楚的。上述表达式既可以被解读为“（a / b） / c”也可以被解读为“a / （b / c）”。为了清晰地表示出是哪一种先后次序，需要给内嵌的分数“a / b”在布局的两边加上空格。\n",
    "\n",
    "这样一来，布局就没有歧义了：  \n",
    "![图片.png](attachment:dd8be5db-784a-4839-abd2-541b38f874f5.png)\n",
    "\n",
    "第五个也就是最后一个case是：\n",
    "```scala\n",
    "case BinOp(op, left, right) => \n",
    "    val opPrec = precedence(op)\n",
    "    val l = format(left, opPrec) \n",
    "    val r = format(right, opPrec + 1)\n",
    "    val oper = l beside elem(\" \" + op + \" \") beside r \n",
    "    if (enclPrec <= opPrec) oper\n",
    "    else elem(\"(\") beside oper beside elem(\")\")\n",
    "```\n",
    "这个case作用于所有其他二元操作。由于它出现在下面这个case之后：  \n",
    "![图片.png](attachment:d7d72254-18d6-482d-aae6-bfcd5003a9ff.png)\n",
    "\n",
    "我们知道模式BinOp（op, left, right）中的op不可能是一个除法。要格式化这样一个二元操作，需要首先将其操作元left和right格式化。格式化左操作元的优先级参数是操作符op的opPrec，而格式化右操作元的优先级比它要多1。这样的机制确保了圆括号能够正确反映结合性（associativity）。\n",
    "\n",
    "例如，如下操作：  \n",
    "![图片.png](attachment:93842261-4e1b-4082-a668-2b5165657a4d.png)\n",
    "\n",
    "将被正确地加上圆括号：“a - （b - c）”。中间结果oper由格式化后的左操作元和格式化后的右操作元并排放在一起用操作符隔开构成。如果当前操作符的优先级比闭合该操作的操作符（即上一层操作符）小，那么oper就被放在圆括号当中；否则就直接返回。\n",
    "\n",
    "这样我们就完成了私有format函数的设计。只剩下公开的format方法，调用方可以通过该方法格式化的一个顶级表达式，而不需要传入优先级入参。示例15.22给出了一个使用ExprFormatter的演示程序。"
   ]
  },
  {
   "cell_type": "code",
   "execution_count": 98,
   "id": "0a371990-5b0e-4b29-af93-04acfb6d017a",
   "metadata": {},
   "outputs": [
    {
     "name": "stdout",
     "output_type": "stream",
     "text": [
      "1          \n",
      "- * (x + 1)\n",
      "2          \n",
      "\n",
      "\n",
      "x   1.5\n",
      "- + ---\n",
      "2    x \n",
      "\n",
      "\n",
      "1          \n",
      "- * (x + 1)\n",
      "2          \n",
      "-----------\n",
      "  x   1.5  \n",
      "  - + ---  \n",
      "  2    x   \n",
      "\n",
      "\n"
     ]
    },
    {
     "data": {
      "text/plain": [
       "\u001b[36mf\u001b[39m: \u001b[32mExprFormatter\u001b[39m = ammonite.$sess.cmd96$Helper$ExprFormatter@80e79d\n",
       "\u001b[36me1\u001b[39m: \u001b[32mBinOp\u001b[39m = \u001b[33mBinOp\u001b[39m(\n",
       "  operator = \u001b[32m\"*\"\u001b[39m,\n",
       "  left = \u001b[33mBinOp\u001b[39m(\n",
       "    operator = \u001b[32m\"/\"\u001b[39m,\n",
       "    left = \u001b[33mNumber\u001b[39m(num = \u001b[32m1.0\u001b[39m),\n",
       "    right = \u001b[33mNumber\u001b[39m(num = \u001b[32m2.0\u001b[39m)\n",
       "  ),\n",
       "  right = \u001b[33mBinOp\u001b[39m(\n",
       "    operator = \u001b[32m\"+\"\u001b[39m,\n",
       "    left = \u001b[33mVar\u001b[39m(name = \u001b[32m\"x\"\u001b[39m),\n",
       "    right = \u001b[33mNumber\u001b[39m(num = \u001b[32m1.0\u001b[39m)\n",
       "  )\n",
       ")\n",
       "\u001b[36me2\u001b[39m: \u001b[32mBinOp\u001b[39m = \u001b[33mBinOp\u001b[39m(\n",
       "  operator = \u001b[32m\"+\"\u001b[39m,\n",
       "  left = \u001b[33mBinOp\u001b[39m(\n",
       "    operator = \u001b[32m\"/\"\u001b[39m,\n",
       "    left = \u001b[33mVar\u001b[39m(name = \u001b[32m\"x\"\u001b[39m),\n",
       "    right = \u001b[33mNumber\u001b[39m(num = \u001b[32m2.0\u001b[39m)\n",
       "  ),\n",
       "  right = \u001b[33mBinOp\u001b[39m(\n",
       "    operator = \u001b[32m\"/\"\u001b[39m,\n",
       "    left = \u001b[33mNumber\u001b[39m(num = \u001b[32m1.5\u001b[39m),\n",
       "    right = \u001b[33mVar\u001b[39m(name = \u001b[32m\"x\"\u001b[39m)\n",
       "  )\n",
       ")\n",
       "\u001b[36me3\u001b[39m: \u001b[32mBinOp\u001b[39m = \u001b[33mBinOp\u001b[39m(\n",
       "  operator = \u001b[32m\"/\"\u001b[39m,\n",
       "  left = \u001b[33mBinOp\u001b[39m(\n",
       "    operator = \u001b[32m\"*\"\u001b[39m,\n",
       "    left = \u001b[33mBinOp\u001b[39m(\n",
       "      operator = \u001b[32m\"/\"\u001b[39m,\n",
       "      left = \u001b[33mNumber\u001b[39m(num = \u001b[32m1.0\u001b[39m),\n",
       "      right = \u001b[33mNumber\u001b[39m(num = \u001b[32m2.0\u001b[39m)\n",
       "    ),\n",
       "    right = \u001b[33mBinOp\u001b[39m(\n",
       "      operator = \u001b[32m\"+\"\u001b[39m,\n",
       "      left = \u001b[33mVar\u001b[39m(name = \u001b[32m\"x\"\u001b[39m),\n",
       "      right = \u001b[33mNumber\u001b[39m(num = \u001b[32m1.0\u001b[39m)\n",
       "    )\n",
       "  ),\n",
       "  right = \u001b[33mBinOp\u001b[39m(\n",
       "    operator = \u001b[32m\"+\"\u001b[39m,\n",
       "    left = \u001b[33mBinOp\u001b[39m(\n",
       "      operator = \u001b[32m\"/\"\u001b[39m,\n",
       "      left = \u001b[33mVar\u001b[39m(name = \u001b[32m\"x\"\u001b[39m),\n",
       "      right = \u001b[33mNumber\u001b[39m(num = \u001b[32m2.0\u001b[39m)\n",
       "    ),\n",
       "    right = \u001b[33mBinOp\u001b[39m(\n",
       "      operator = \u001b[32m\"/\"\u001b[39m,\n",
       "      left = \u001b[33mNumber\u001b[39m(num = \u001b[32m1.5\u001b[39m),\n",
       "      right = \u001b[33mVar\u001b[39m(name = \u001b[32m\"x\"\u001b[39m)\n",
       "    )\n",
       "  )\n",
       ")\n",
       "defined \u001b[32mfunction\u001b[39m \u001b[36mshow\u001b[39m"
      ]
     },
     "execution_count": 98,
     "metadata": {},
     "output_type": "execute_result"
    }
   ],
   "source": [
    "//import org.stairwaybook.layout.Element\n",
    "//import Element.elem\n",
    "\n",
    "\n",
    "//import org.stairwaybook.expr._\n",
    "\n",
    "\n",
    "  val f = new ExprFormatter\n",
    "\n",
    "  val e1 = BinOp(\"*\", BinOp(\"/\", Number(1), Number(2)), \n",
    "                      BinOp(\"+\", Var(\"x\"), Number(1)))\n",
    "\n",
    "  val e2 = BinOp(\"+\", BinOp(\"/\", Var(\"x\"), Number(2)), \n",
    "                      BinOp(\"/\", Number(1.5), Var(\"x\")))\n",
    "\n",
    "  val e3 = BinOp(\"/\", e1, e2)\n",
    "\n",
    "  def show(e: Expr) = println(f.format(e)+ \"\\n\\n\")\n",
    "\n",
    "  for (e <- Array(e1, e2, e3)) show(e)"
   ]
  },
  {
   "cell_type": "markdown",
   "id": "d680c4a9-a0a8-4bbb-9665-1cd528810d34",
   "metadata": {},
   "source": [
    "## 15.9 结语\n",
    "\n",
    "在 本章，你详细地了解了Scala的样例类和模式匹配。通过它们，可以利用一些通常在面向对象编程语言中没有的精简写法。不过，本章描述的内容并不是 Scala的模式匹配的全部。假如你想对你的类做模式匹配，但又不想像样例类那样将你的类开放给其他人访问，可以用第26章介绍的提取器（extractor）。在下一章，我们将注意力转向列表。\n",
    "\n",
    "[1].除了用抽象类外，我们还可以选择用特质来对这个类层次结构的根建模。（不过）用抽象类可能会稍微高效一些。\n",
    "\n",
    "[2].Gamma,et al.,《Design Patterns》[Gam95]\n",
    "\n",
    "[3].在m: Map[\\_, \\_]这个带类型的模式中，“Map[_, _]”的部分称为类型模式（type pattern）。\n",
    "\n",
    "[4].原书这里的表述有些问题，react实际上指的是Akka的receive方法，而Akka严格来说并不是一个框架，而是类库，只是从代码局部来看跟框架的效果相似而已。——译者注\n",
    "\n",
    "[5].unaryPrecedence是最高优先级，因为它被初始化成比*和%多1。"
   ]
  },
  {
   "cell_type": "markdown",
   "id": "f76cd710-ee33-42d5-8a84-eea7eba078d7",
   "metadata": {},
   "source": [
    "## 笔记"
   ]
  },
  {
   "cell_type": "markdown",
   "id": "722d279a-fad8-4c6e-956d-f13887f1d6fd",
   "metadata": {},
   "source": [
    "### 样例类\n",
    "\n",
    "1. 样例类是Scala用来对对象进行模式匹配而并不需要大量的样板代码的方式。\n",
    "2. 样例类只要在类前加case关键词即可。\n",
    "3. Scala编译器为样例类添加的语法便利：\n",
    ">+ 添加一个与类同名的工厂方法，构造是不需要添加new关键词。  \n",
    ">+ 参数列表中的参数都隐式地获得了一个val前缀，因此它们会被当作字段处理。  \n",
    ">+ 编译器会帮我们以“自然”的方式实现toString、hashCode和equals方法。  \n",
    ">+ 编译器还会添加一个copy方法用于制作修改过的拷贝,可以用于制作除了一两个属性不同之外其余完全相同的该类的新实例。  "
   ]
  },
  {
   "cell_type": "code",
   "execution_count": 99,
   "id": "fa3e8bbb-14d5-4cec-9c96-b191f16ae6e1",
   "metadata": {},
   "outputs": [
    {
     "data": {
      "text/plain": [
       "defined \u001b[32mclass\u001b[39m \u001b[36mExpr\u001b[39m\n",
       "defined \u001b[32mclass\u001b[39m \u001b[36mVar\u001b[39m\n",
       "defined \u001b[32mclass\u001b[39m \u001b[36mNumber\u001b[39m\n",
       "defined \u001b[32mclass\u001b[39m \u001b[36mUnOp\u001b[39m\n",
       "defined \u001b[32mclass\u001b[39m \u001b[36mBinOp\u001b[39m"
      ]
     },
     "execution_count": 99,
     "metadata": {},
     "output_type": "execute_result"
    }
   ],
   "source": [
    "abstract class Expr\n",
    "case class Var(name: String) extends Expr\n",
    "case class Number(num: Double) extends Expr\n",
    "case class UnOp(operator: String, arg: Expr) extends Expr\n",
    "case class BinOp(operator: String, left: Expr, right: Expr) extends Expr"
   ]
  },
  {
   "cell_type": "code",
   "execution_count": 100,
   "id": "8a1011dd-e5f2-4382-b7e4-2d5ec7852565",
   "metadata": {},
   "outputs": [
    {
     "data": {
      "text/plain": [
       "\u001b[36mv\u001b[39m: \u001b[32mVar\u001b[39m = \u001b[33mVar\u001b[39m(name = \u001b[32m\"x\"\u001b[39m)"
      ]
     },
     "execution_count": 100,
     "metadata": {},
     "output_type": "execute_result"
    }
   ],
   "source": [
    "val v = Var(\"x\")//添加一个与类同名的工厂方法，构造是不需要添加new关键词。  "
   ]
  },
  {
   "cell_type": "code",
   "execution_count": 101,
   "id": "6f0208de-a1f1-4090-97c2-f2ed8cde0942",
   "metadata": {},
   "outputs": [
    {
     "name": "stdout",
     "output_type": "stream",
     "text": [
      "x\n"
     ]
    }
   ],
   "source": [
    "println(v.name)//参数列表中的参数都隐式地获得了一个val前缀，因此它们会被当作字段处理。"
   ]
  },
  {
   "cell_type": "code",
   "execution_count": 102,
   "id": "c59dc9ee-d9c5-4724-beb2-dcf8c875c16c",
   "metadata": {},
   "outputs": [
    {
     "name": "stdout",
     "output_type": "stream",
     "text": [
      "BinOp(+,Number(1.0),Var(x))\n"
     ]
    },
    {
     "data": {
      "text/plain": [
       "\u001b[36mop\u001b[39m: \u001b[32mBinOp\u001b[39m = \u001b[33mBinOp\u001b[39m(\n",
       "  operator = \u001b[32m\"+\"\u001b[39m,\n",
       "  left = \u001b[33mNumber\u001b[39m(num = \u001b[32m1.0\u001b[39m),\n",
       "  right = \u001b[33mVar\u001b[39m(name = \u001b[32m\"x\"\u001b[39m)\n",
       ")"
      ]
     },
     "execution_count": 102,
     "metadata": {},
     "output_type": "execute_result"
    }
   ],
   "source": [
    "val op = BinOp(\"+\", Number(1), v)\n",
    "println(op)//编译器会帮我们以“自然”的方式实现toString、hashCode和equals方法。 "
   ]
  },
  {
   "cell_type": "code",
   "execution_count": 103,
   "id": "71838b66-cd2b-45b2-885f-60d032794dfa",
   "metadata": {},
   "outputs": [
    {
     "data": {
      "text/plain": [
       "\u001b[36mres102\u001b[39m: \u001b[32mBinOp\u001b[39m = \u001b[33mBinOp\u001b[39m(\n",
       "  operator = \u001b[32m\"+\"\u001b[39m,\n",
       "  left = \u001b[33mNumber\u001b[39m(num = \u001b[32m2.0\u001b[39m),\n",
       "  right = \u001b[33mVar\u001b[39m(name = \u001b[32m\"x\"\u001b[39m)\n",
       ")"
      ]
     },
     "execution_count": 103,
     "metadata": {},
     "output_type": "execute_result"
    }
   ],
   "source": [
    "op.copy(left = Number(2.0))//编译器还会添加一个copy方法用于制作修改过的拷贝"
   ]
  },
  {
   "cell_type": "markdown",
   "id": "c7aadda0-f566-4d64-bd95-8bf6e7d62849",
   "metadata": {},
   "source": [
    "所有这些带来的是大量的便利（代价却很小）。你需要多写一个case修饰符，并且你的类和对象会变得大那么一点。之所以更大，是因为生成了额外的方法，并且对于构造方法的每个参数都隐式地添加了字段。不过，样例类最大的好处是它们支持模式匹配。"
   ]
  },
  {
   "cell_type": "markdown",
   "id": "daae09ad-3c61-468d-80a6-02fdc6206f9f",
   "metadata": {},
   "source": [
    "### 模式匹配\n",
    "1. 模式匹配的语法结构是`选择器 match {可选分支}`\n",
    "2. 模式匹配包含一系列以case关键字打头的可选分支（alternative）。每一个可选分支都包括一个模式（pattern）以及一个或多个表达式，如果模式匹配了，这些表达式就会被求值。箭头符=>用于将模式和表达式分开。\n",
    "3. 可选分支逐一尝试，第一个匹配上的模式被选中，跟在模式后面的表达式被执行。（模式重叠讲的就是这个道理）\n",
    "4. Scala的match与Java的switch的区别\n",
    ">+ Scala的match是一个表达式（也就是说它总是能得到一个值）\n",
    ">+ Scala的可选分支不会贯穿（fall through）到下一个case\n",
    ">+ 如果没有一个模式匹配上，会抛出名为MatchError的异常,这意味着你需要确保所有的case被覆盖到， 哪怕这意味着你需要添加一个什么都不做的缺省case\n",
    "\n",
    "#### 模式的种类\n",
    "1. 通配模式(\\_)：用于省略、匹配所有的可选路径，一般作为最后的可选分支。\n",
    "2. 常量模式(5、true、\"hello\"等)：仅匹配自己。\n",
    "3. 变量模式：与通配模式相同匹配任何对象，不过Scala会将匹配上的对象绑定到变量中，可以在后面的表达式中使用该变量。\n",
    ">+ 常量也有符号形式的名称，如`math.{E, Pi}`，Scala采用了一个简单的词法规则来区分：一个以小写字母打头的简单名称会被当作模式变量处理。\n",
    ">+ 如果常量是某个对象的字段，可以写成this.pi或obj.pi，尽管它们以小写字母打头。如果这样不行（比如说pi可能是个局部变量），也可以用反引号将这个名称包起来。例如`pi`\n",
    ">+ 变量绑定：只需要写下变量名、一个@符和模式本身，就得到一个变量绑定模式。意味着这个模式将跟平常一样执行模式匹配，如果匹配成功，就将匹配的对象赋值给这个变量，就像简单的变量模式一样。\n",
    "4. 构造方法模式：Scala的模式支持深度匹配（deep match），这样的模式不仅检查给出的对象的顶层，还会进一步检查对象的内容是否匹配额外的模式要求。由于额外的模式也可能是构造方法模式，用它们来检查对象内部时可以到任意的深度。例如`BinOp（＂+＂, e, Number（0））`，这是一个长度只有一行但深度有三层的模式。\n",
    "> Binop\n",
    ">> Number()\n",
    ">>> 0\n",
    "5. 序列模式：就跟与样例类匹配一样，也可以跟序列类型做匹配，比如List或Array。`case List(0, _*) => println(\"found it\")`\n",
    "6. 元组模式：匹配元组（tuple）。形如（a, b, c）这样的模式能匹配任意的三元组。`case(a,b,c) => println(\"matched \" + a + b + c)`\n",
    "7. 带类型的模式：可以用带类型的模式（typed pattern）来替代类型测试和类型转换。 `case s: String => s.length`\n",
    ">+ 在Scala中编写类型测试和类型检查会比较啰唆(isInstanceOf和asInstanceOf)。我们是有意为之，因为这并不是一个值得鼓励的做法。通常，使用带类型的模式会更好，尤其是当你需要同时做类型测试和类型转换的时候，因为这两个操作所做的事情会被并在单个模式匹配中完成。\n",
    ">+ scala采用了擦除型的泛式，就跟Java一样，这意味着运行时不会保留类型参数的信息。对于这个擦除规则唯一的例外是数组，因为Java和Scala都对它们做了特殊处理。数组的元素类型是跟数组一起保存的，因此我们可以对它进行模式匹配。"
   ]
  },
  {
   "cell_type": "markdown",
   "id": "5f278fa2-0a49-475d-a153-86ac6ece49b7",
   "metadata": {},
   "source": [
    "### 模式守卫\n",
    "1. Scala要求模式都是线性（linear）的：同一个模式变量在模式中只能出现一次。可以使用`case BinOp(\"+\", x, y) if x == y => BinOp(\"*\", x, Number(2))`而不能使用`case BinOp(\"+\", x, x) => BinOp(\"*\", x, Number(2))`\n",
    "2. 模式守卫出现在模式之后，并以if打头。模式守卫可以是任意的布尔表达式，通常会引用到模式中的变量。如果存在模式守卫，这个匹配仅在模式守卫求值得到true时才会成功。"
   ]
  },
  {
   "cell_type": "markdown",
   "id": "e39fe385-a6ea-42db-b2c7-5f2ecb305a9f",
   "metadata": {},
   "source": [
    "### 密封类\n",
    "1. 密封类是为了解决模式匹配的缺省情况。因为密封类除了在同一个文件中定义的子类之外，在其他地方不能添加新的子类。\n",
    "2. 编译器对密封类的模式匹配有特殊的检查，如果我们对继承自密封类的样例类做匹配，编译器会用警告消息标示出缺失的模式组合。\n",
    "3. 如果模式匹配的不全会有MatchError警告，如果你很确定不会发生MatchError，可以对match的选择器部分加@unchecked注解。"
   ]
  },
  {
   "cell_type": "markdown",
   "id": "fd55b04d-4e7a-4eaf-86b6-f20a330f97d9",
   "metadata": {},
   "source": [
    "### for表达式中的模式\n",
    "1. 生成的值当中那些不能匹配给定模式的值会被直接丢弃"
   ]
  }
 ],
 "metadata": {
  "kernelspec": {
   "display_name": "Scala",
   "language": "scala",
   "name": "scala"
  },
  "language_info": {
   "codemirror_mode": "text/x-scala",
   "file_extension": ".scala",
   "mimetype": "text/x-scala",
   "name": "scala",
   "nbconvert_exporter": "script",
   "version": "2.12.11"
  }
 },
 "nbformat": 4,
 "nbformat_minor": 5
}
