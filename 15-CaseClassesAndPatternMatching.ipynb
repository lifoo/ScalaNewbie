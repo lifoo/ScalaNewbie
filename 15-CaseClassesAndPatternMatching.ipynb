{
 "cells": [
  {
   "cell_type": "markdown",
   "id": "38b55e87-cd6b-4428-ac2d-7328d0bfa764",
   "metadata": {},
   "source": [
    "# 第15章 样例类和模式匹配\n",
    "\n",
    "本章将介绍样例类（case class）和模式匹配（pattern matching），这组孪生的语法结构为我们编写规则的、未封装的数据结构提供支持。这两个语法结构对于表达树形的递归数据尤其有用。\n",
    "\n",
    "如果你之前曾用过函数式语言编程，你也许已经知道什么是模式匹配，不过样例类对你来说是新的概念。**样例类是Scala用来对对象进行模式匹配而并不需要大量的样板代码的方式**。笼统地说，你要做的就是对那些你希望能做模式匹配的类加上一个case关键字。\n",
    "\n",
    "本章将从一个简单的样例类和模式匹配的例子开始。然后依次介绍Scala支持的各种模式，探讨密封类（sealed class），讨论Option类型，并展示语言中某些不那么明显地使用到模式匹配的地方。"
   ]
  },
  {
   "cell_type": "code",
   "execution_count": 1,
   "id": "54481a1c-cea4-448b-a6f7-59084f17da44",
   "metadata": {},
   "outputs": [
    {
     "data": {
      "text/plain": [
       "defined \u001b[32mobject\u001b[39m \u001b[36mElement\u001b[39m\n",
       "\u001b[32mimport \u001b[39m\u001b[36mElement.elem\n",
       "\n",
       "\u001b[39m\n",
       "defined \u001b[32mclass\u001b[39m \u001b[36mElement\u001b[39m"
      ]
     },
     "execution_count": 1,
     "metadata": {},
     "output_type": "execute_result"
    }
   ],
   "source": [
    "object Element {\n",
    "  private class ArrayElement(\n",
    "    val contents: Array[String]\n",
    "  ) extends Element\n",
    "\n",
    "  private class LineElement(s: String) extends Element {\n",
    "    val contents = Array(s)\n",
    "    override def width = s.length\n",
    "    override def height = 1\n",
    "  }\n",
    "  private class UniformElement(\n",
    "    ch: Char,\n",
    "    override val width: Int,\n",
    "    override val height: Int\n",
    "  ) extends Element {\n",
    "    private val line = ch.toString * width\n",
    "    def contents = Array.fill(height)(line)\n",
    "  }\n",
    "\n",
    "  def elem(contents:  Array[String]): Element =\n",
    "    new ArrayElement(contents)\n",
    "    \n",
    "  def elem(chr: Char, width: Int, height: Int): Element =\n",
    "    new UniformElement(chr, width, height)\n",
    "\n",
    "  def elem(line: String): Element =\n",
    "    new LineElement(line)\n",
    "}\n",
    "\n",
    "import Element.elem\n",
    "\n",
    "abstract class Element {\n",
    "  def contents:  Array[String]\n",
    "\n",
    "  def width: Int = contents(0).length\n",
    "  def height: Int = contents.length\n",
    "\n",
    "  def above(that: Element): Element = {\n",
    "    val this1 = this widen that.width\n",
    "    val that1 = that widen this.width\n",
    "    elem(this1.contents ++ that1.contents)\n",
    "  }\n",
    "\n",
    "  def beside(that: Element): Element = {\n",
    "    val this1 = this heighten that.height\n",
    "    val that1 = that heighten this.height\n",
    "    elem(\n",
    "      for ((line1, line2) <- this1.contents zip that1.contents) \n",
    "      yield line1 + line2)\n",
    "  }\n",
    "\n",
    "  def widen(w: Int): Element = \n",
    "    if (w <= width) this\n",
    "    else {\n",
    "      val left = elem(' ', (w - width) / 2, height) \n",
    "      var right = elem(' ', w - width - left.width, height)\n",
    "      left beside this beside right\n",
    "    }\n",
    "\n",
    "  def heighten(h: Int): Element = \n",
    "    if (h <= height) this\n",
    "    else {\n",
    "      val top = elem(' ', width, (h - height) / 2)\n",
    "      var bot = elem(' ', width, h - height - top.height)\n",
    "      top above this above bot\n",
    "    }\n",
    "\n",
    "  override def toString = contents mkString \"\\n\"\n",
    "}"
   ]
  },
  {
   "cell_type": "markdown",
   "id": "b7a94b61-7716-43dc-b1c9-8da0db006a43",
   "metadata": {},
   "source": [
    "## 15.1 一个简单的例子\n",
    "\n",
    "在深入探讨模式匹配的所有规则和细节之前，有必要先看一个简单的例子，好让我们明白模式匹配大概是做什么的。假定你需要编写一个操作算术表达式的类库，可能这个类库是你正在设计的某个领域特性语言（DSL）的一部分。\n",
    "\n",
    "解决这个问题的第一步是定义输入数据。为保持简单，我们将注意力集中在由变量、数，以及一元和二元操作符组成的算术表达式上。用Scala的类层次结构来表达，如示例15.1所示。"
   ]
  },
  {
   "cell_type": "code",
   "execution_count": 2,
   "id": "589184dc-0823-422d-b505-cc8687af9d70",
   "metadata": {},
   "outputs": [],
   "source": [
    "interp.configureCompiler(_.settings.nowarnings.value = false)"
   ]
  },
  {
   "cell_type": "code",
   "execution_count": 3,
   "id": "65294d2d",
   "metadata": {},
   "outputs": [
    {
     "data": {
      "text/plain": [
       "defined \u001b[32mclass\u001b[39m \u001b[36mExpr\u001b[39m\n",
       "defined \u001b[32mclass\u001b[39m \u001b[36mVar\u001b[39m\n",
       "defined \u001b[32mclass\u001b[39m \u001b[36mNumber\u001b[39m\n",
       "defined \u001b[32mclass\u001b[39m \u001b[36mUnOp\u001b[39m\n",
       "defined \u001b[32mclass\u001b[39m \u001b[36mBinOp\u001b[39m"
      ]
     },
     "execution_count": 3,
     "metadata": {},
     "output_type": "execute_result"
    }
   ],
   "source": [
    "abstract class Expr\n",
    "case class Var(name: String) extends Expr\n",
    "case class Number(num: Double) extends Expr\n",
    "case class UnOp(operator: String, arg: Expr) extends Expr\n",
    "case class BinOp(operator: String, left: Expr, right: Expr) extends Expr"
   ]
  },
  {
   "cell_type": "markdown",
   "id": "3aa1b280",
   "metadata": {},
   "source": [
    "这个层次结构包括一个抽象的基类Expr和四个子类，每一个都表示我们要考虑的一种表达式。[1]所有五个类的定义体都是空的。如之前提到的那样，Scala允许我们省去空定义体的花括号，即class C跟class C{}是相同的。\n",
    "\n",
    "样例类\n",
    "\n",
    "示例15.1中另一个值得注意的点是每个子类都有一个case修饰符。带有这种修饰符的类称作样例类（case class）。用上这个修饰符会让Scala编译器对我们的类添加一些语法上的便利。\n",
    "\n",
    "**首先，它会添加一个跟类同名的工厂方法**。这意味着我们可以用Var（“x”）来构造一个Var对象，而不用稍长版本的new Var（“x”）："
   ]
  },
  {
   "cell_type": "code",
   "execution_count": 4,
   "id": "1fb53f8c",
   "metadata": {},
   "outputs": [
    {
     "data": {
      "text/plain": [
       "\u001b[36mv\u001b[39m: \u001b[32mVar\u001b[39m = \u001b[33mVar\u001b[39m(\u001b[32m\"x\"\u001b[39m)"
      ]
     },
     "execution_count": 4,
     "metadata": {},
     "output_type": "execute_result"
    }
   ],
   "source": [
    "val v = Var(\"x\")"
   ]
  },
  {
   "cell_type": "markdown",
   "id": "0988de18",
   "metadata": {},
   "source": [
    "当你需要嵌套定义时，工厂方法尤为有用。由于代码中不再到处落满new关键字，可以一眼就看明白表达式的结构："
   ]
  },
  {
   "cell_type": "code",
   "execution_count": 5,
   "id": "229549d2",
   "metadata": {},
   "outputs": [
    {
     "data": {
      "text/plain": [
       "\u001b[36mop\u001b[39m: \u001b[32mBinOp\u001b[39m = \u001b[33mBinOp\u001b[39m(\u001b[32m\"+\"\u001b[39m, \u001b[33mNumber\u001b[39m(\u001b[32m1.0\u001b[39m), \u001b[33mVar\u001b[39m(\u001b[32m\"x\"\u001b[39m))"
      ]
     },
     "execution_count": 5,
     "metadata": {},
     "output_type": "execute_result"
    }
   ],
   "source": [
    "val op = BinOp(\"+\", Number(1), v)"
   ]
  },
  {
   "cell_type": "markdown",
   "id": "afb8ce1a",
   "metadata": {},
   "source": [
    "其次，第二个语法上的便利是**参数列表中的参数都隐式地获得了一个val前缀，因此它们会被当作字段处理**："
   ]
  },
  {
   "cell_type": "code",
   "execution_count": 6,
   "id": "596ef27d",
   "metadata": {},
   "outputs": [
    {
     "data": {
      "text/plain": [
       "\u001b[36mres5\u001b[39m: \u001b[32mString\u001b[39m = \u001b[32m\"x\"\u001b[39m"
      ]
     },
     "execution_count": 6,
     "metadata": {},
     "output_type": "execute_result"
    }
   ],
   "source": [
    "v.name"
   ]
  },
  {
   "cell_type": "code",
   "execution_count": 7,
   "id": "43fe6449",
   "metadata": {},
   "outputs": [
    {
     "data": {
      "text/plain": [
       "\u001b[36mres6\u001b[39m: \u001b[32mExpr\u001b[39m = \u001b[33mNumber\u001b[39m(\u001b[32m1.0\u001b[39m)"
      ]
     },
     "execution_count": 7,
     "metadata": {},
     "output_type": "execute_result"
    }
   ],
   "source": [
    "op.left"
   ]
  },
  {
   "cell_type": "markdown",
   "id": "135f7204",
   "metadata": {},
   "source": [
    "再次，编译器会帮我们以“自然”的方式实现toString、hashCode和equals方法。这些方法分别会打印、哈希、比较包含类及所有入参的整棵树。由于Scala的==总是代理给equals方法，这意味着**以样例类表示的元素总是以结构化的方式做比较**："
   ]
  },
  {
   "cell_type": "code",
   "execution_count": 8,
   "id": "ea013d5d",
   "metadata": {},
   "outputs": [
    {
     "name": "stdout",
     "output_type": "stream",
     "text": [
      "BinOp(+,Number(1.0),Var(x))\n"
     ]
    }
   ],
   "source": [
    "println(op)"
   ]
  },
  {
   "cell_type": "code",
   "execution_count": 9,
   "id": "9047e232",
   "metadata": {},
   "outputs": [
    {
     "data": {
      "text/plain": [
       "\u001b[36mres8\u001b[39m: \u001b[32mBoolean\u001b[39m = true"
      ]
     },
     "execution_count": 9,
     "metadata": {},
     "output_type": "execute_result"
    }
   ],
   "source": [
    "op.right == Var(\"x\")"
   ]
  },
  {
   "cell_type": "markdown",
   "id": "537c0b5d",
   "metadata": {},
   "source": [
    "最后，编译器还会添加一个copy方法用于制作修改过的拷贝。这个方法可以用于制作除了一两个属性不同之外其余完全相同的该类的新实例。这个方法用到了带名字的参数和缺省参数（参考8.8节）。我们用带名字的参数给出想要做的修改。对于任何你没有给出的参数，都会用老对象中的原值。例如下面这段制作一个跟 op一样不过操作符改变了的操作的代码："
   ]
  },
  {
   "cell_type": "code",
   "execution_count": 10,
   "id": "6c56c6cf",
   "metadata": {},
   "outputs": [
    {
     "data": {
      "text/plain": [
       "\u001b[36mres9\u001b[39m: \u001b[32mBinOp\u001b[39m = \u001b[33mBinOp\u001b[39m(\u001b[32m\"-\"\u001b[39m, \u001b[33mNumber\u001b[39m(\u001b[32m1.0\u001b[39m), \u001b[33mVar\u001b[39m(\u001b[32m\"x\"\u001b[39m))"
      ]
     },
     "execution_count": 10,
     "metadata": {},
     "output_type": "execute_result"
    }
   ],
   "source": [
    "op.copy(operator = \"-\")"
   ]
  },
  {
   "attachments": {
    "%E5%9B%BE%E7%89%87.png": {
     "image/png": "[encoded data removed]"
    }
   },
   "cell_type": "markdown",
   "id": "af91db2a",
   "metadata": {},
   "source": [
    "所有这些带来的是大量的便利（代价却很小）。你需要多写一个case修饰符，并且你的类和对象会变得大那么一点。之所以更大，是因为生成了额外的方法，并且对于构造方法的每个参数都隐式地添加了字段。不过，样例类最大的好处是它们支持模式匹配。\n",
    "\n",
    "**模式匹配**\n",
    "\n",
    "假定我们想简化前面展示的算术表达式。可用的简化规则非常多，以下只列举一部分：\n",
    "![%E5%9B%BE%E7%89%87.png](attachment:%E5%9B%BE%E7%89%87.png)\n",
    "用模式匹配的话，这些规则可以被看成是一个Scala编写的简化函数的核心逻辑，如示例15.2所示。我们可以这样来使用这个simplifyTop函数："
   ]
  },
  {
   "cell_type": "code",
   "execution_count": 11,
   "id": "ec8d83da",
   "metadata": {},
   "outputs": [
    {
     "data": {
      "text/plain": [
       "defined \u001b[32mfunction\u001b[39m \u001b[36msimplifyTop\u001b[39m"
      ]
     },
     "execution_count": 11,
     "metadata": {},
     "output_type": "execute_result"
    }
   ],
   "source": [
    "def simplifyTop(expr: Expr): Expr = expr match {\n",
    "    case UnOp(\"-\", UnOp(\"-\", e))  => e   // Double negation\n",
    "    case BinOp(\"+\", e, Number(0)) => e   // Adding zero\n",
    "    case BinOp(\"*\", e, Number(1)) => e   // Multiplying by one\n",
    "    case _ => expr\n",
    "}"
   ]
  },
  {
   "cell_type": "code",
   "execution_count": 12,
   "id": "2aaab742",
   "metadata": {},
   "outputs": [
    {
     "data": {
      "text/plain": [
       "\u001b[36mres11\u001b[39m: \u001b[32mExpr\u001b[39m = \u001b[33mVar\u001b[39m(\u001b[32m\"x\"\u001b[39m)"
      ]
     },
     "execution_count": 12,
     "metadata": {},
     "output_type": "execute_result"
    }
   ],
   "source": [
    "simplifyTop(UnOp(\"-\", UnOp(\"-\", Var(\"x\"))))"
   ]
  },
  {
   "cell_type": "code",
   "execution_count": 13,
   "id": "322b1d84",
   "metadata": {},
   "outputs": [
    {
     "data": {
      "text/plain": [
       "\u001b[36mres12\u001b[39m: \u001b[32mExpr\u001b[39m = \u001b[33mVar\u001b[39m(\u001b[32m\"x1\"\u001b[39m)"
      ]
     },
     "execution_count": 13,
     "metadata": {},
     "output_type": "execute_result"
    }
   ],
   "source": [
    "simplifyTop(BinOp(\"+\", Var(\"x1\"), Number(0)))"
   ]
  },
  {
   "cell_type": "code",
   "execution_count": 14,
   "id": "70cc933a",
   "metadata": {},
   "outputs": [
    {
     "data": {
      "text/plain": [
       "\u001b[36mres13\u001b[39m: \u001b[32mExpr\u001b[39m = \u001b[33mVar\u001b[39m(\u001b[32m\"x2\"\u001b[39m)"
      ]
     },
     "execution_count": 14,
     "metadata": {},
     "output_type": "execute_result"
    }
   ],
   "source": [
    "simplifyTop(BinOp(\"*\", Var(\"x2\"), Number(1)))"
   ]
  },
  {
   "cell_type": "code",
   "execution_count": 15,
   "id": "06653efe",
   "metadata": {},
   "outputs": [
    {
     "data": {
      "text/plain": [
       "\u001b[36mres14\u001b[39m: \u001b[32mExpr\u001b[39m = \u001b[33mUnOp\u001b[39m(\u001b[32m\"-\"\u001b[39m, \u001b[33mVar\u001b[39m(\u001b[32m\"x\"\u001b[39m))"
      ]
     },
     "execution_count": 15,
     "metadata": {},
     "output_type": "execute_result"
    }
   ],
   "source": [
    "simplifyTop(UnOp(\"-\", Var(\"x\")))"
   ]
  },
  {
   "cell_type": "code",
   "execution_count": 16,
   "id": "da930987",
   "metadata": {},
   "outputs": [
    {
     "data": {
      "text/plain": [
       "\u001b[36mres15\u001b[39m: \u001b[32mExpr\u001b[39m = \u001b[33mNumber\u001b[39m(\u001b[32m2.0\u001b[39m)"
      ]
     },
     "execution_count": 16,
     "metadata": {},
     "output_type": "execute_result"
    }
   ],
   "source": [
    "simplifyTop(Number(2))"
   ]
  },
  {
   "attachments": {
    "%E5%9B%BE%E7%89%87-2.png": {
     "image/png": "[encoded data removed]"
    },
    "%E5%9B%BE%E7%89%87-3.png": {
     "image/png": "[encoded data removed]"
    },
    "%E5%9B%BE%E7%89%87-4.png": {
     "image/png": "[encoded data removed]"
    },
    "%E5%9B%BE%E7%89%87.png": {
     "image/png": "[encoded data removed]"
    }
   },
   "cell_type": "markdown",
   "id": "aa9155f7",
   "metadata": {},
   "source": [
    "simplifyTop的右边由一个match表达式组成。match表达式对应Java的switch，不过match关键字出现在选择器表达式后面。换句话说，写成：\n",
    "![%E5%9B%BE%E7%89%87.png](attachment:%E5%9B%BE%E7%89%87.png)\n",
    "而不是：\n",
    "![%E5%9B%BE%E7%89%87-2.png](attachment:%E5%9B%BE%E7%89%87-2.png)\n",
    "模式匹配包含一系列以case关键字打头的可选分支（alternative）。每一个可选分支都包括一个模式（pattern）以及一个或多个表达式，如果模式匹配了，这些表达式就会被求值。箭头符=>用于将模式和表达式分开。\n",
    "\n",
    "一个match表达式的求值过程是按照模式给出的顺序逐一尝试的。第一个匹配上的模式被选中，跟在这个模式后面的表达式被执行。\n",
    "\n",
    "类似＂+＂和1这样的常量模式（constant pattern）可以匹配那些按照==的要求跟它们相等的值。而像e这样的变量模式（variable pattern）可以匹配任何值。匹配后，在右侧的表达式中，这个变量将指向这个匹配的值。在本例中，注意前三个可选分支都求值为e，一个在对应的模式中绑定的变量。通配模式（wildcard pattern），即_也匹配任何值，不过它并不会引入一个变量名来指向这个值。在示例15.2中，注意match是以一个缺省的什么都不做的case结尾的，这个缺省的case直接返回用于匹配的表达式expr。\n",
    "\n",
    "构造方法模式（constructor pattern）看上去就像UnOp（＂-＂, e）。这个模式匹配所有类型为UnOp且首个入参匹配＂-＂而第二个入参匹配e的值。注意构造方法的入参本身也是模式。这允许我们用精简的表示法来编写有深度的模式。例如：\n",
    "![%E5%9B%BE%E7%89%87-3.png](attachment:%E5%9B%BE%E7%89%87-3.png)\n",
    "想象一下如果用访问者模式来实现相同的功能要怎么做！[2]再想象一下如果用一长串if语句、类型测试和类型转换来实现相同的功能，几乎同样笨拙。\n",
    "\n",
    "对比match和switch\n",
    "\n",
    "match表达式可以被看作Java风格的switch的广义化。Java风格的switch可以很自然地用match表达式表达，其中每个模式都是常量且最后一个模式可以是一个通配模式（代表switch中的默认case）。\n",
    "\n",
    "不 过，我们需要记住三个区别：首先，Scala的match是一个表达式（也就是说它总是能得到一个值）。其次，Scala的可选分支不会贯穿（fall through）到下一个case。最后，如果没有一个模式匹配上，会抛出名为MatchError的异常。这意味着你需要确保所有的case被覆盖到， 哪怕这意味着你需要添加一个什么都不做的缺省case。\n",
    "\n",
    "参考示例 15.3。第二个case是必要的，因为没有它的话，match表达式对于任何非BinOp的expr入参都会抛出MatchError。在本例中，对于 第二个case，我们并没有给出任何代码，因此如果这个case被运行，什么都不会发生。两个case的结果都是unit值，即（），这也是整个 match表达式的结果。\n",
    "![%E5%9B%BE%E7%89%87-4.png](attachment:%E5%9B%BE%E7%89%87-4.png)\n",
    "<center>示例15.3 带有空的“默认”样例的模式匹配</center>"
   ]
  },
  {
   "cell_type": "code",
   "execution_count": 17,
   "id": "2d180f1c",
   "metadata": {},
   "outputs": [
    {
     "data": {
      "text/plain": [
       "defined \u001b[32mfunction\u001b[39m \u001b[36msimplifyTop\u001b[39m"
      ]
     },
     "execution_count": 17,
     "metadata": {},
     "output_type": "execute_result"
    }
   ],
   "source": [
    "def simplifyTop(expr: Expr): Unit = expr match {\n",
    "    case BinOp(op, left, right) =>\n",
    "        println(expr + \" is a binary operation\")\n",
    "    case _ => \n",
    "}"
   ]
  },
  {
   "cell_type": "markdown",
   "id": "9e9a9fef",
   "metadata": {},
   "source": [
    "## 15.2 模式的种类\n",
    "\n",
    "前面的例子快速地展示了几种模式，接下来花些时间详细来介绍每一种。\n",
    "\n",
    "模式的语法很容易理解，所以不必太担心。所有的模式跟相应的表达式看上去完全一样。例如，基于示例15.1的类层次结构，Var（x）这个模式将匹配任何变量表达式，并将x绑定成这个变量的名字。**作为表达式使用时**，Var（x）——完全相同的语法——将重新创建一个等效的对象，当然前提是x已经绑定到这个变量名。由于模式的语法是透明的，我们只需要关心能使用哪几种模式就对了。\n",
    "\n",
    "### 通配模式\n",
    "\n",
    "通配模式（\\_）会匹配任何对象。前面已经看到过通配模式用于缺省、捕获所有的可选路径，就像这样："
   ]
  },
  {
   "cell_type": "code",
   "execution_count": 18,
   "id": "79f5ff19",
   "metadata": {},
   "outputs": [
    {
     "data": {
      "text/plain": [
       "defined \u001b[32mfunction\u001b[39m \u001b[36msimplifyTop\u001b[39m"
      ]
     },
     "execution_count": 18,
     "metadata": {},
     "output_type": "execute_result"
    }
   ],
   "source": [
    "def simplifyTop(expr: Expr): Unit = expr match {\n",
    "    case BinOp(op, left, right) =>\n",
    "        println(expr + \" is a binary operation\")\n",
    "    case _ => //处理默认case\n",
    "}"
   ]
  },
  {
   "cell_type": "markdown",
   "id": "b10ee3e9",
   "metadata": {},
   "source": [
    "通配模式还可以用来忽略某个对象中你并不关心的局部。例如，前面这个例子实际上并不需要关心二元操作的操作元是什么，它只是检查这个表达式是否是二元操作，仅此而已。因此，这段代码也完全可以用通配模式来表示BinOp的操作元，参考示例15.4："
   ]
  },
  {
   "cell_type": "code",
   "execution_count": 19,
   "id": "780797ad",
   "metadata": {},
   "outputs": [
    {
     "data": {
      "text/plain": [
       "defined \u001b[32mfunction\u001b[39m \u001b[36mcheckbinary\u001b[39m"
      ]
     },
     "execution_count": 19,
     "metadata": {},
     "output_type": "execute_result"
    }
   ],
   "source": [
    "def checkbinary(expr: Expr) {\n",
    "    expr match {\n",
    "        case BinOp(op, left, right) =>\n",
    "          println(expr + \" is a binary operation\")\n",
    "        case _ =>\n",
    "    }\n",
    "}"
   ]
  },
  {
   "cell_type": "markdown",
   "id": "ebef538c",
   "metadata": {},
   "source": [
    "<center>示例15.4 带有通配模式的模式匹配</center>"
   ]
  },
  {
   "cell_type": "markdown",
   "id": "a95e7da4",
   "metadata": {},
   "source": [
    "### 常量模式\n",
    "\n",
    "常量模式仅匹配自己。任何字面量都可以作为常量（模式）使用。例如，5、true和＂hello＂都是常量模式。同时，任何val或单例对象也可以被当作常量（模式）使用。例如，Nil这个单例对象能且仅能匹配空列表。示例15.5给出了常量模式的例子："
   ]
  },
  {
   "cell_type": "code",
   "execution_count": 20,
   "id": "5411325b",
   "metadata": {},
   "outputs": [
    {
     "data": {
      "text/plain": [
       "defined \u001b[32mfunction\u001b[39m \u001b[36mdescribe\u001b[39m"
      ]
     },
     "execution_count": 20,
     "metadata": {},
     "output_type": "execute_result"
    }
   ],
   "source": [
    "def describe(x: Any) = x match {\n",
    "    case 5 => \"five\"\n",
    "    case true => \"truth\"\n",
    "    case \"hello\" => \"hi!\"\n",
    "    case Nil => \"the empty list\"\n",
    "    case _ => \"something else\"\n",
    "}"
   ]
  },
  {
   "cell_type": "markdown",
   "id": "68a7e517",
   "metadata": {},
   "source": [
    "<center>示例15.5 带有常量模式的模式匹配</center>"
   ]
  },
  {
   "cell_type": "markdown",
   "id": "26d49ae0",
   "metadata": {},
   "source": [
    "以下是示例15.5中的模式在具体使用场景中的效果："
   ]
  },
  {
   "cell_type": "code",
   "execution_count": 21,
   "id": "7ce8430c",
   "metadata": {},
   "outputs": [
    {
     "data": {
      "text/plain": [
       "\u001b[36mres20\u001b[39m: \u001b[32mString\u001b[39m = \u001b[32m\"five\"\u001b[39m"
      ]
     },
     "execution_count": 21,
     "metadata": {},
     "output_type": "execute_result"
    }
   ],
   "source": [
    "describe(5)"
   ]
  },
  {
   "cell_type": "code",
   "execution_count": 22,
   "id": "1518c09e",
   "metadata": {},
   "outputs": [
    {
     "data": {
      "text/plain": [
       "\u001b[36mres21\u001b[39m: \u001b[32mString\u001b[39m = \u001b[32m\"truth\"\u001b[39m"
      ]
     },
     "execution_count": 22,
     "metadata": {},
     "output_type": "execute_result"
    }
   ],
   "source": [
    "describe(true)"
   ]
  },
  {
   "cell_type": "code",
   "execution_count": 23,
   "id": "4e09c8f3",
   "metadata": {},
   "outputs": [
    {
     "data": {
      "text/plain": [
       "\u001b[36mres22\u001b[39m: \u001b[32mString\u001b[39m = \u001b[32m\"hi!\"\u001b[39m"
      ]
     },
     "execution_count": 23,
     "metadata": {},
     "output_type": "execute_result"
    }
   ],
   "source": [
    "describe(\"hello\")"
   ]
  },
  {
   "cell_type": "code",
   "execution_count": 24,
   "id": "d930e573",
   "metadata": {},
   "outputs": [
    {
     "data": {
      "text/plain": [
       "\u001b[36mres23\u001b[39m: \u001b[32mString\u001b[39m = \u001b[32m\"the empty list\"\u001b[39m"
      ]
     },
     "execution_count": 24,
     "metadata": {},
     "output_type": "execute_result"
    }
   ],
   "source": [
    "describe(Nil)"
   ]
  },
  {
   "cell_type": "code",
   "execution_count": 25,
   "id": "4ec38b7e",
   "metadata": {},
   "outputs": [
    {
     "data": {
      "text/plain": [
       "\u001b[36mres24\u001b[39m: \u001b[32mString\u001b[39m = \u001b[32m\"something else\"\u001b[39m"
      ]
     },
     "execution_count": 25,
     "metadata": {},
     "output_type": "execute_result"
    }
   ],
   "source": [
    "describe(List(1,2,3))"
   ]
  },
  {
   "cell_type": "markdown",
   "id": "96269eb9",
   "metadata": {},
   "source": [
    "### 变量模式\n",
    "\n",
    "变量模式匹配任何对象，这一点跟通配模式相同。**不过不同于通配模式的是，Scala将对应的变量绑定成匹配上的对象**。在绑定之后，你就可以用这个变量来对对象做进一步的处理。示例15.6给出了一个针对零的特例和针对所有其他值的缺省处理的模式匹配。缺省的case用到了变量模式，这样就给匹配的值赋予了一个名称，不论这个值是啥。"
   ]
  },
  {
   "cell_type": "code",
   "execution_count": 26,
   "id": "014204b3",
   "metadata": {},
   "outputs": [
    {
     "data": {
      "text/plain": [
       "defined \u001b[32mfunction\u001b[39m \u001b[36mstartsWithZero\u001b[39m"
      ]
     },
     "execution_count": 26,
     "metadata": {},
     "output_type": "execute_result"
    }
   ],
   "source": [
    "def startsWithZero(expr: Any) = {\n",
    "    expr match {\n",
    "        case 0 => \"zero\"\n",
    "        case somethingElse => \"not zero: \" + somethingElse\n",
    "    }\n",
    "}"
   ]
  },
  {
   "cell_type": "code",
   "execution_count": 27,
   "id": "7e9a3593",
   "metadata": {},
   "outputs": [
    {
     "data": {
      "text/plain": [
       "\u001b[36mres26\u001b[39m: \u001b[32mString\u001b[39m = \u001b[32m\"zero\"\u001b[39m"
      ]
     },
     "execution_count": 27,
     "metadata": {},
     "output_type": "execute_result"
    }
   ],
   "source": [
    "startsWithZero(0)"
   ]
  },
  {
   "cell_type": "code",
   "execution_count": 28,
   "id": "eed1ef94",
   "metadata": {},
   "outputs": [
    {
     "data": {
      "text/plain": [
       "\u001b[36mres27\u001b[39m: \u001b[32mString\u001b[39m = \u001b[32m\"not zero: 231\"\u001b[39m"
      ]
     },
     "execution_count": 28,
     "metadata": {},
     "output_type": "execute_result"
    }
   ],
   "source": [
    "startsWithZero(231)"
   ]
  },
  {
   "cell_type": "markdown",
   "id": "bb4f3379",
   "metadata": {},
   "source": [
    "<center>示例15.6 带有变量模式的模式匹配</center>"
   ]
  },
  {
   "cell_type": "markdown",
   "id": "9a624afc",
   "metadata": {},
   "source": [
    "#### 变量还是常量？\n",
    "\n",
    "常量模式也可以有符号形式的名称。当我们把Nil当作一个模式的时候，实际上就是在用一个符号名称来引用常量。这里有一个相关的例子，这个模式匹配牵扯到常量E（2.71828...）和Pi（3.14159...）："
   ]
  },
  {
   "cell_type": "code",
   "execution_count": 29,
   "id": "74081b05",
   "metadata": {},
   "outputs": [
    {
     "data": {
      "text/plain": [
       "\u001b[32mimport \u001b[39m\u001b[36mmath.{E, Pi}\n",
       "\u001b[39m\n",
       "\u001b[36mres28_1\u001b[39m: \u001b[32mString\u001b[39m = \u001b[32m\"OK\"\u001b[39m"
      ]
     },
     "execution_count": 29,
     "metadata": {},
     "output_type": "execute_result"
    }
   ],
   "source": [
    "import math.{E, Pi}\n",
    "E match {\n",
    "    case Pi => \"strange math? Pi = \" + Pi\n",
    "    case _ => \"OK\"\n",
    "}"
   ]
  },
  {
   "cell_type": "markdown",
   "id": "2713bc0d",
   "metadata": {},
   "source": [
    "跟我们预期的一样，E并不匹配Pi，因此“strange math”这个case没有被使用。\n",
    "\n",
    "Scala编译器是如何知道Pi是从scala.math包引入的常量，而不是一个代表选择器值本身的变量呢？Scala采用了一个简单的词法规则来区分：**一个以小写字母打头的简单名称会被当作模式变量处理**；所有其他引用都是常量。想看到具体的区别？可以给Pi创建一个小写的别名，然后尝试如下代码："
   ]
  },
  {
   "cell_type": "code",
   "execution_count": 30,
   "id": "e6a0093b",
   "metadata": {},
   "outputs": [
    {
     "data": {
      "text/plain": [
       "\u001b[36mpi\u001b[39m: \u001b[32mDouble\u001b[39m = \u001b[32m3.141592653589793\u001b[39m\n",
       "\u001b[36mres29_1\u001b[39m: \u001b[32mString\u001b[39m = \u001b[32m\"strange math? Pi = 2.718281828459045\"\u001b[39m"
      ]
     },
     "execution_count": 30,
     "metadata": {},
     "output_type": "execute_result"
    }
   ],
   "source": [
    "val pi = math.Pi\n",
    "E match {\n",
    "    case pi => \"strange math? Pi = \" + pi\n",
    "}"
   ]
  },
  {
   "cell_type": "markdown",
   "id": "af006249",
   "metadata": {},
   "source": [
    "在这里编译器甚至不允许我们添加一个默认的case。由于pi是变量模式，它将会匹配所有输入，因此不可能走到后面的case："
   ]
  },
  {
   "cell_type": "code",
   "execution_count": 31,
   "id": "af147560",
   "metadata": {},
   "outputs": [
    {
     "name": "stderr",
     "output_type": "stream",
     "text": [
      "cmd30.sc:3: patterns after a variable pattern cannot match (SLS 8.1.1)\n",
      "If you intended to match against value pi in class Helper, you must use backticks, like: case `pi` =>\n",
      "    case pi => \"strange math? Pi = \" + pi\n",
      "         ^cmd30.sc:4: unreachable code due to variable pattern 'pi' on line 3\n",
      "    case _ => \"OK\"\n",
      "              ^cmd30.sc:4: unreachable code\n",
      "    case _ => \"OK\"\n",
      "              ^"
     ]
    },
    {
     "data": {
      "text/plain": [
       "\u001b[36mpi\u001b[39m: \u001b[32mDouble\u001b[39m = \u001b[32m3.141592653589793\u001b[39m\n",
       "\u001b[36mres30_1\u001b[39m: \u001b[32mString\u001b[39m = \u001b[32m\"strange math? Pi = 2.718281828459045\"\u001b[39m"
      ]
     },
     "execution_count": 31,
     "metadata": {},
     "output_type": "execute_result"
    }
   ],
   "source": [
    "val pi = math.Pi\n",
    "E match {\n",
    "    case pi => \"strange math? Pi = \" + pi\n",
    "    case _ => \"OK\"\n",
    "}//并没有报warning"
   ]
  },
  {
   "cell_type": "markdown",
   "id": "a896a99b",
   "metadata": {},
   "source": [
    "如果需要，仍然可以用小写的名称来作为模式常量，有两个小技巧。首先，如果常量是某个对象的字段，可以在字段名前面加上限定词。例如，虽然pi是个变量模式，但this.pi或obj.pi是常量（模式），尽管它们以小写字母打头。如果这样不行（比如说pi可能是个局部变量），也可以用反引号将这个名称包起来。例如\\`pi\\`就能再次被编译器解读为一个常量，而不是变量了："
   ]
  },
  {
   "cell_type": "code",
   "execution_count": 32,
   "id": "de2b5d2d",
   "metadata": {},
   "outputs": [
    {
     "data": {
      "text/plain": [
       "\u001b[36mpi\u001b[39m: \u001b[32mDouble\u001b[39m = \u001b[32m3.141592653589793\u001b[39m\n",
       "\u001b[36mres31_1\u001b[39m: \u001b[32mString\u001b[39m = \u001b[32m\"OK\"\u001b[39m"
      ]
     },
     "execution_count": 32,
     "metadata": {},
     "output_type": "execute_result"
    }
   ],
   "source": [
    "val pi = math.Pi\n",
    "E match {\n",
    "    case `pi` => \"strange math? Pi = \" + pi\n",
    "    case _ => \"OK\"\n",
    "}//并没有报warning"
   ]
  },
  {
   "cell_type": "markdown",
   "id": "a6c44d6b",
   "metadata": {},
   "source": [
    "**你应该看到了，给标识符加上反引号在Scala中有两种用途，来帮助你从不寻常的代码场景中走出来。这里你看到的是如何将小写字母打头的标识符用作模式匹配中的常量。更早的时候，在6.10节，你还看到过反引号可以用来将关键字当作普通的标识符，比如访问Java的Thread类的静态方法yield,Thread.\\`yield\\`（）这段代码将yield当作标识符而不是关键字。**\n",
    "\n",
    "### 构造方法模式\n",
    "\n",
    "构造方法模式是真正体现出模式匹配威力的地方。一个构造方法模式看上去像这样：“BinOp（＂+＂, e, Number（0））”。它由一个名称（BinOp）和一组圆括号中的模式：＂+＂、e和Number（0）组成。假定这里的名称指定的是一个样例类，这样的一个模式将首先检查被匹配的对象是否是以这个名称命名的样例类的实例，然后再检查这个对象的构造方法参数是否匹配这些额外给出的模式。\n",
    "\n",
    "这些额外的模式意味着Scala的模式支持深度匹配（deep match）。这样的模式不仅检查给出的对象的顶层，还会进一步检查对象的内容是否匹配额外的模式要求。由于额外的模式也可能是构造方法模式，用它们来检查对象内部时可以到任意的深度。例如，示例15.7给出的模式将检查顶层的对象是BinOp，而它的第三个构造方法参数是一个Number，且这个Number的值字段为0。这是一个长度只有一行但深度有三层的模式。\n",
    "\n",
    "层次结构：\n",
    "> Binop\n",
    ">> Number()\n",
    ">>> 0"
   ]
  },
  {
   "cell_type": "code",
   "execution_count": 33,
   "id": "2d672bb9",
   "metadata": {},
   "outputs": [
    {
     "data": {
      "text/plain": [
       "defined \u001b[32mfunction\u001b[39m \u001b[36mdeepmatch\u001b[39m"
      ]
     },
     "execution_count": 33,
     "metadata": {},
     "output_type": "execute_result"
    }
   ],
   "source": [
    "def deepmatch(expr: Expr) = {\n",
    "    expr match {\n",
    "      case BinOp(\"+\", e, Number(0)) => println(\"a deep match\")\n",
    "      case _ => println(\"Nothing\")\n",
    "    }\n",
    "}"
   ]
  },
  {
   "cell_type": "code",
   "execution_count": 34,
   "id": "056f4a10",
   "metadata": {},
   "outputs": [
    {
     "name": "stdout",
     "output_type": "stream",
     "text": [
      "a deep match\n"
     ]
    }
   ],
   "source": [
    "deepmatch(BinOp(\"+\",Var(\"x\"),Number(0)))"
   ]
  },
  {
   "cell_type": "code",
   "execution_count": 35,
   "id": "3096ced7",
   "metadata": {},
   "outputs": [
    {
     "name": "stdout",
     "output_type": "stream",
     "text": [
      "Nothing\n"
     ]
    }
   ],
   "source": [
    "deepmatch(BinOp(\"+\",Var(\"x\"),Number(1)))"
   ]
  },
  {
   "cell_type": "markdown",
   "id": "4e4d9fec",
   "metadata": {},
   "source": [
    "<center>示例15.7 带有构造方法模式的模式匹配</center>"
   ]
  },
  {
   "cell_type": "markdown",
   "id": "4d39c697",
   "metadata": {},
   "source": [
    "### 序列模式\n",
    "\n",
    "就跟与样例类匹配一样，也可以跟序列类型做匹配，比如List或Array。使用的语法是相同的，不过现在可以在模式中给出任意数量的元素。示例15.8显示了一个以0开始的三元素列表的模式。"
   ]
  },
  {
   "cell_type": "code",
   "execution_count": 36,
   "id": "b622cd51",
   "metadata": {},
   "outputs": [
    {
     "data": {
      "text/plain": [
       "defined \u001b[32mfunction\u001b[39m \u001b[36mstartsWithZero1\u001b[39m"
      ]
     },
     "execution_count": 36,
     "metadata": {},
     "output_type": "execute_result"
    }
   ],
   "source": [
    "def startsWithZero1(expr: List[Int]) = \n",
    "    expr match {\n",
    "      case List(0, _, _) => println(\"found it\")\n",
    "      case _ =>\n",
    "    }"
   ]
  },
  {
   "cell_type": "code",
   "execution_count": 37,
   "id": "f3544b93",
   "metadata": {},
   "outputs": [
    {
     "name": "stdout",
     "output_type": "stream",
     "text": [
      "found it\n"
     ]
    }
   ],
   "source": [
    "startsWithZero1(List(0,1,2))"
   ]
  },
  {
   "cell_type": "code",
   "execution_count": 38,
   "id": "b4ed558c",
   "metadata": {},
   "outputs": [],
   "source": [
    "startsWithZero1(List(1,2,3))"
   ]
  },
  {
   "cell_type": "markdown",
   "id": "805a8b5c",
   "metadata": {},
   "source": [
    "<center>示例15.8 固定长度的序列模式</center>"
   ]
  },
  {
   "cell_type": "markdown",
   "id": "fd786c4c",
   "metadata": {},
   "source": [
    "如果你想匹配一个序列，但又不想给出多长，你可以用_\\*作为模式的最后一个元素。这个看上去有些奇怪的模式能够匹配序列中任意数量的元素，包括0个元素。示例15.9显示了一个能匹配任意长度的以0开始的列表。"
   ]
  },
  {
   "cell_type": "code",
   "execution_count": 39,
   "id": "7aed56bc",
   "metadata": {},
   "outputs": [
    {
     "data": {
      "text/plain": [
       "defined \u001b[32mfunction\u001b[39m \u001b[36mstartsWithZero2\u001b[39m"
      ]
     },
     "execution_count": 39,
     "metadata": {},
     "output_type": "execute_result"
    }
   ],
   "source": [
    "def startsWithZero2(expr: List[Int]) =\n",
    "    expr match {\n",
    "      case List(0, _*) => println(\"found it\")\n",
    "      case _ =>\n",
    "    }"
   ]
  },
  {
   "cell_type": "code",
   "execution_count": 40,
   "id": "17e641f3",
   "metadata": {},
   "outputs": [
    {
     "name": "stdout",
     "output_type": "stream",
     "text": [
      "found it\n"
     ]
    }
   ],
   "source": [
    "startsWithZero2(List(0))"
   ]
  },
  {
   "cell_type": "code",
   "execution_count": 41,
   "id": "9cb85fda",
   "metadata": {},
   "outputs": [
    {
     "name": "stdout",
     "output_type": "stream",
     "text": [
      "found it\n"
     ]
    }
   ],
   "source": [
    "startsWithZero2(List(0,1))"
   ]
  },
  {
   "cell_type": "code",
   "execution_count": 42,
   "id": "408b0c51",
   "metadata": {},
   "outputs": [],
   "source": [
    "startsWithZero2(List(2))"
   ]
  },
  {
   "cell_type": "markdown",
   "id": "dadc14ac",
   "metadata": {},
   "source": [
    "<center>示例15.9 任意长度的序列模式</center>"
   ]
  },
  {
   "cell_type": "markdown",
   "id": "e5c35bc7",
   "metadata": {},
   "source": [
    "### 元组模式\n",
    "\n",
    "我们还可以匹配元组（tuple）。形如（a, b, c）这样的模式能匹配任意的三元组。参考示例15.10。"
   ]
  },
  {
   "cell_type": "code",
   "execution_count": 43,
   "id": "dad94b1d",
   "metadata": {},
   "outputs": [
    {
     "data": {
      "text/plain": [
       "defined \u001b[32mfunction\u001b[39m \u001b[36mtupleDemo\u001b[39m"
      ]
     },
     "execution_count": 43,
     "metadata": {},
     "output_type": "execute_result"
    }
   ],
   "source": [
    "def tupleDemo(expr: Any) =\n",
    "    expr match {\n",
    "        case(a,b,c) => println(\"matched \" + a + b + c)\n",
    "        case _ =>\n",
    "    }"
   ]
  },
  {
   "cell_type": "code",
   "execution_count": 44,
   "id": "a6b99db4",
   "metadata": {},
   "outputs": [
    {
     "name": "stdout",
     "output_type": "stream",
     "text": [
      "matched a3-tuple\n"
     ]
    }
   ],
   "source": [
    "tupleDemo((\"a\",3,\"-tuple\"))"
   ]
  },
  {
   "cell_type": "code",
   "execution_count": 45,
   "id": "5aaa985c",
   "metadata": {},
   "outputs": [],
   "source": [
    "tupleDemo((1))"
   ]
  },
  {
   "cell_type": "markdown",
   "id": "5b596bad",
   "metadata": {},
   "source": [
    "### 带类型的模式\n",
    "\n",
    "可以用带类型的模式（typed pattern）来替代类型测试和类型转换。参考示例15.11。"
   ]
  },
  {
   "cell_type": "code",
   "execution_count": 46,
   "id": "83160588",
   "metadata": {},
   "outputs": [
    {
     "data": {
      "text/plain": [
       "defined \u001b[32mfunction\u001b[39m \u001b[36mgeneralSize\u001b[39m"
      ]
     },
     "execution_count": 46,
     "metadata": {},
     "output_type": "execute_result"
    }
   ],
   "source": [
    "def generalSize(x: Any) = x match {\n",
    "    case s: String => s.length\n",
    "    case m: Map[_, _] => m.size\n",
    "    case _ => -1\n",
    "}"
   ]
  },
  {
   "cell_type": "code",
   "execution_count": 47,
   "id": "c6ccff8f",
   "metadata": {},
   "outputs": [
    {
     "data": {
      "text/plain": [
       "\u001b[36mres46\u001b[39m: \u001b[32mInt\u001b[39m = \u001b[32m3\u001b[39m"
      ]
     },
     "execution_count": 47,
     "metadata": {},
     "output_type": "execute_result"
    }
   ],
   "source": [
    "generalSize(\"abc\")"
   ]
  },
  {
   "cell_type": "code",
   "execution_count": 48,
   "id": "97845dc4",
   "metadata": {},
   "outputs": [
    {
     "data": {
      "text/plain": [
       "\u001b[36mres47\u001b[39m: \u001b[32mInt\u001b[39m = \u001b[32m2\u001b[39m"
      ]
     },
     "execution_count": 48,
     "metadata": {},
     "output_type": "execute_result"
    }
   ],
   "source": [
    "generalSize(Map(1->'a',2->'b'))"
   ]
  },
  {
   "cell_type": "code",
   "execution_count": 49,
   "id": "65c45bdb",
   "metadata": {},
   "outputs": [
    {
     "data": {
      "text/plain": [
       "\u001b[36mres48\u001b[39m: \u001b[32mInt\u001b[39m = \u001b[32m-1\u001b[39m"
      ]
     },
     "execution_count": 49,
     "metadata": {},
     "output_type": "execute_result"
    }
   ],
   "source": [
    "generalSize(math.Pi)"
   ]
  },
  {
   "cell_type": "markdown",
   "id": "509a0139",
   "metadata": {},
   "source": [
    "<center>示例15.11 带有类型模式的模式匹配</center>"
   ]
  },
  {
   "cell_type": "markdown",
   "id": "2971823a",
   "metadata": {},
   "source": [
    "generalSize方法返回不同类型的对象的大小或长度。其入参的类型是Any，因此可以是任何值。如果入参是String，那么方法将返回这个字符串的长度。模式“s:String”是一个带类型的模式，它将匹配每个（非null的）String实例。其中的模式变量s将指向这个字符串。\n",
    "\n",
    "需要注意的是，尽管s和x指向同一个值，x的类型是Any，而s的类型是String。因此可以在与模式相对应的可选分支中使用s.length，但不能写成x.length，因为类型Any并没有一个叫作length的成员。\n",
    "\n",
    "另一个跟用带类型的模式匹配等效但是更冗长的方式是做类型测试然后（强制）类型转换。对于类型测试和转换，Scala跟Java的语法不太一样。比方说要测试某个表达式expr的类型是否为String，我们需要这样写："
   ]
  },
  {
   "cell_type": "code",
   "execution_count": 50,
   "id": "4892bf61",
   "metadata": {},
   "outputs": [
    {
     "data": {
      "text/plain": [
       "\u001b[36mexpr\u001b[39m: \u001b[32mString\u001b[39m = \u001b[32m\"abc\"\u001b[39m"
      ]
     },
     "execution_count": 50,
     "metadata": {},
     "output_type": "execute_result"
    }
   ],
   "source": [
    "val expr = \"abc\""
   ]
  },
  {
   "cell_type": "code",
   "execution_count": 51,
   "id": "b4045053",
   "metadata": {},
   "outputs": [
    {
     "data": {
      "text/plain": [
       "\u001b[36mres50\u001b[39m: \u001b[32mBoolean\u001b[39m = true"
      ]
     },
     "execution_count": 51,
     "metadata": {},
     "output_type": "execute_result"
    }
   ],
   "source": [
    "expr.isInstanceOf[String]"
   ]
  },
  {
   "cell_type": "code",
   "execution_count": 52,
   "id": "e8dca10e",
   "metadata": {},
   "outputs": [
    {
     "data": {
      "text/plain": [
       "\u001b[36mres51\u001b[39m: \u001b[32mString\u001b[39m = \u001b[32m\"abc\"\u001b[39m"
      ]
     },
     "execution_count": 52,
     "metadata": {},
     "output_type": "execute_result"
    }
   ],
   "source": [
    "expr.asInstanceOf[String]"
   ]
  },
  {
   "cell_type": "markdown",
   "id": "e5e90427",
   "metadata": {},
   "source": [
    "通过类型测试和类型转换，可以重写示例15.12的match表达式。"
   ]
  },
  {
   "cell_type": "code",
   "execution_count": 53,
   "id": "817e42a1",
   "metadata": {},
   "outputs": [
    {
     "data": {
      "text/plain": [
       "defined \u001b[32mfunction\u001b[39m \u001b[36misInstance\u001b[39m"
      ]
     },
     "execution_count": 53,
     "metadata": {},
     "output_type": "execute_result"
    }
   ],
   "source": [
    "def isInstance(expr: Any) = {\n",
    "    if (\n",
    "      expr.isInstanceOf[String]\n",
    "    ) {\n",
    "    val s = \n",
    "      expr.asInstanceOf[String]\n",
    "      s.length\n",
    "    } else 0\n",
    "}"
   ]
  },
  {
   "cell_type": "code",
   "execution_count": 54,
   "id": "72205584",
   "metadata": {},
   "outputs": [
    {
     "data": {
      "text/plain": [
       "\u001b[36mres53\u001b[39m: \u001b[32mInt\u001b[39m = \u001b[32m3\u001b[39m"
      ]
     },
     "execution_count": 54,
     "metadata": {},
     "output_type": "execute_result"
    }
   ],
   "source": [
    "isInstance(\"abc\")"
   ]
  },
  {
   "cell_type": "markdown",
   "id": "88626faa",
   "metadata": {},
   "source": [
    "<center>示例15.12 使用isInstanceOf和asInstanceOf（不良风格）</center>"
   ]
  },
  {
   "cell_type": "markdown",
   "id": "03e9a150",
   "metadata": {},
   "source": [
    "isInstanceOf和asInstanceOf两个操作符会被当作Any类的预定义方法处理，这两个方法接收一个用方括号括起来的类型参数。事实上，x.asInstanceOf[String]是该方法调用的一个特例，它带上了显式的类型参数String。\n",
    "\n",
    "你现在应该已经注意到了，在Scala中编写类型测试和类型检查会比较啰唆。我们是有意为之，因为这并不是一个值得鼓励的做法。通常，使用带类型的模式会更好，尤其是当你需要同时做类型测试和类型转换的时候，因为这两个操作所做的事情会被并在单个模式匹配中完成。\n",
    "\n",
    "示例15.11中的match表达式的第二个case包含了带类型的模式“m:Map[\\_, \\_]”。这个模式匹配的是任何Map值，不管它的键和值的类型是什么，然后让m指向这个值。因此，m.size的类型是完备的，返回的是这个映射 （map）的大小。类型模式（type pattern）[3]中的下画线就像是其他模式中的通配符。除了用下画线，你也可以用（小写的）类型变量。\n",
    "\n",
    "### 类型擦除\n",
    "\n",
    "除了笼统的映射，我们还能测试特定元素类型的映射吗？这对于测试某个值是否是Int到Int的映射这类场景会很方便。我们试试看吧："
   ]
  },
  {
   "cell_type": "code",
   "execution_count": 55,
   "id": "17a31047",
   "metadata": {},
   "outputs": [
    {
     "name": "stderr",
     "output_type": "stream",
     "text": [
      "cmd54.sc:2: non-variable type argument Int in type pattern scala.collection.immutable.Map[Int,Int] (the underlying of Map[Int,Int]) is unchecked since it is eliminated by erasure\n",
      "    case m: Map[Int, Int] => true\n",
      "            ^"
     ]
    },
    {
     "data": {
      "text/plain": [
       "defined \u001b[32mfunction\u001b[39m \u001b[36misIntIntMap\u001b[39m"
      ]
     },
     "execution_count": 55,
     "metadata": {},
     "output_type": "execute_result"
    }
   ],
   "source": [
    "def isIntIntMap(x: Any) = x match {\n",
    "    case m: Map[Int, Int] => true\n",
    "    case _ => false\n",
    "}"
   ]
  },
  {
   "cell_type": "markdown",
   "id": "b7cb7798",
   "metadata": {},
   "source": [
    "Scala采用了擦除式的泛型，就跟Java一样。这意味着在运行时并不会保留类型参数的信息。这么一来，我们在运行时就无法判断某个给定的Map对象是用两个Int的类型参数创建的，还是其他什么类型参数创建的。系统能做的只是判断某个值是某种不确定类型参数的Map。可以把isIntIntMap应用到不同的Map类实例来验证这个行为："
   ]
  },
  {
   "cell_type": "code",
   "execution_count": 56,
   "id": "a048f56d",
   "metadata": {},
   "outputs": [
    {
     "data": {
      "text/plain": [
       "\u001b[36mres55\u001b[39m: \u001b[32mBoolean\u001b[39m = true"
      ]
     },
     "execution_count": 56,
     "metadata": {},
     "output_type": "execute_result"
    }
   ],
   "source": [
    "isIntIntMap(Map(1 -> -1))"
   ]
  },
  {
   "cell_type": "code",
   "execution_count": 57,
   "id": "4eb12ab0",
   "metadata": {},
   "outputs": [
    {
     "data": {
      "text/plain": [
       "\u001b[36mres56\u001b[39m: \u001b[32mBoolean\u001b[39m = true"
      ]
     },
     "execution_count": 57,
     "metadata": {},
     "output_type": "execute_result"
    }
   ],
   "source": [
    "isIntIntMap(Map(\"abc\" -> \"abc\"))"
   ]
  },
  {
   "cell_type": "markdown",
   "id": "e7a01644",
   "metadata": {},
   "source": [
    "第一次应用返回true，看上去是正确的，不过第二次应用同样返回true，这可能会让你感到意外。为了警示这种可能违反直觉的运行时行为，编译器会给出前面我们看到的那种非受检的警告。\n",
    "\n",
    "对于这个擦除规则唯一的例外是数组，因为Java和Scala都对它们做了特殊处理。数组的元素类型是跟数组一起保存的，因此我们可以对它进行模式匹配。例如："
   ]
  },
  {
   "cell_type": "code",
   "execution_count": 58,
   "id": "f871bad7",
   "metadata": {},
   "outputs": [
    {
     "data": {
      "text/plain": [
       "defined \u001b[32mfunction\u001b[39m \u001b[36misStringArray\u001b[39m"
      ]
     },
     "execution_count": 58,
     "metadata": {},
     "output_type": "execute_result"
    }
   ],
   "source": [
    "def isStringArray(x: Any) = x match {\n",
    "    case a: Array[String] => \"yes\"\n",
    "    case _ => \"no\"\n",
    "}"
   ]
  },
  {
   "cell_type": "code",
   "execution_count": 59,
   "id": "2cbb8b45",
   "metadata": {},
   "outputs": [
    {
     "data": {
      "text/plain": [
       "\u001b[36mas\u001b[39m: \u001b[32mArray\u001b[39m[\u001b[32mString\u001b[39m] = \u001b[33mArray\u001b[39m(\u001b[32m\"abc\"\u001b[39m)"
      ]
     },
     "execution_count": 59,
     "metadata": {},
     "output_type": "execute_result"
    }
   ],
   "source": [
    "val as = Array(\"abc\")"
   ]
  },
  {
   "cell_type": "code",
   "execution_count": 60,
   "id": "de272954",
   "metadata": {},
   "outputs": [
    {
     "data": {
      "text/plain": [
       "\u001b[36mres59\u001b[39m: \u001b[32mString\u001b[39m = \u001b[32m\"yes\"\u001b[39m"
      ]
     },
     "execution_count": 60,
     "metadata": {},
     "output_type": "execute_result"
    }
   ],
   "source": [
    "isStringArray(as)"
   ]
  },
  {
   "cell_type": "code",
   "execution_count": 61,
   "id": "96007c90",
   "metadata": {},
   "outputs": [
    {
     "data": {
      "text/plain": [
       "\u001b[36mai\u001b[39m: \u001b[32mArray\u001b[39m[\u001b[32mInt\u001b[39m] = \u001b[33mArray\u001b[39m(\u001b[32m1\u001b[39m, \u001b[32m2\u001b[39m, \u001b[32m3\u001b[39m)"
      ]
     },
     "execution_count": 61,
     "metadata": {},
     "output_type": "execute_result"
    }
   ],
   "source": [
    "val ai = Array(1,2,3)"
   ]
  },
  {
   "cell_type": "code",
   "execution_count": 62,
   "id": "7e5d62e7",
   "metadata": {},
   "outputs": [
    {
     "data": {
      "text/plain": [
       "\u001b[36mres61\u001b[39m: \u001b[32mString\u001b[39m = \u001b[32m\"no\"\u001b[39m"
      ]
     },
     "execution_count": 62,
     "metadata": {},
     "output_type": "execute_result"
    }
   ],
   "source": [
    "isStringArray(ai)"
   ]
  },
  {
   "cell_type": "markdown",
   "id": "6ee3d216",
   "metadata": {},
   "source": [
    "### 变量绑定\n",
    "\n",
    "除了独自存在的变量模式外，我们还可以对任何其他模式添加变量。只需要写下变量名、一个@符和模式本身，就得到一个变量绑定模式。意味着这个模式将跟平常一样执行模式匹配，如果匹配成功，就将匹配的对象赋值给这个变量，就像简单的变量模式一样。\n",
    "\n",
    "示例15.13给出了一个（在表达式中）查找绝对值操作被连续应用两次的模式匹配的例子。这样的表达式可以被简化成只执行一次求绝对值的操作。"
   ]
  },
  {
   "cell_type": "code",
   "execution_count": 63,
   "id": "454bb96f",
   "metadata": {},
   "outputs": [
    {
     "data": {
      "text/plain": [
       "defined \u001b[32mfunction\u001b[39m \u001b[36mmatchUnOp\u001b[39m"
      ]
     },
     "execution_count": 63,
     "metadata": {},
     "output_type": "execute_result"
    }
   ],
   "source": [
    "def matchUnOp(expr: Expr) = {\n",
    "    expr match {\n",
    "      case UnOp(\"abs\", e @ UnOp(\"abs\", _)) => e\n",
    "      //case UnOp(\"abs\", e @ _) => e\n",
    "      case _ =>\n",
    "    }\n",
    "}"
   ]
  },
  {
   "cell_type": "code",
   "execution_count": 64,
   "id": "1bb81ccc",
   "metadata": {},
   "outputs": [
    {
     "data": {
      "text/plain": [
       "\u001b[36munopExpr\u001b[39m: \u001b[32mUnOp\u001b[39m = \u001b[33mUnOp\u001b[39m(\u001b[32m\"abs\"\u001b[39m, \u001b[33mNumber\u001b[39m(\u001b[32m3.0\u001b[39m))\n",
       "\u001b[36mres63_1\u001b[39m: \u001b[32mAny\u001b[39m = ()\n",
       "\u001b[36mres63_2\u001b[39m: \u001b[32mAny\u001b[39m = \u001b[33mUnOp\u001b[39m(\u001b[32m\"abs\"\u001b[39m, \u001b[33mNumber\u001b[39m(\u001b[32m3.0\u001b[39m))"
      ]
     },
     "execution_count": 64,
     "metadata": {},
     "output_type": "execute_result"
    }
   ],
   "source": [
    "val unopExpr = new UnOp(\"abs\", new Number(3))\n",
    "matchUnOp(unopExpr)\n",
    "matchUnOp(new UnOp(\"abs\", unopExpr))"
   ]
  },
  {
   "cell_type": "markdown",
   "id": "2b39d4a0",
   "metadata": {},
   "source": [
    "示例15.13包括了一个以e为变量，UnOp（＂abs＂, \\_）为模式的的变量绑定模式。如果整个匹配成功了，那么匹配了UnOp（＂abs＂, \\_）的部分就被赋值给变量e。这个case的结果就是e，这是因为e跟expr的值相同，但是少了一次求绝对值的操作。"
   ]
  },
  {
   "cell_type": "markdown",
   "id": "73666a93-64f0-4698-bbcf-2f4a990a2dad",
   "metadata": {},
   "source": [
    "## 15.3 模式守卫\n",
    "\n",
    "有时候语法级的模式匹配不够精准。举例来说，假定我们要公式化一个简化规则，即用乘以2（e * 2）来替换对两个相同操作元的加法（e + e）。在表示Expr树的语言中，下面这样的表达式：\n",
    "```scala\n",
    "def simplifyAdd(e: Expr) = e match {\n",
    "    case BinOp(\"+\", x, x) => BinOp(\"*\", x, Number(2))\n",
    "    case _ => e\n",
    "}\n",
    "\n",
    "```\n",
    "```\n",
    "cmd64.sc:2: x is already defined as value x\n",
    "    case BinOp(\"+\", x, x) => BinOp(\"*\", x, Number(2))\n",
    "                       ^Compilation Failed\n",
    "\n",
    "Compilation Failed\n",
    "```"
   ]
  },
  {
   "cell_type": "markdown",
   "id": "454a39e7-83a6-49fe-9f92-f4d8dbce3f38",
   "metadata": {},
   "source": [
    "这样做会失败，**因为Scala要求模式都是线性（linear）的：同一个模式变量在模式中只能出现一次**。不过，我们可以用一个模式守卫（pattern guard）来重新定义这个匹配逻辑，如示例15.14所示："
   ]
  },
  {
   "cell_type": "code",
   "execution_count": 65,
   "id": "1922a08d-d2cd-47e4-adf2-0a0d1bd0ca94",
   "metadata": {},
   "outputs": [
    {
     "data": {
      "text/plain": [
       "defined \u001b[32mfunction\u001b[39m \u001b[36msimplifyAdd\u001b[39m"
      ]
     },
     "execution_count": 65,
     "metadata": {},
     "output_type": "execute_result"
    }
   ],
   "source": [
    "def simplifyAdd(e: Expr) = e match {\n",
    "    case BinOp(\"+\", x, y) if x == y => BinOp(\"*\", x, Number(2))\n",
    "    case _ => e\n",
    "}"
   ]
  },
  {
   "cell_type": "markdown",
   "id": "99be8b2a-7c1d-41d9-83cd-cb06f51a8d6e",
   "metadata": {},
   "source": [
    "<center>示例15.14 带有模式守卫的match表达式</center>"
   ]
  },
  {
   "cell_type": "markdown",
   "id": "cf28b27b-5a8e-4918-86c5-4b853fa11346",
   "metadata": {},
   "source": [
    "模式守卫出现在模式之后，并以if打头。模式守卫可以是任意的布尔表达式，通常会引用到模式中的变量。如果存在模式守卫，这个匹配仅在模式守卫求值得到true时才会成功。因此，上面提到的首个case只能匹配那些两个操作元相等的二元操作。\n",
    "\n",
    "以下是其他一些带有守卫的模式示例：\n",
    "```scala\n",
    "// match only positive integers\n",
    "case n: Int if 0 < n => ...  \n",
    "\n",
    "// match only strings starting with the letter `a'\n",
    "case s: String if s(0) == 'a' => ... \n",
    "```"
   ]
  },
  {
   "cell_type": "markdown",
   "id": "41b6d0ff-cf76-4531-846c-7a112cec53f6",
   "metadata": {},
   "source": [
    "## 15.4 模式重叠\n",
    "\n",
    "模式会按照代码中的顺序逐个被尝试。示例15.15中的simplify展示了模式中的case出现顺序的重要性。"
   ]
  },
  {
   "cell_type": "code",
   "execution_count": 66,
   "id": "68b6fb3d-24ea-4e8c-b52c-c9bf316cc673",
   "metadata": {},
   "outputs": [
    {
     "data": {
      "text/plain": [
       "defined \u001b[32mfunction\u001b[39m \u001b[36msimplifyAll\u001b[39m"
      ]
     },
     "execution_count": 66,
     "metadata": {},
     "output_type": "execute_result"
    }
   ],
   "source": [
    "def simplifyAll(expr: Expr): Expr = expr match {\n",
    "    case UnOp(\"-\", UnOp(\"-\", e)) =>\n",
    "      simplifyAll(e)   // `-' is its own inverse\n",
    "    case BinOp(\"+\", e, Number(0)) =>\n",
    "      simplifyAll(e)   // `0' is a neutral element for `+'\n",
    "    case BinOp(\"*\", e, Number(1)) =>\n",
    "      simplifyAll(e)   // `1' is a neutral element for `*'\n",
    "    case UnOp(op, e) => \n",
    "      UnOp(op, simplifyAll(e))\n",
    "    case BinOp(op, l, r) =>\n",
    "      BinOp(op, simplifyAll(l), simplifyAll(r))\n",
    "    case _ => expr\n",
    "}"
   ]
  },
  {
   "cell_type": "markdown",
   "id": "4bc8baa1-b037-49a7-8ad9-8d83b332de69",
   "metadata": {},
   "source": [
    "示例15.15中的simplify将会对一个表达式中的各处都执行简化，不像simplifyTop那样仅仅在顶层做简化。simplify可以从 simplifyTop演化出来，只需要再添加两个case分别针对一元和二元表达式即可（示例15.15中的第四和第五个case）。\n",
    "\n",
    "第四个case的模式是UnOp（op, e），它匹配所有的一元操作。这个一元操作的操作符和操作元可以是任意的。它们分别被绑定到模式变量op和e上。这个case对应的可选分支会递归地对操 作元e应用simplifyAll，然后用（可能的）简化后的操作元重建这个一元操作。第五个B i n O p的case也是同理：它是一个“捕获所有”（catch-all）的对任意二元操作的匹配，匹配成功后递归地对它的两个操作元应用简化方法。\n",
    "\n",
    "在本例中，捕获所有的case出现在更具体的简化规则之后，这是很重要的。如果我们将顺序颠倒过来，那么捕获所有的case就会优先于更具体的规则执行。在 许多场景下，编译器甚至会拒绝编译。例如下面这个match表达式就无法通过编译，因为首个case将会匹配所有第二个case能匹配的值："
   ]
  },
  {
   "cell_type": "code",
   "execution_count": 67,
   "id": "41bf613c-d7f4-464f-b2e5-660fd007588e",
   "metadata": {},
   "outputs": [
    {
     "name": "stderr",
     "output_type": "stream",
     "text": [
      "cmd66.sc:3: unreachable code\n",
      "    case UnOp(\"-\", UnOp(\"-\", e)) => e\n",
      "                                    ^"
     ]
    },
    {
     "data": {
      "text/plain": [
       "defined \u001b[32mfunction\u001b[39m \u001b[36msimplifyBad\u001b[39m"
      ]
     },
     "execution_count": 67,
     "metadata": {},
     "output_type": "execute_result"
    }
   ],
   "source": [
    "def simplifyBad(expr: Expr): Expr = expr match {\n",
    "    case UnOp(op, e) => UnOp(op, simplifyBad(e))\n",
    "    case UnOp(\"-\", UnOp(\"-\", e)) => e\n",
    "}"
   ]
  },
  {
   "cell_type": "markdown",
   "id": "0c82efd8-02c0-4cda-acd9-c2b656244cfd",
   "metadata": {},
   "source": [
    "## 15.5 密封类\n",
    "\n",
    "每当我们编写一个模式匹配时，都需要确保完整地覆盖了所有可能的case。有时候可以通过在末尾添加一个缺省case来做到，不过这仅限于有合理兜底的场合。如果没有这样的缺省行为，我们如何确信自己覆盖了所有的场景呢？\n",
    "\n",
    "我们可以寻求Scala编译器的帮助，帮我们检测出match表达式中缺失的模式组合。为了做到这一点，编译器需要分辨出可能的case有哪些。一般来说，在Scala中这是不可能的，因为新的样例类随时随地都能被定义出来。例如没有人会阻止你在现在的四个样例类所在的编译单元之外的另一个编译单元中给 Expr的类继承关系添加第五个样例类。\n",
    "\n",
    "解决这个问题的手段是将这些样例类的超类标记为密封（sealed）的。**密封类除了在同一个文件中定义的子类之外，不能添加新的子类**。这一点对于模式匹配而言十分有用，因为这样一来我们就只需要关心那些已知的样例类。不仅如此，我们还因此获得了更好的编译器支持。**如果我们对继承自密封类的样例类做匹配，编译器会用警告消息标示出缺失的模式组合**。\n",
    "\n",
    "如果你的类打算被用于模式匹配，那么你应该考虑将它们做成密封类。只需要在类继承关系的顶部那个类的类名前面加上sealed关键字。这样，使用你的这组类的程序员在模式匹配你的这些类时，就会信心十足。 这也是为什么sealed关键字通常被看作模式匹配的执照的原因。示例15.16给出了Expr被转成密封类的例子。"
   ]
  },
  {
   "cell_type": "code",
   "execution_count": 68,
   "id": "24e9b3e8-6cc6-44ef-b5ef-3181d4724c0b",
   "metadata": {},
   "outputs": [
    {
     "data": {
      "text/plain": [
       "defined \u001b[32mclass\u001b[39m \u001b[36mExpr\u001b[39m\n",
       "defined \u001b[32mclass\u001b[39m \u001b[36mVar\u001b[39m\n",
       "defined \u001b[32mclass\u001b[39m \u001b[36mNumber\u001b[39m\n",
       "defined \u001b[32mclass\u001b[39m \u001b[36mUnOp\u001b[39m\n",
       "defined \u001b[32mclass\u001b[39m \u001b[36mBinOp\u001b[39m"
      ]
     },
     "execution_count": 68,
     "metadata": {},
     "output_type": "execute_result"
    }
   ],
   "source": [
    "sealed abstract class Expr\n",
    "case class Var(name: String) extends Expr\n",
    "case class Number(num: Double) extends Expr\n",
    "case class UnOp(operator: String, arg: Expr) extends Expr\n",
    "case class BinOp(operator: String, \n",
    "  left: Expr, right: Expr) extends Expr"
   ]
  },
  {
   "cell_type": "markdown",
   "id": "c9068d03-5de1-4ff5-82c5-b82ea7090fdd",
   "metadata": {},
   "source": [
    "<center>示例15.16 一组继承关系封闭的样例类</center>"
   ]
  },
  {
   "cell_type": "markdown",
   "id": "fc308078-f39e-4b15-9cb6-4394efc7fcc2",
   "metadata": {},
   "source": [
    "现在我们可以试着定义一个漏掉了某些可能case的模式匹配："
   ]
  },
  {
   "cell_type": "code",
   "execution_count": 69,
   "id": "f10da1b8-5f65-4fba-ab74-646132a1523e",
   "metadata": {},
   "outputs": [
    {
     "name": "stderr",
     "output_type": "stream",
     "text": [
      "cmd68.sc:1: match may not be exhaustive.\n",
      "It would fail on the following inputs: BinOp(_, _, _), UnOp(_, _)\n",
      "def describe(e: Expr): String = e match {\n",
      "                                ^"
     ]
    },
    {
     "data": {
      "text/plain": [
       "defined \u001b[32mfunction\u001b[39m \u001b[36mdescribe\u001b[39m"
      ]
     },
     "execution_count": 69,
     "metadata": {},
     "output_type": "execute_result"
    }
   ],
   "source": [
    "def describe(e: Expr): String = e match {\n",
    "    case Number(_) => \"a number\"\n",
    "    case Var(_) => \"a variable\"\n",
    "}"
   ]
  },
  {
   "cell_type": "markdown",
   "id": "5c8165a1-15f3-4387-9055-25402fbf036d",
   "metadata": {},
   "source": [
    "这样的警告告诉我们这段代码存在产生MatchError异常的风险，因为某些可能出现的模式（UnOp、BinOp）并没有被处理。这个警告指出了潜在的运行时错误源，因此这通常有助于我们编写正确的程序。\n",
    "\n",
    "不过，有时候你也会遇到编译器过于挑剔的情况。举例来说，你可能从上下文知道你永远只会将describe应用到Number或Var，因此你很清楚不会有MatchError发生。这时你可以对describe添加一个捕获所有的case，这样就不会有编译器告警了："
   ]
  },
  {
   "cell_type": "code",
   "execution_count": 70,
   "id": "d697d131-448c-4839-b2a6-d7a5ed5709f2",
   "metadata": {},
   "outputs": [
    {
     "data": {
      "text/plain": [
       "defined \u001b[32mfunction\u001b[39m \u001b[36mdescribe\u001b[39m"
      ]
     },
     "execution_count": 70,
     "metadata": {},
     "output_type": "execute_result"
    }
   ],
   "source": [
    "def describe(e: Expr): String = e match {\n",
    "    case Number(_) => \"a number\"\n",
    "    case Var(_) => \"a variable\"\n",
    "    case _ => throw new RuntimeException //不应该发生\n",
    "}"
   ]
  },
  {
   "cell_type": "markdown",
   "id": "9f0a19f0-d341-41a7-9c99-f30a123a9b19",
   "metadata": {},
   "source": [
    "这样可行，但并不理想。你可能并不会很乐意，因为你被迫添加了永远不会被执行的代码（也可能是你认为不会），而所有这些只是为了让编译器闭嘴。\n",
    "\n",
    "一个更轻量的做法是给match表达式的选择器部分添加一个@unchecked注解。就像这样："
   ]
  },
  {
   "cell_type": "code",
   "execution_count": 71,
   "id": "27272de0-3f0e-4fb5-987b-5bf9a86df6db",
   "metadata": {},
   "outputs": [
    {
     "data": {
      "text/plain": [
       "defined \u001b[32mfunction\u001b[39m \u001b[36mdescribe\u001b[39m"
      ]
     },
     "execution_count": 71,
     "metadata": {},
     "output_type": "execute_result"
    }
   ],
   "source": [
    "def describe(e: Expr): String = (e: @unchecked) match {\n",
    "    case Number(_) => \"a number\"\n",
    "    case Var(_) => \"a variable\"\n",
    "}"
   ]
  },
  {
   "cell_type": "markdown",
   "id": "642ab9d7-c90a-4d1e-9ce1-a397cf9b23d1",
   "metadata": {},
   "source": [
    "我们会在第27章介绍注解。一般来说，可以像添加类型声明那样对表达式添加注解：在表达式后加一个冒号和注解的名称（以@打头）。例如，在本例中我们给变量 e添加了@unchecked注解，即“e: @unchecked”。@unchecked注解对模式匹配而言有特殊的含义。如果match表达式的选择器带上了这个注解，那么编译器对后续模式分支的覆盖完整性检查就会被压制。\n",
    "## 15.6 Option类型\n",
    "\n",
    "Scala由一个名为Option的标准类型来表示可选值。这样的值可以有两种形式：Some（x），其中x是那个实际的值；或者None对象，代表没有值。\n",
    "\n",
    "Scala集合类的某些标准操作会返回可选值。比如，Scala的Map有一个get方法，当传入的键有对应的值时，返回Some（value）；而当传入的键在Map中没有定义时，返回None。我们来看下面这个例子："
   ]
  },
  {
   "cell_type": "code",
   "execution_count": 72,
   "id": "ab7b03c6-a4e0-484f-83f4-a0e1504d97d7",
   "metadata": {},
   "outputs": [
    {
     "data": {
      "text/plain": [
       "\u001b[36mcapitals\u001b[39m: \u001b[32mMap\u001b[39m[\u001b[32mString\u001b[39m, \u001b[32mString\u001b[39m] = \u001b[33mMap\u001b[39m(\u001b[32m\"France\"\u001b[39m -> \u001b[32m\"Paris\"\u001b[39m, \u001b[32m\"Japan\"\u001b[39m -> \u001b[32m\"Tokyo\"\u001b[39m)"
      ]
     },
     "execution_count": 72,
     "metadata": {},
     "output_type": "execute_result"
    }
   ],
   "source": [
    "val capitals = Map(\"France\" -> \"Paris\", \"Japan\" -> \"Tokyo\")"
   ]
  },
  {
   "cell_type": "code",
   "execution_count": 73,
   "id": "5a073ed7-2077-45dd-aff1-44f6cea98dc4",
   "metadata": {},
   "outputs": [
    {
     "data": {
      "text/plain": [
       "\u001b[36mres72\u001b[39m: \u001b[32mOption\u001b[39m[\u001b[32mString\u001b[39m] = \u001b[33mSome\u001b[39m(\u001b[32m\"Paris\"\u001b[39m)"
      ]
     },
     "execution_count": 73,
     "metadata": {},
     "output_type": "execute_result"
    }
   ],
   "source": [
    "capitals get \"France\""
   ]
  },
  {
   "cell_type": "code",
   "execution_count": 74,
   "id": "bc4f335c-252c-4fb1-8231-9f5ce1a53a02",
   "metadata": {},
   "outputs": [
    {
     "data": {
      "text/plain": [
       "\u001b[36mres73\u001b[39m: \u001b[32mOption\u001b[39m[\u001b[32mString\u001b[39m] = \u001b[32mNone\u001b[39m"
      ]
     },
     "execution_count": 74,
     "metadata": {},
     "output_type": "execute_result"
    }
   ],
   "source": [
    "capitals get \"North Pole\""
   ]
  },
  {
   "cell_type": "markdown",
   "id": "ca60fd73-6152-4aa5-bced-f8dd419b09ba",
   "metadata": {},
   "source": [
    "将可选值解开最常见的方式是通过模式匹配。例如："
   ]
  },
  {
   "cell_type": "code",
   "execution_count": 75,
   "id": "7704948b-0d31-4626-9fae-fa46deb8663b",
   "metadata": {},
   "outputs": [
    {
     "data": {
      "text/plain": [
       "defined \u001b[32mfunction\u001b[39m \u001b[36mshow\u001b[39m"
      ]
     },
     "execution_count": 75,
     "metadata": {},
     "output_type": "execute_result"
    }
   ],
   "source": [
    "def show(x: Option[String]) = x match{\n",
    "    case Some(s) => s\n",
    "    case None => \"?\"\n",
    "}"
   ]
  },
  {
   "cell_type": "code",
   "execution_count": 76,
   "id": "867ae081-954e-4956-a60b-f1084cacd306",
   "metadata": {},
   "outputs": [
    {
     "data": {
      "text/plain": [
       "\u001b[36mres75\u001b[39m: \u001b[32mString\u001b[39m = \u001b[32m\"Paris\"\u001b[39m"
      ]
     },
     "execution_count": 76,
     "metadata": {},
     "output_type": "execute_result"
    }
   ],
   "source": [
    "show(capitals get \"France\")"
   ]
  },
  {
   "cell_type": "code",
   "execution_count": 77,
   "id": "5ecf7dd3-4dab-41ad-926c-a18152b4b105",
   "metadata": {},
   "outputs": [
    {
     "data": {
      "text/plain": [
       "\u001b[36mres76\u001b[39m: \u001b[32mString\u001b[39m = \u001b[32m\"?\"\u001b[39m"
      ]
     },
     "execution_count": 77,
     "metadata": {},
     "output_type": "execute_result"
    }
   ],
   "source": [
    "show(capitals get \"North Pole\")"
   ]
  },
  {
   "cell_type": "markdown",
   "id": "2acef591-405a-4abe-93c9-ac6c9d4fe0cb",
   "metadata": {},
   "source": [
    "Scala程序经常用到Option类型。可以把这个跟Java中用null来表示无值做比较。举例来说，java.util.HashMap的get方法要么返回存放在HashMap中的某个值，要么（在值未找到时）返回null。这种方式对Java来说是可以的，但很容易出错，因为在实践当中要想跟踪某个程序中的哪些变量可以为null是一件很困难的事。\n",
    "\n",
    "如果某个变量允许为null，那么必须记住在每次用到它的时候都要判空（null）。如果忘记了，那么运行时就有可能出现NullPointerException。由于这样的类异常可能并不经常发生，在测试过程中也就很难发现。对Scala而言，这种方式完全不能工作，因为Scala允许在哈希映射中存放值类型的数据，而null并不是值类型的合法元素。例如，一个HashMap[Int, Int]不可能用返回null来表示“无值”。\n",
    "\n",
    "Scala鼓励我们使用Option来表示可选值。这种处理可选值的方式跟Java相比有若干优势。首先，对于代码的读者而言，某个类型为 Option[String]的变量对应一个可选的String，跟某个类型为String的变量是一个可选的String（可能为null）相比，要直 观得多。不过最重要的是，我们之前描述的那种在不检查某个变量是否为null就开始用它的编程错误在Scala中直接变成了类型错误。如果某个变量的类型为Option[String]，而我们把它当作String来用，这样的 Scala程序是无法编译通过的。\n",
    "## 15.7 到处都是模式\n",
    "\n",
    "Scala中很多地方都允许使用模式，并不仅仅是match表达式。我们来看看其他能用模式的地方。\n",
    "\n",
    "### 变量定义中的模式\n",
    "\n",
    "每当我们定义一个val或var，都可以用模式而不是简单的标识符。例如，可以将一个元组解开并将其中的每个元素分别赋值给不同的变量，参考示例15.17："
   ]
  },
  {
   "cell_type": "code",
   "execution_count": 78,
   "id": "99016241-fb5e-4976-8c40-c822e51ffcdd",
   "metadata": {},
   "outputs": [
    {
     "data": {
      "text/plain": [
       "\u001b[36mmyTuple\u001b[39m: (\u001b[32mInt\u001b[39m, \u001b[32mString\u001b[39m) = (\u001b[32m123\u001b[39m, \u001b[32m\"abc\"\u001b[39m)"
      ]
     },
     "execution_count": 78,
     "metadata": {},
     "output_type": "execute_result"
    }
   ],
   "source": [
    "val myTuple = (123, \"abc\")"
   ]
  },
  {
   "cell_type": "code",
   "execution_count": 79,
   "id": "e9c885a3-4c50-4d39-a636-4b1daed1fad9",
   "metadata": {},
   "outputs": [
    {
     "data": {
      "text/plain": [
       "\u001b[36mnumber\u001b[39m: \u001b[32mInt\u001b[39m = \u001b[32m123\u001b[39m\n",
       "\u001b[36mstring\u001b[39m: \u001b[32mString\u001b[39m = \u001b[32m\"abc\"\u001b[39m"
      ]
     },
     "execution_count": 79,
     "metadata": {},
     "output_type": "execute_result"
    }
   ],
   "source": [
    "val (number, string) = myTuple"
   ]
  },
  {
   "cell_type": "markdown",
   "id": "48c2ef41-7c1c-4c0e-ac84-cf3b6e46eaa3",
   "metadata": {},
   "source": [
    "<center>示例15.17 用单个赋值定义多个变量</center>"
   ]
  },
  {
   "cell_type": "markdown",
   "id": "ffe6cc4e-8389-49c0-87f7-18adcebb04b0",
   "metadata": {},
   "source": [
    "这个语法结构在处理样例类时非常有用。如果你知道要处理的样例类是什么，就可以用一个模式来析构它。参考下面的例子："
   ]
  },
  {
   "cell_type": "code",
   "execution_count": 80,
   "id": "534e6ba1-f24e-48c1-a94c-1aa1abc95c07",
   "metadata": {},
   "outputs": [
    {
     "data": {
      "text/plain": [
       "\u001b[36mexp\u001b[39m: \u001b[32mBinOp\u001b[39m = \u001b[33mBinOp\u001b[39m(\u001b[32m\"*\"\u001b[39m, \u001b[33mNumber\u001b[39m(\u001b[32m5.0\u001b[39m), \u001b[33mNumber\u001b[39m(\u001b[32m1.0\u001b[39m))"
      ]
     },
     "execution_count": 80,
     "metadata": {},
     "output_type": "execute_result"
    }
   ],
   "source": [
    "val exp = new BinOp(\"*\", Number(5), Number(1))"
   ]
  },
  {
   "cell_type": "code",
   "execution_count": 81,
   "id": "47da515a-94c3-4f5a-a759-3a565059adb8",
   "metadata": {},
   "outputs": [
    {
     "data": {
      "text/plain": [
       "\u001b[36mop\u001b[39m: \u001b[32mString\u001b[39m = \u001b[32m\"*\"\u001b[39m\n",
       "\u001b[36mleft\u001b[39m: \u001b[32mExpr\u001b[39m = \u001b[33mNumber\u001b[39m(\u001b[32m5.0\u001b[39m)\n",
       "\u001b[36mright\u001b[39m: \u001b[32mExpr\u001b[39m = \u001b[33mNumber\u001b[39m(\u001b[32m1.0\u001b[39m)"
      ]
     },
     "execution_count": 81,
     "metadata": {},
     "output_type": "execute_result"
    }
   ],
   "source": [
    "val BinOp(op, left, right) = exp"
   ]
  },
  {
   "cell_type": "markdown",
   "id": "6dc9d265-c85b-4485-8503-771f962d422f",
   "metadata": {},
   "source": [
    "### 作为偏函数的case序列\n",
    "\n",
    "用花括号包起来的一系列case（即可选分支）可以用在任何允许出现函数字面量的地方。**本质上讲，case序列就是一个函数字面量，只是更加通用**。不像普通函数那样只有一个入口和参数列表，case序列可以有多个入口，每个入口都有自己的参数列表。每个case对应该函数的一个入口，而该入口的参数列表用模式来指定。每个入口的逻辑主体是case右边的部分。\n",
    "\n",
    "下面是个简单的例子："
   ]
  },
  {
   "cell_type": "code",
   "execution_count": 82,
   "id": "555f716c-5ddc-4334-9999-0bd9c6e94d66",
   "metadata": {},
   "outputs": [
    {
     "data": {
      "text/plain": [
       "\u001b[36mwithDefault\u001b[39m: \u001b[32mOption\u001b[39m[\u001b[32mInt\u001b[39m] => \u001b[32mInt\u001b[39m = ammonite.$sess.cmd81$Helper$$Lambda$2781/2039026628@60f72413"
      ]
     },
     "execution_count": 82,
     "metadata": {},
     "output_type": "execute_result"
    }
   ],
   "source": [
    "val withDefault: Option[Int] => Int = {\n",
    "    case Some(x) => x\n",
    "    case None => 0\n",
    "}"
   ]
  },
  {
   "cell_type": "markdown",
   "id": "78a4d47f-6926-4b46-b8f8-4f7636fec8f5",
   "metadata": {},
   "source": [
    "该函数的函数体有两个case。第一个case匹配Some，返回Some中的值。第二个case匹配None，返回默认值0。以下是这个函数用起来的效果："
   ]
  },
  {
   "cell_type": "code",
   "execution_count": 83,
   "id": "28ebbbf3-7bc3-4a23-af7c-b717e83f02af",
   "metadata": {},
   "outputs": [
    {
     "data": {
      "text/plain": [
       "\u001b[36mres82\u001b[39m: \u001b[32mInt\u001b[39m = \u001b[32m10\u001b[39m"
      ]
     },
     "execution_count": 83,
     "metadata": {},
     "output_type": "execute_result"
    }
   ],
   "source": [
    "withDefault(Some(10))"
   ]
  },
  {
   "cell_type": "code",
   "execution_count": 84,
   "id": "75faa0c4-3c60-4576-8c1f-aa2705a91637",
   "metadata": {},
   "outputs": [
    {
     "data": {
      "text/plain": [
       "\u001b[36mres83\u001b[39m: \u001b[32mInt\u001b[39m = \u001b[32m0\u001b[39m"
      ]
     },
     "execution_count": 84,
     "metadata": {},
     "output_type": "execute_result"
    }
   ],
   "source": [
    "withDefault(None)"
   ]
  },
  {
   "cell_type": "markdown",
   "id": "55c984b5-3390-4655-819b-4a31f110a617",
   "metadata": {},
   "source": [
    "这套机制对于Akka这个actor类库而言十分有用，因为有了它，Akka可以用一组case来定义它的receive方法：\n",
    "```scala\n",
    "var sum = 0\n",
    "\n",
    "def receive = {\n",
    "\n",
    "  case Data(byte) =>\n",
    "    sum += byte\n",
    "\n",
    "  case GetChecksum(requester) =>\n",
    "    val checksum = ~(sum & 0xFF) + 1\n",
    "    requester ! checksum\n",
    "}\n",
    "```"
   ]
  },
  {
   "cell_type": "markdown",
   "id": "add3ae79-a8e8-4e58-acf0-2f1428bf1111",
   "metadata": {},
   "source": [
    "还有另一点值得我们注意：通过case序列得到的是一个偏函数（partial function）。如果我们将这样一个函数应用到它不支持的值上，它会产生一个运行时异常。例如，这里有一个返回整数列表中第二个元素的偏函数："
   ]
  },
  {
   "cell_type": "code",
   "execution_count": 85,
   "id": "bf50be46-629d-4d7c-91f6-282601f5475e",
   "metadata": {},
   "outputs": [
    {
     "name": "stderr",
     "output_type": "stream",
     "text": [
      "cmd84.sc:1: match may not be exhaustive.\n",
      "It would fail on the following inputs: List(_), Nil\n",
      "val second: List[Int] => Int = {\n",
      "                               ^"
     ]
    },
    {
     "data": {
      "text/plain": [
       "\u001b[36msecond\u001b[39m: \u001b[32mList\u001b[39m[\u001b[32mInt\u001b[39m] => \u001b[32mInt\u001b[39m = ammonite.$sess.cmd84$Helper$$Lambda$2794/523696634@499e8899"
      ]
     },
     "execution_count": 85,
     "metadata": {},
     "output_type": "execute_result"
    }
   ],
   "source": [
    "val second: List[Int] => Int = {\n",
    "    case x::y::_ => y\n",
    "}"
   ]
  },
  {
   "cell_type": "code",
   "execution_count": 86,
   "id": "3e94ee2e-b1f9-4dc4-b216-88b5b450ee0a",
   "metadata": {},
   "outputs": [
    {
     "data": {
      "text/plain": [
       "\u001b[36mres85\u001b[39m: \u001b[32mInt\u001b[39m = \u001b[32m7\u001b[39m"
      ]
     },
     "execution_count": 86,
     "metadata": {},
     "output_type": "execute_result"
    }
   ],
   "source": [
    "second(List(6,7,8))"
   ]
  },
  {
   "cell_type": "code",
   "execution_count": 86,
   "id": "80491731-5b6e-4034-b6d5-f2f4ad55cd6b",
   "metadata": {},
   "outputs": [],
   "source": [
    "//second(List())"
   ]
  },
  {
   "cell_type": "markdown",
   "id": "42138496-8d19-4b19-af98-dc941788cd65",
   "metadata": {},
   "source": [
    "如果你想检查某个偏函数是否对某个入参有定义，必须首先告诉编译器你知道你要处理的是偏函数。List[Int] => Int这个类型涵盖了所有从整数列表到整数的函数，不论这个函数是偏函数还是全函数。仅涵盖从整数列表到整数的偏函数的类型写作 PartialFunction[List[Int], Int]。我们重新写一遍second函数，这次用偏函数的类型声明："
   ]
  },
  {
   "cell_type": "code",
   "execution_count": 87,
   "id": "b6325441-84fc-45cb-a53c-edfddcc25703",
   "metadata": {},
   "outputs": [
    {
     "data": {
      "text/plain": [
       "\u001b[36msecond\u001b[39m: \u001b[32mPartialFunction\u001b[39m[\u001b[32mList\u001b[39m[\u001b[32mInt\u001b[39m], \u001b[32mInt\u001b[39m] = <function1>"
      ]
     },
     "execution_count": 87,
     "metadata": {},
     "output_type": "execute_result"
    }
   ],
   "source": [
    "val second: PartialFunction[List[Int],Int] = {\n",
    "    case x::y::_ => y\n",
    "}"
   ]
  },
  {
   "cell_type": "markdown",
   "id": "b82a0592-4f9d-425f-ba4b-9140a2bacbab",
   "metadata": {},
   "source": [
    "偏函数定义了一个isDefinedAt方法，可以用来检查该函数是否对某个特定的值有定义。在本例中，这个函数对于任何至少有两个元素的列表都有定义："
   ]
  },
  {
   "cell_type": "code",
   "execution_count": 88,
   "id": "8fc98273-d49a-42a2-a357-7120615184da",
   "metadata": {},
   "outputs": [
    {
     "data": {
      "text/plain": [
       "\u001b[36mres87\u001b[39m: \u001b[32mBoolean\u001b[39m = true"
      ]
     },
     "execution_count": 88,
     "metadata": {},
     "output_type": "execute_result"
    }
   ],
   "source": [
    "second.isDefinedAt(List(5,6,7))"
   ]
  },
  {
   "cell_type": "code",
   "execution_count": 89,
   "id": "824d4b86-ccb2-4ac3-b081-9e5a6cd27dae",
   "metadata": {},
   "outputs": [
    {
     "data": {
      "text/plain": [
       "\u001b[36mres88\u001b[39m: \u001b[32mBoolean\u001b[39m = true"
      ]
     },
     "execution_count": 89,
     "metadata": {},
     "output_type": "execute_result"
    }
   ],
   "source": [
    "second.isDefinedAt(List(5,6,7,8))"
   ]
  },
  {
   "cell_type": "code",
   "execution_count": 90,
   "id": "18ea97ec-70d3-4c5a-bf0d-2e1b289a3d5e",
   "metadata": {},
   "outputs": [
    {
     "data": {
      "text/plain": [
       "\u001b[36mres89\u001b[39m: \u001b[32mBoolean\u001b[39m = true"
      ]
     },
     "execution_count": 90,
     "metadata": {},
     "output_type": "execute_result"
    }
   ],
   "source": [
    "second.isDefinedAt(List(5,6))"
   ]
  },
  {
   "cell_type": "code",
   "execution_count": 91,
   "id": "671323de-28c2-436f-8067-f84b63df42a3",
   "metadata": {},
   "outputs": [
    {
     "data": {
      "text/plain": [
       "\u001b[36mres90\u001b[39m: \u001b[32mBoolean\u001b[39m = false"
      ]
     },
     "execution_count": 91,
     "metadata": {},
     "output_type": "execute_result"
    }
   ],
   "source": [
    "second.isDefinedAt(List(5))"
   ]
  },
  {
   "cell_type": "code",
   "execution_count": 92,
   "id": "951170c4-4a0c-4d08-9585-36d09278cc02",
   "metadata": {},
   "outputs": [
    {
     "data": {
      "text/plain": [
       "\u001b[36mres91\u001b[39m: \u001b[32mBoolean\u001b[39m = false"
      ]
     },
     "execution_count": 92,
     "metadata": {},
     "output_type": "execute_result"
    }
   ],
   "source": [
    "second.isDefinedAt(List())"
   ]
  },
  {
   "cell_type": "markdown",
   "id": "6407f5c6-d84d-4738-8b3e-21d12a8993d5",
   "metadata": {},
   "source": [
    "偏函数的典型用例是模式匹配函数字面量，就像前面这个例子。事实上，这样的表达式会被Scala编译器翻译成偏函数，这样的翻译发生了两次：一次是实现真正的函数，另一次是测试这个函数是否对指定值有定义。\n",
    "\n",
    "举例来说，函数字面量{ case x::y::_ => y }将被翻译成如下的偏函数值："
   ]
  },
  {
   "cell_type": "code",
   "execution_count": 93,
   "id": "5ef765e2-9b56-425d-8aea-09cd3c6064ab",
   "metadata": {},
   "outputs": [
    {
     "name": "stderr",
     "output_type": "stream",
     "text": [
      "cmd92.sc:2: match may not be exhaustive.\n",
      "It would fail on the following inputs: List(_), Nil\n",
      "    def apply(xs: List[Int]) = xs match {\n",
      "                               ^"
     ]
    },
    {
     "data": {
      "text/plain": [
       "\u001b[36mres92\u001b[39m: \u001b[32mAnyRef\u001b[39m with \u001b[32mPartialFunction\u001b[39m[\u001b[32mList\u001b[39m[\u001b[32mInt\u001b[39m], \u001b[32mInt\u001b[39m] = <function1>"
      ]
     },
     "execution_count": 93,
     "metadata": {},
     "output_type": "execute_result"
    }
   ],
   "source": [
    "new PartialFunction[List[Int],Int] {\n",
    "    def apply(xs: List[Int]) = xs match {\n",
    "        case x::y::_ => y\n",
    "    }\n",
    "    def isDefinedAt(xs: List[Int]) = xs match {\n",
    "        case x::y::_ => true\n",
    "        case _ => false\n",
    "    }\n",
    "}"
   ]
  },
  {
   "cell_type": "markdown",
   "id": "4c2e0016-6227-44a5-ba86-281309addb41",
   "metadata": {},
   "source": [
    "只要函数字面量声明的类型是PartialFunction，这样的翻译就会生效。如果声明的类型只是Function1，或没有声明，那么函数字面量对应的就是一个全函数（complete function）。\n",
    "\n",
    "一般来说，我们应该尽量用全函数，因为偏函数允许运行时出现错误，而编译器帮不了我们。不过有时候偏函数也特别有用。你也许能确信不会有不能处理的值传入， 也可能会用到那种预期偏函数的框架，在调用函数之前，总是会先用isDefinedAt做一次检查。后者的例子可以参考上面讲到的react示例，示例中的入参是一个偏函数，只处理那些调用方想处理的消息。[4]\n",
    "\n",
    "### for表达式中的模式\n",
    "\n",
    "我们还可以在for表达式中使用模式，如示例15.18。这里的for表达式从capitals映射中接收键/值对，每个键/值对都跟模式（country, city）匹配，这个模式定义了两个变量，country和city。"
   ]
  },
  {
   "cell_type": "code",
   "execution_count": 94,
   "id": "d413b2e1-d288-4fe8-a4c0-a8f2f780bfc5",
   "metadata": {},
   "outputs": [
    {
     "name": "stdout",
     "output_type": "stream",
     "text": [
      "The capital of France is Paris\n",
      "The capital of Japan is Tokyo\n"
     ]
    },
    {
     "data": {
      "text/plain": [
       "\u001b[36mcapitals\u001b[39m: \u001b[32mMap\u001b[39m[\u001b[32mString\u001b[39m, \u001b[32mString\u001b[39m] = \u001b[33mMap\u001b[39m(\u001b[32m\"France\"\u001b[39m -> \u001b[32m\"Paris\"\u001b[39m, \u001b[32m\"Japan\"\u001b[39m -> \u001b[32m\"Tokyo\"\u001b[39m)"
      ]
     },
     "execution_count": 94,
     "metadata": {},
     "output_type": "execute_result"
    }
   ],
   "source": [
    "val capitals = Map(\"France\" -> \"Paris\", \"Japan\" -> \"Tokyo\")\n",
    "for((country, city) <- capitals)\n",
    "    println(\"The capital of \" + country + \" is \" + city)"
   ]
  },
  {
   "cell_type": "markdown",
   "id": "bcf6d2df-b9b0-4f81-ba44-bad12344a08a",
   "metadata": {},
   "source": [
    "<center>示例15.18 带有元组模式的for表达式</center>\n",
    "\n",
    "示例15.18给出的对偶（pair）模式很特别，因为这个匹配永远都不会失败。的确，capitals交出一系列的对偶，因此可以确信每个生成的对偶都能够跟对偶模式匹配上。\n",
    "\n",
    "不过某个模式不能匹配某个生成的值的情况也同样存在。示例15.19的代码就是这样一个例子。"
   ]
  },
  {
   "cell_type": "code",
   "execution_count": 95,
   "id": "a1f64f8f-e228-474d-bd8d-d75569c36215",
   "metadata": {},
   "outputs": [
    {
     "name": "stdout",
     "output_type": "stream",
     "text": [
      "apple\n",
      "orange\n"
     ]
    },
    {
     "data": {
      "text/plain": [
       "\u001b[36mresults\u001b[39m: \u001b[32mList\u001b[39m[\u001b[32mOption\u001b[39m[\u001b[32mString\u001b[39m]] = \u001b[33mList\u001b[39m(\u001b[33mSome\u001b[39m(\u001b[32m\"apple\"\u001b[39m), \u001b[32mNone\u001b[39m, \u001b[33mSome\u001b[39m(\u001b[32m\"orange\"\u001b[39m))"
      ]
     },
     "execution_count": 95,
     "metadata": {},
     "output_type": "execute_result"
    }
   ],
   "source": [
    "val results = List(Some(\"apple\"), None, Some(\"orange\"))\n",
    "for(Some(fruit) <- results) println(fruit)"
   ]
  },
  {
   "attachments": {
    "b6fbb9fc-f892-402d-904d-14ec6b18b992.png": {
     "image/png": "[encoded data removed]"
    }
   },
   "cell_type": "markdown",
   "id": "44affeab-ed93-4921-89e2-c959b0d16d6e",
   "metadata": {},
   "source": [
    "<center>示例15.19 从列表中选取匹配特定模式的元素</center>\n",
    "\n",
    "我们从这个例子当中可以看到，**生成的值当中那些不能匹配给定模式的值会被直接丢弃**。例如，results列表中的第二个元素None就不能匹配上模式Some（fruit），因此它也就不会出现在输出当中了。\n",
    "## 15.8 一个复杂的例子\n",
    "\n",
    "在学习了模式的不同形式之后，你可能会对它们在相对复杂的例子中是如何应用的感兴趣。提议的任务是编写一个表达式格式化类，以二维布局来显示一个算术表达式。诸如“x / （x + 1）”的除法应该纵向打印，将被除数放在除数上面，就像这样：\n",
    "![图片.png](attachment:b6fbb9fc-f892-402d-904d-14ec6b18b992.png)"
   ]
  },
  {
   "attachments": {
    "4dd04258-759f-4086-88b8-0cb580b2596b.png": {
     "image/png": "[encoded data removed]"
    }
   },
   "cell_type": "markdown",
   "id": "1742c7c6-2cff-4470-ba90-888b8156f560",
   "metadata": {},
   "source": [
    "再看另一个例子，表达式（（a / （b * c） + 1 / n） / 3）放在二维布局是这样的：\n",
    "![图片.png](attachment:4dd04258-759f-4086-88b8-0cb580b2596b.png)"
   ]
  },
  {
   "attachments": {
    "3d2fc5d3-1b46-494a-b3b4-efef4f87c43f.png": {
     "image/png": "[encoded data removed]"
    }
   },
   "cell_type": "markdown",
   "id": "aca0af98-9e28-483d-9aba-0e2bf3676755",
   "metadata": {},
   "source": [
    "从这些示例来看，要定义的这个类（我们就叫它ExprFormatter吧）需要做大量的布局安排，因此我们有理由使用在第10章开发的布局类库。我们还会 用到本章前面讲到的Expr这组样例类，并将第10章的布局类库和本章的表达式格式化工具放在对应名称的包里。这个例子的完整代码请参考示例15.20和 示例15.21。\n",
    "\n",
    "第一步，我们先集中精力做好横向布局。比如对于下面这个结构化的表达式：\n",
    "![图片.png](attachment:3d2fc5d3-1b46-494a-b3b4-efef4f87c43f.png)"
   ]
  },
  {
   "attachments": {
    "58ef3994-9768-453f-834a-5c86957435b1.png": {
     "image/png": "[encoded data removed]"
    }
   },
   "cell_type": "markdown",
   "id": "54a4b02d-ae7a-4d44-9e08-8dbe87407408",
   "metadata": {},
   "source": [
    "应该打印出 （x + y） * z + 1。注意包在x + y外围的这组圆括号是必需的，但（x + y） * z外围则不是必需的。为了保持布局尽可能清晰易读，我们的目标是去掉冗余的圆括号，同时确保所有必要的圆括号继续保留。\n",
    "\n",
    "为了知道哪里该放置圆括号，我们的代码需要知晓操作符的优先级，我们先把这件事搞定吧。可以用下面这样的映射字面量来直接表示优先级：\n",
    "![图片.png](attachment:58ef3994-9768-453f-834a-5c86957435b1.png)"
   ]
  },
  {
   "cell_type": "markdown",
   "id": "fad87141-f325-4ea7-871d-d57b2010bc41",
   "metadata": {},
   "source": [
    "不过，这需要我们自己来事先做一些运算。更方便的做法是按照递增的优先级定义多组操作符，然后再从中计算每个操作符的优先级。具体代码参考示例15.20。\n",
    "\n",
    "变量precedence是一个从操作符到优先级的映射，其中优先级从0开始。它是通过一个带有两个生成器的for表达式计算出来的。第一个生成器产生 opGroups数组的每一个下标i，第二个生成器产生opGroups（i）中的每一个操作符op。对每一个操作符，for表达式都会交出这个操作符 op到下标i的关联。这样一来，数组中操作符的相对位置就被当作它的优先级。\n",
    "\n",
    "关联关系用中缀的剪头表示，例如op -> i。之前我们只在映射的构造过程中看到过这样的关联，不过它们本身也是一种值。事实上，op -> i这样的关联跟对偶（op, i）是一回事。\n",
    "\n",
    "现在我们已经搞定了所有除/之外的二元操作符的优先级，接下来我们将这个概念进一步泛化让它也包含一元操作符。一元操作符的优先级高于所有的二元操作符。因此可以将unaryPrecedence（示例15.20）的优先级设为跟opGroups的长度相等，也就是比\\*和%操作符多1。分数的优先级处理区别 于其他操作符，因为分数采用的是纵向布局。不过，稍后我们就会看到，将除法的优先级设置为特殊的-1会很方便，因此我们将 fractionPrecedence设为-1（如示例15.20所示）。\n",
    "\n",
    "完成了这些准备工作之后，我们就可以着手编写format这个主方法了。该方法接收两个入参：类型为Expr的表达式e和直接闭合表达式e的的操作符的优先级encPrec（如果没有直接闭合的操作符，enclPrec应设为0）。这个方法交出的是一个代表了二维字符数组的布局元素。\n",
    "\n",
    "示例15.20表达式格式化方法的上半部分\n",
    "\n",
    "示例15.21给出了ExprFormatter类的余下部分，包含三个方法。第一个方法stripDot是一个助手方法；第二个私有的format方法完 成了格式化表达式的主要工作；最后一个同样命名为format的方法是类库中唯一的公开方法，接收一个要格式化的表达式作为入参。私有的format方法 通过对表达式的种类执行模式匹配来完成工作。这里的match表达式有五个case，我们将逐一介绍每个case。"
   ]
  },
  {
   "cell_type": "code",
   "execution_count": 96,
   "id": "b7c3477f-2ce5-47df-923e-f51927488e69",
   "metadata": {},
   "outputs": [
    {
     "data": {
      "text/plain": [
       "defined \u001b[32mclass\u001b[39m \u001b[36mExprFormatter\u001b[39m"
      ]
     },
     "execution_count": 96,
     "metadata": {},
     "output_type": "execute_result"
    }
   ],
   "source": [
    "  class ExprFormatter {\n",
    "  \n",
    "    // Contains operators in groups of increasing precedence\n",
    "    private val opGroups =\n",
    "      Array(\n",
    "        Set(\"|\", \"||\"),\n",
    "        Set(\"&\", \"&&\"),\n",
    "        Set(\"^\"),\n",
    "        Set(\"==\", \"!=\"),\n",
    "        Set(\"<\", \"<=\", \">\", \">=\"),\n",
    "        Set(\"+\", \"-\"),\n",
    "        Set(\"*\", \"%\")\n",
    "      )\n",
    "  \n",
    "    // A mapping from operators to their precedence\n",
    "    private val precedence = {\n",
    "      val assocs =\n",
    "        for {\n",
    "          i <- 0 until opGroups.length\n",
    "          op <- opGroups(i)\n",
    "        } yield op -> i\n",
    "      assocs.toMap\n",
    "    }\n",
    "  \n",
    "    private val unaryPrecedence = opGroups.length\n",
    "    private val fractionPrecedence = -1\n",
    "  \n",
    "    // continued in Listing 15.21...\n",
    "\n",
    "  //import org.stairwaybook.layout.Element\n",
    "\n",
    "  // ...continued from Listing 15.20\n",
    "  \n",
    "  //import org.stairwaybook.layout.Element\n",
    "  \n",
    "  private def format(e: Expr, enclPrec: Int): Element =\n",
    "  \n",
    "    e match {\n",
    "      //如果表达式是一个变量，结果就是由该变量名构成的元素。\n",
    "      case Var(name) => \n",
    "        elem(name)\n",
    "        \n",
    "      //如果表达式是一个数值，结果就是一个由该数值构成的元素。\n",
    "      //stripDot函数通过去掉＂.0＂后缀来简化显示浮点数。\n",
    "      case Number(num) => \n",
    "        def stripDot(s: String) = \n",
    "          if (s endsWith \".0\") s.substring(0, s.length - 2)\n",
    "          else s\n",
    "        elem(stripDot(num.toString))\n",
    "      \n",
    "      //如果表达式是一个一元操作UnOp（op, arg），\n",
    "      //结果就是由操作op和用当前环境中最高优先级格式化入参arg后的结果构成。\n",
    "      //[5]这意味着如果arg是二元操作符（不过不是分数），它将总是显示在圆括号中。\n",
    "      case UnOp(op, arg) => \n",
    "        elem(op) beside format(arg, unaryPrecedence)\n",
    "  \n",
    "      //如果表达式是一个分数，那么中间结果frac就是由格式化后的操作元left和right上下叠在一起用横线隔开构成的。\n",
    "      //横线的宽度是被格式化的操作元宽度 的最大值。\n",
    "      //这个中间结果也就是最终结果，除非这个分数本身是另一个分数的入参。\n",
    "      //对于后面这种情况，在frac的两边都会添加一个空格。\n",
    "      //要搞清楚为什么需要 这样做，考虑表达式“（a / b） / c”。\n",
    "      case BinOp(\"/\", left, right) => \n",
    "        val top = format(left, fractionPrecedence)\n",
    "        val bot = format(right, fractionPrecedence)\n",
    "        val line = elem('-', top.width max bot.width, 1)\n",
    "        val frac = top above line above bot\n",
    "        if (enclPrec != fractionPrecedence) frac\n",
    "        else elem(\" \") beside frac beside elem(\" \")\n",
    "  \n",
    "      case BinOp(op, left, right) => \n",
    "        val opPrec = precedence(op)\n",
    "        val l = format(left, opPrec) \n",
    "        val r = format(right, opPrec + 1)\n",
    "        val oper = l beside elem(\" \" + op + \" \") beside r \n",
    "        if (enclPrec <= opPrec) oper\n",
    "        else elem(\"(\") beside oper beside elem(\")\")\n",
    "    }\n",
    "  \n",
    "    def format(e: Expr): Element = format(e, 0)\n",
    "  }"
   ]
  },
  {
   "attachments": {
    "93842261-4e1b-4082-a668-2b5165657a4d.png": {
     "image/png": "[encoded data removed]"
    },
    "996fe951-83db-46a6-9b29-fa58bc35aac0.png": {
     "image/png": "[encoded data removed]"
    },
    "d7d72254-18d6-482d-aae6-bfcd5003a9ff.png": {
     "image/png": "[encoded data removed]"
    },
    "dd8be5db-784a-4839-abd2-541b38f874f5.png": {
     "image/png": "[encoded data removed]"
    }
   },
   "cell_type": "markdown",
   "id": "15579cbb-037b-4fa1-a709-a3524958184e",
   "metadata": {},
   "source": [
    "第一个case是：\n",
    "```scala\n",
    "case Var(name) => elem(name)\n",
    "```\n",
    "如果表达式是一个变量，结果就是由该变量名构成的元素。\n",
    "\n",
    "第二个case是：\n",
    "```scala\n",
    "case Number(num) => \n",
    "    def stripDot(s: String) = \n",
    "        if (s endsWith \".0\") s.substring(0, s.length - 2)\n",
    "        else s\n",
    "    elem(stripDot(num.toString))\n",
    "```\n",
    "如果表达式是一个数值，结果就是一个由该数值构成的元素。stripDot函数通过去掉＂.0＂后缀来简化显示浮点数。\n",
    "\n",
    "第三个case是：\n",
    "```scala\n",
    "case UnOp(op, arg) => \n",
    "    elem(op) beside format(arg, unaryPrecedence)\n",
    "```\n",
    "如果表达式是一个一元操作UnOp（op, arg），结果就是由操作op和用当前环境中最高优先级格式化入参arg后的结果构成。[5]这意味着如果arg是二元操作符（不过不是分数），它将总是显示在圆括号中。\n",
    "\n",
    "第四个case是：\n",
    "```scala\n",
    "case BinOp(\"/\", left, right) => \n",
    "    val top = format(left, fractionPrecedence)\n",
    "    val bot = format(right, fractionPrecedence)\n",
    "    val line = elem('-', top.width max bot.width, 1)\n",
    "    val frac = top above line above bot\n",
    "    if (enclPrec != fractionPrecedence) frac\n",
    "    else elem(\" \") beside frac beside elem(\" \")\n",
    "```\n",
    "如果表达式是一个分数，那么中间结果frac就是由格式化后的操作元left和right上下叠在一起用横线隔开构成的。横线的宽度是被格式化的操作元宽度 的最大值。这个中间结果也就是最终结果，除非这个分数本身是另一个分数的入参。对于后面这种情况，在frac的两边都会添加一个空格。要搞清楚为什么需要 这样做，考虑表达式“（a / b） / c”。\n",
    "\n",
    "如果没有这样的加宽处理，这个表达式在格式化之后的效果会是这样的：  \n",
    "![图片.png](attachment:996fe951-83db-46a6-9b29-fa58bc35aac0.png)\n",
    "\n",
    "这个布局的问题很明显：到底哪一条横线表示了分数的第一级是不清楚的。上述表达式既可以被解读为“（a / b） / c”也可以被解读为“a / （b / c）”。为了清晰地表示出是哪一种先后次序，需要给内嵌的分数“a / b”在布局的两边加上空格。\n",
    "\n",
    "这样一来，布局就没有歧义了：  \n",
    "![图片.png](attachment:dd8be5db-784a-4839-abd2-541b38f874f5.png)\n",
    "\n",
    "第五个也就是最后一个case是：\n",
    "```scala\n",
    "case BinOp(op, left, right) => \n",
    "    val opPrec = precedence(op)\n",
    "    val l = format(left, opPrec) \n",
    "    val r = format(right, opPrec + 1)\n",
    "    val oper = l beside elem(\" \" + op + \" \") beside r \n",
    "    if (enclPrec <= opPrec) oper\n",
    "    else elem(\"(\") beside oper beside elem(\")\")\n",
    "```\n",
    "这个case作用于所有其他二元操作。由于它出现在下面这个case之后：\n",
    "![图片.png](attachment:d7d72254-18d6-482d-aae6-bfcd5003a9ff.png)\n",
    "\n",
    "我们知道模式BinOp（op, left, right）中的op不可能是一个除法。要格式化这样一个二元操作，需要首先将其操作元left和right格式化。格式化左操作元的优先级参数是操作符op的opPrec，而格式化右操作元的优先级比它要多1。这样的机制确保了圆括号能够正确反映结合性（associativity）。\n",
    "\n",
    "例如，如下操作：\n",
    "![图片.png](attachment:93842261-4e1b-4082-a668-2b5165657a4d.png)\n",
    "\n",
    "将被正确地加上圆括号：“a - （b - c）”。中间结果oper由格式化后的左操作元和格式化后的右操作元并排放在一起用操作符隔开构成。如果当前操作符的优先级比闭合该操作的操作符（即上一层操作符）小，那么oper就被放在圆括号当中；否则就直接返回。\n",
    "\n",
    "这样我们就完成了私有format函数的设计。只剩下公开的format方法，调用方可以通过该方法格式化的一个顶级表达式，而不需要传入优先级入参。示例15.22给出了一个使用ExprFormatter的演示程序。"
   ]
  },
  {
   "cell_type": "code",
   "execution_count": 97,
   "id": "48f28de6-acb5-4b5c-8e0c-b07d1abaf4bd",
   "metadata": {},
   "outputs": [
    {
     "name": "stdout",
     "output_type": "stream",
     "text": [
      "1          \n",
      "- * (x + 1)\n",
      "2          \n",
      "\n",
      "\n",
      "x   1.5\n",
      "- + ---\n",
      "2    x \n",
      "\n",
      "\n",
      "1          \n",
      "- * (x + 1)\n",
      "2          \n",
      "-----------\n",
      "  x   1.5  \n",
      "  - + ---  \n",
      "  2    x   \n",
      "\n",
      "\n"
     ]
    },
    {
     "data": {
      "text/plain": [
       "\u001b[36mf\u001b[39m: \u001b[32mExprFormatter\u001b[39m = ammonite.$sess.cmd95$Helper$ExprFormatter@28e51668\n",
       "\u001b[36me1\u001b[39m: \u001b[32mBinOp\u001b[39m = \u001b[33mBinOp\u001b[39m(\n",
       "  \u001b[32m\"*\"\u001b[39m,\n",
       "  \u001b[33mBinOp\u001b[39m(\u001b[32m\"/\"\u001b[39m, \u001b[33mNumber\u001b[39m(\u001b[32m1.0\u001b[39m), \u001b[33mNumber\u001b[39m(\u001b[32m2.0\u001b[39m)),\n",
       "  \u001b[33mBinOp\u001b[39m(\u001b[32m\"+\"\u001b[39m, \u001b[33mVar\u001b[39m(\u001b[32m\"x\"\u001b[39m), \u001b[33mNumber\u001b[39m(\u001b[32m1.0\u001b[39m))\n",
       ")\n",
       "\u001b[36me2\u001b[39m: \u001b[32mBinOp\u001b[39m = \u001b[33mBinOp\u001b[39m(\n",
       "  \u001b[32m\"+\"\u001b[39m,\n",
       "  \u001b[33mBinOp\u001b[39m(\u001b[32m\"/\"\u001b[39m, \u001b[33mVar\u001b[39m(\u001b[32m\"x\"\u001b[39m), \u001b[33mNumber\u001b[39m(\u001b[32m2.0\u001b[39m)),\n",
       "  \u001b[33mBinOp\u001b[39m(\u001b[32m\"/\"\u001b[39m, \u001b[33mNumber\u001b[39m(\u001b[32m1.5\u001b[39m), \u001b[33mVar\u001b[39m(\u001b[32m\"x\"\u001b[39m))\n",
       ")\n",
       "\u001b[36me3\u001b[39m: \u001b[32mBinOp\u001b[39m = \u001b[33mBinOp\u001b[39m(\n",
       "  \u001b[32m\"/\"\u001b[39m,\n",
       "  \u001b[33mBinOp\u001b[39m(\n",
       "    \u001b[32m\"*\"\u001b[39m,\n",
       "    \u001b[33mBinOp\u001b[39m(\u001b[32m\"/\"\u001b[39m, \u001b[33mNumber\u001b[39m(\u001b[32m1.0\u001b[39m), \u001b[33mNumber\u001b[39m(\u001b[32m2.0\u001b[39m)),\n",
       "    \u001b[33mBinOp\u001b[39m(\u001b[32m\"+\"\u001b[39m, \u001b[33mVar\u001b[39m(\u001b[32m\"x\"\u001b[39m), \u001b[33mNumber\u001b[39m(\u001b[32m1.0\u001b[39m))\n",
       "  ),\n",
       "  \u001b[33mBinOp\u001b[39m(\n",
       "    \u001b[32m\"+\"\u001b[39m,\n",
       "    \u001b[33mBinOp\u001b[39m(\u001b[32m\"/\"\u001b[39m, \u001b[33mVar\u001b[39m(\u001b[32m\"x\"\u001b[39m), \u001b[33mNumber\u001b[39m(\u001b[32m2.0\u001b[39m)),\n",
       "    \u001b[33mBinOp\u001b[39m(\u001b[32m\"/\"\u001b[39m, \u001b[33mNumber\u001b[39m(\u001b[32m1.5\u001b[39m), \u001b[33mVar\u001b[39m(\u001b[32m\"x\"\u001b[39m))\n",
       "  )\n",
       ")\n",
       "defined \u001b[32mfunction\u001b[39m \u001b[36mshow\u001b[39m"
      ]
     },
     "execution_count": 97,
     "metadata": {},
     "output_type": "execute_result"
    }
   ],
   "source": [
    "//import org.stairwaybook.layout.Element\n",
    "//import Element.elem\n",
    "\n",
    "\n",
    "//import org.stairwaybook.expr._\n",
    "\n",
    "\n",
    "  val f = new ExprFormatter\n",
    "\n",
    "  val e1 = BinOp(\"*\", BinOp(\"/\", Number(1), Number(2)), \n",
    "                      BinOp(\"+\", Var(\"x\"), Number(1)))\n",
    "\n",
    "  val e2 = BinOp(\"+\", BinOp(\"/\", Var(\"x\"), Number(2)), \n",
    "                      BinOp(\"/\", Number(1.5), Var(\"x\")))\n",
    "\n",
    "  val e3 = BinOp(\"/\", e1, e2)\n",
    "\n",
    "  def show(e: Expr) = println(f.format(e)+ \"\\n\\n\")\n",
    "\n",
    "  for (e <- Array(e1, e2, e3)) show(e)"
   ]
  },
  {
   "cell_type": "markdown",
   "id": "aef0d2bf-b238-4632-b31f-870eaad83dea",
   "metadata": {},
   "source": [
    "## 15.9 结语\n",
    "\n",
    "在 本章，你详细地了解了Scala的样例类和模式匹配。通过它们，可以利用一些通常在面向对象编程语言中没有的精简写法。不过，本章描述的内容并不是 Scala的模式匹配的全部。假如你想对你的类做模式匹配，但又不想像样例类那样将你的类开放给其他人访问，可以用第26章介绍的提取器（extractor）。在下一章，我们将注意力转向列表。\n",
    "\n",
    "[1].除了用抽象类外，我们还可以选择用特质来对这个类层次结构的根建模。（不过）用抽象类可能会稍微高效一些。\n",
    "\n",
    "[2].Gamma,et al.,《Design Patterns》[Gam95]\n",
    "\n",
    "[3].在m: Map[_, _]这个带类型的模式中，“Map[_, _]”的部分称为类型模式（type pattern）。\n",
    "\n",
    "[4].原书这里的表述有些问题，react实际上指的是Akka的receive方法，而Akka严格来说并不是一个框架，而是类库，只是从代码局部来看跟框架的效果相似而已。——译者注\n",
    "\n",
    "[5].unaryPrecedence是最高优先级，因为它被初始化成比*和%多1。"
   ]
  }
 ],
 "metadata": {
  "kernelspec": {
   "display_name": "Scala",
   "language": "scala",
   "name": "scala"
  },
  "language_info": {
   "codemirror_mode": "text/x-scala",
   "file_extension": ".scala",
   "mimetype": "text/x-scala",
   "name": "scala",
   "nbconvert_exporter": "script",
   "version": "2.12.11"
  }
 },
 "nbformat": 4,
 "nbformat_minor": 5
}
