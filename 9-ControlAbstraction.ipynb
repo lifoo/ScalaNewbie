{
 "cells": [
  {
   "cell_type": "markdown",
   "id": "a2375c8d",
   "metadata": {},
   "source": [
    "# 第9章 控制抽象\n",
    "在第7章指出Scala并没有很多内建的控制抽象，因为它提供了让你自己创建控制抽象的能力。在前一章，你学到了函数值。本章将向你展示如何应用函数值来创建新的控制抽象。在这个过程中，你还将学习到柯里化和传名参数。\n",
    "\n",
    "## 9.1 减少代码重复\n",
    "所有的函数都能被分解成每次函数调用都一样的公共的部分和每次调用不一样的非公共部分。公共部分是函数体，而非公共部分必须通过实参传入。当你把函数值当作入参的时候，这段算法的非公共部分本身又是另一个算法！每当这样的函数被调用，你都可以传入不同的函数值作为实参，被调用的函数会（在由它选择的时机）调用传入的函数值。这些高阶函数（higher-order function），即那些接收函数作为参数的函数，让你有额外的机会来进一步压缩和简化代码。\n",
    "\n",
    "高阶函数的好处之一是可以用来创建减少代码重复的控制抽象。例如，假定你在编写一个文件浏览器，而你打算提供API给用户来查找匹配某个条件的文件。首先，你添加了一个机制用来查找文件名是以指定字符串结尾的文件。比如，这将允许用户查找所有扩展名为“.scala”的文件。可以通过在单例对象中定义一个公共的filesEnding方法的方式来提供这样的API，就像这样："
   ]
  },
  {
   "cell_type": "code",
   "execution_count": 2,
   "id": "9bc401d5",
   "metadata": {},
   "outputs": [
    {
     "data": {
      "text/plain": [
       "defined \u001b[32mobject\u001b[39m \u001b[36mFileMatcher\u001b[39m"
      ]
     },
     "execution_count": 2,
     "metadata": {},
     "output_type": "execute_result"
    }
   ],
   "source": [
    "object FileMatcher {\n",
    "    private def filesHere = (new java.io.File(\".\")).listFiles\n",
    "    def fileEnding(query: String) = \n",
    "        for(file <- filesHere; if file.getName.endsWith(query))\n",
    "            yield file\n",
    "}"
   ]
  },
  {
   "cell_type": "markdown",
   "id": "5d9292d2",
   "metadata": {},
   "source": [
    "这个filesEnding方法用私有的助手方法filesHere来获取当前目录下的所有文件，然后基于文件名是否以用户给定的查询条件结尾来过滤这些文件。由于filesHere是私有的，filesEnding方法是FileMatcher（也就是你提供给用户的API）中定义的唯一一个能被访问到的方法。\n",
    "\n",
    "目前为止一切都很完美，暂时都还没有重复的代码。不过到了后来，你决定要让人们可以基于文件名的任意部分进行搜索。当用户记不住他们到底是将文件命名成了phb-important.doc、stupid-phb-report.doc、may2003salesdoc.phb还是别的什么完全不一样的名字，他们只知道名字中某个地方出现了“phb”，这个时候这样的功能就很有用。于是回去给你的FileMatcher API添加了这个函数："
   ]
  },
  {
   "cell_type": "code",
   "execution_count": 3,
   "id": "01e18046",
   "metadata": {},
   "outputs": [
    {
     "data": {
      "text/plain": [
       "defined \u001b[32mobject\u001b[39m \u001b[36mFileMatcher\u001b[39m"
      ]
     },
     "execution_count": 3,
     "metadata": {},
     "output_type": "execute_result"
    }
   ],
   "source": [
    "object FileMatcher {\n",
    "    private def filesHere = (new java.io.File(\".\")).listFiles\n",
    "    def fileEnding(query: String) = \n",
    "        for(file <- filesHere; if file.getName.endsWith(query))\n",
    "            yield file\n",
    "    def fileContaining(query: String) = \n",
    "        for(file <- filesHere; if file.getName.contains(query))\n",
    "            yield file\n",
    "}"
   ]
  },
  {
   "cell_type": "markdown",
   "id": "4a92ea44",
   "metadata": {},
   "source": [
    "这个函数跟filesEnding的运行机制没什么两样：搜索filesHere，检查文件名，如果名字匹配则返回文件。唯一的区别是这个函数用的是contains而不是endsWith。\n",
    "\n",
    "几个月过去了，这个程序变得更成功了。终于，你对某些高级用户提出的想要基于正则表达式搜索文件的请求屈服了。这些喜欢偷懒的用户有着大量拥有上千个文件的巨大目录，他们想做到类似找出所有标题中带有“oopsla”字样的“pdf”文件。为了支持他们，编写了下面这个函数："
   ]
  },
  {
   "cell_type": "code",
   "execution_count": 4,
   "id": "d24e387b",
   "metadata": {},
   "outputs": [
    {
     "data": {
      "text/plain": [
       "defined \u001b[32mobject\u001b[39m \u001b[36mFileMatcher\u001b[39m"
      ]
     },
     "execution_count": 4,
     "metadata": {},
     "output_type": "execute_result"
    }
   ],
   "source": [
    "object FileMatcher {\n",
    "    private def filesHere = (new java.io.File(\".\")).listFiles\n",
    "    def fileEnding(query: String) = \n",
    "        for(file <- filesHere; if file.getName.endsWith(query))\n",
    "            yield file\n",
    "    def fileContaining(query: String) = \n",
    "        for(file <- filesHere; if file.getName.contains(query))\n",
    "            yield file\n",
    "    def fileRegex(query: String) = \n",
    "        for(file <- filesHere; if file.getName.matches(query))\n",
    "            yield file\n",
    "}"
   ]
  },
  {
   "cell_type": "code",
   "execution_count": 4,
   "id": "fd295057",
   "metadata": {},
   "outputs": [
    {
     "name": "stderr",
     "output_type": "stream",
     "text": [
      "(console):1: ':' expected but ')' found.\r\n",
      "def fileMatching(query: String, method) = \r\n",
      "                                      ^\r\n",
      "(console):2: identifier expected but ';' found.\r\n",
      "    for(file <- filesHere; if file.getName.method(query))\r\n",
      "                         ^\r\n",
      "(console):2: '(' expected but identifier found.\r\n",
      "    for(file <- filesHere; if file.getName.method(query))\r\n",
      "                              ^\r\n",
      "(console):3: illegal start of simple expression\r\n",
      "        yield file\r\n",
      "                  ^"
     ]
    },
    {
     "ename": "",
     "evalue": "",
     "output_type": "error",
     "traceback": [
      "(console):1: ':' expected but ')' found.\r\ndef fileMatching(query: String, method) = \r\n                                      ^\r\n(console):2: identifier expected but ';' found.\r\n    for(file <- filesHere; if file.getName.method(query))\r\n                         ^\r\n(console):2: '(' expected but identifier found.\r\n    for(file <- filesHere; if file.getName.method(query))\r\n                              ^\r\n(console):3: illegal start of simple expression\r\n        yield file\r\n                  ^"
     ]
    }
   ],
   "source": [
    "def fileMatching(query: String, method) = \n",
    "    for(file <- filesHere; if file.getName.method(query))\n",
    "        yield file"
   ]
  },
  {
   "cell_type": "markdown",
   "id": "c00ca9cc",
   "metadata": {},
   "source": [
    "这种方式在某些动态语言中可以做到，但Scala并不允许像这样在运行时将代码黏在一起。那怎么办呢？\n",
    "\n",
    "函数值提供了一种答案。虽然不能将方法名像值一样传来传去，但是可以通过传递某个帮你调用方法的函数值来达到同样的效果。在本例中，可以给方法添加一个matcher参数，该参数唯一的目的就是检查文件名是否满足某个查询条件："
   ]
  },
  {
   "cell_type": "code",
   "execution_count": 5,
   "id": "bfcb4b07",
   "metadata": {},
   "outputs": [
    {
     "data": {
      "text/plain": [
       "defined \u001b[32mobject\u001b[39m \u001b[36mFileMatcher\u001b[39m"
      ]
     },
     "execution_count": 5,
     "metadata": {},
     "output_type": "execute_result"
    }
   ],
   "source": [
    "object FileMatcher {\n",
    "    private def filesHere = (new java.io.File(\".\")).listFiles\n",
    "    def fileEnding(query: String) = \n",
    "        for(file <- filesHere; if file.getName.endsWith(query))\n",
    "            yield file\n",
    "    def fileContaining(query: String) = \n",
    "        for(file <- filesHere; if file.getName.contains(query))\n",
    "            yield file\n",
    "    def fileRegex(query: String) = \n",
    "        for(file <- filesHere; if file.getName.matches(query))\n",
    "            yield file\n",
    "    def filesMatching(query: String,\n",
    "        matcher: (String, String) => Boolean) = {\n",
    "        for (file <- filesHere; if matcher(file.getName, query))\n",
    "            yield file\n",
    "    }\n",
    "}"
   ]
  },
  {
   "cell_type": "markdown",
   "id": "d9c6ee03",
   "metadata": {},
   "source": [
    "在这个版本的方法中，if子句用matcher来检查文件名是否满足查询条件。这个检查具体做什么，取决于给定的matcher。现在，我们来看看matcher这个类型本身。它首先是个函数，因此在类型声明中有个=>符号。这个函数接收两个字符串类型的参数（分别是文件名和查询条件），返回一个布尔值，因此这个函数的完整类型是（String, String） => Boolean。\n",
    "\n",
    "有了这个新的filesMatching助手方法，可以将前面三个搜索方法进行简化，调用助手方法，传入合适的函数："
   ]
  },
  {
   "cell_type": "code",
   "execution_count": 2,
   "id": "2c01cddc",
   "metadata": {},
   "outputs": [
    {
     "data": {
      "text/plain": [
       "defined \u001b[32mobject\u001b[39m \u001b[36mFileMatcher\u001b[39m\r\n",
       "\u001b[36mres1_1\u001b[39m: \u001b[32mArray\u001b[39m[\u001b[32mjava\u001b[39m.\u001b[32mio\u001b[39m.\u001b[32mFile\u001b[39m] = \u001b[33mArray\u001b[39m(\n",
       "  .\\1~3-Scala-getting-Started.ipynb,\n",
       "  .\\4-ClassAndObject.ipynb,\n",
       "  .\\5-BasicTypeAndMethod.ipynb,\n",
       "  .\\6-FunctionTypeObject.ipynb,\n",
       "  .\\7-BuiltInControlStructures.ipynb,\n",
       "  .\\8-FunctionsAndClosures.ipynb,\n",
       "  .\\9-ControlAbstraction.ipynb\n",
       ")"
      ]
     },
     "execution_count": 2,
     "metadata": {},
     "output_type": "execute_result"
    }
   ],
   "source": [
    "object FileMatcher {\n",
    "    private def filesHere = (new java.io.File(\".\")).listFiles\n",
    "    def filesMatching(query: String,\n",
    "        matcher: (String, String) => Boolean) = {\n",
    "        for (file <- filesHere; if matcher(file.getName, query))\n",
    "            yield file\n",
    "    }\n",
    "    def fileEnding(query: String) = \n",
    "        filesMatching(query, _.endsWith(_))\n",
    "    def fileContaining(query: String) = \n",
    "        filesMatching(query, _.contains(_))\n",
    "    def fileRegex(query: String) = \n",
    "        filesMatching(query, _.matches(_))\n",
    "}\n",
    "\n",
    "FileMatcher.fileEnding(\".ipynb\")"
   ]
  },
  {
   "attachments": {
    "image.png": {
     "image/png": "[encoded data removed]"
    }
   },
   "cell_type": "markdown",
   "id": "f1628b10",
   "metadata": {},
   "source": [
    "本例中展示的函数字面量用的是占位符语法，这个语法在前一章介绍过，可能对你来说还不是非常自然。所以来澄清一下占位符是怎么用的：filesEnding方法里的函数字面量_.endsWith（_）的含义跟下面这段代码是一样的：\n",
    "![image.png](attachment:image.png)"
   ]
  },
  {
   "cell_type": "markdown",
   "id": "cdebe94a",
   "metadata": {},
   "source": [
    "由于filesMatching接收一个要求两个String入参的函数，并不需要显式地给出入参的类型，可以直接写（fileName, query） => fileName. endsWith（query）。因为这两个参数在函数体内分别只用到一次（第一个参数fileName先被用到，然后是第二个参数query），可以用占位符语法来写：_.endsWith（_）。第一个下画线是第一个参数（即文件名）的占位符，而第二个下画线是第二个参数（即查询字符串）的占位符。\n",
    "\n",
    "这段代码已经很简化了，不过实际上还能更短。注意这里的查询字符串被传入filesMatching后，filesMatching并不对它做任何处理，只是将它传入matcher函数。这样的来回传递是不必要的，因为调用者已经知道这个查询字符串了！完全可以将query参数从filesMatching和matcher中移除，这样就得到示例9.1的代码。"
   ]
  },
  {
   "cell_type": "code",
   "execution_count": 3,
   "id": "4c55dd69",
   "metadata": {},
   "outputs": [
    {
     "data": {
      "text/plain": [
       "defined \u001b[32mobject\u001b[39m \u001b[36mFileMatcher\u001b[39m\r\n",
       "\u001b[36mres2_1\u001b[39m: \u001b[32mArray\u001b[39m[\u001b[32mjava\u001b[39m.\u001b[32mio\u001b[39m.\u001b[32mFile\u001b[39m] = \u001b[33mArray\u001b[39m(\n",
       "  .\\1~3-Scala-getting-Started.ipynb,\n",
       "  .\\4-ClassAndObject.ipynb,\n",
       "  .\\5-BasicTypeAndMethod.ipynb,\n",
       "  .\\6-FunctionTypeObject.ipynb,\n",
       "  .\\7-BuiltInControlStructures.ipynb,\n",
       "  .\\8-FunctionsAndClosures.ipynb,\n",
       "  .\\9-ControlAbstraction.ipynb\n",
       ")"
      ]
     },
     "execution_count": 3,
     "metadata": {},
     "output_type": "execute_result"
    }
   ],
   "source": [
    "object FileMatcher {\n",
    "    private def filesHere = (new java.io.File(\".\")).listFiles\n",
    "    def filesMatching(query: String,\n",
    "        matcher: (String) => Boolean) = {\n",
    "        for (file <- filesHere; if matcher(file.getName))\n",
    "            yield file\n",
    "    }\n",
    "    def fileEnding(query: String) = \n",
    "        filesMatching(query, _.endsWith(query))\n",
    "    def fileContaining(query: String) = \n",
    "        filesMatching(query, _.contains(query))\n",
    "    def fileRegex(query: String) = \n",
    "        filesMatching(query, _.matches(query))\n",
    "}\n",
    "\n",
    "FileMatcher.fileEnding(\".ipynb\")"
   ]
  },
  {
   "cell_type": "markdown",
   "id": "97bb8810",
   "metadata": {},
   "source": [
    "这个例子展示了一等函数是如何帮助你消除代码重复的，没有它们，我们很难做到这样。比如在Java中，你可能会写一个接口，这个接口包含一个接收String返回Boolean的方法，然后创建并传入一个实现了这个接口的匿名内部类的实例给filesMatching。虽然这种做法能够消除掉重复的代码，但同时它也增加了不少甚至更多新的代码。因此，这样的投入带来的收益并不大，你大可以忍受原先的代码重复。\n",
    "\n",
    "不仅如此，这个示例还展示了闭包是如何帮助我们减少代码重复的。前一例中我们用到的函数字面量，比如_.endsWith（_）和_.containts（_），都是在运行时被实例化成函数值的，它们并不是闭包，因为它们并不捕获任何自由变量。举例来说，在表达式_.endsWith（_）中用到的两个变量都是由下画线表示的，这意味着它们取自该函数的入参。因此，_.endsWith（_）使用了两个绑定变量，并没有使用任何自由变量。相反，在最新的这个例子中，函数字面量_.endsWith（query）包含了一个绑定变量，即用下画线表示的那一个，和一个名为query的自由变量。正因为Scala支持闭包，你才能在最新的这个例子中将query参数从filesMatching中拿掉，从而更进一步简化代码。\n",
    "\n",
    "## 9.2 简化调用方代码\n",
    "前面这个例子展示了高阶函数如何帮助我们在实现API时减少代码重复的。高阶函数的另一个重要的用处是将高阶函数本身放在API当中来让调用方代码更加精简。Scala集合类型提供的特殊用途的循环方法是很好的例子。[1]它们当中很多都在第3章的表3.1中列出过，不过现在让我们再看一个例子来搞明白为什么这些方法是很有用的。\n",
    "\n",
    "我们来看exists，这个方法用于判定某个集合是否包含传入的值。当然可以通过如下方式来查找元素：初始化一个v a r为false，用循环遍历整个集合检查每一项，如果发现要找的内容，就把var设为true。参考下面这段代码，判定传入的List是否包含负数："
   ]
  },
  {
   "cell_type": "code",
   "execution_count": 7,
   "id": "bcc24f9d",
   "metadata": {},
   "outputs": [
    {
     "data": {
      "text/plain": [
       "defined \u001b[32mfunction\u001b[39m \u001b[36mcontainsNeg\u001b[39m\r\n",
       "\u001b[36mres6_1\u001b[39m: \u001b[32mBoolean\u001b[39m = false\r\n",
       "\u001b[36mres6_2\u001b[39m: \u001b[32mBoolean\u001b[39m = true"
      ]
     },
     "execution_count": 7,
     "metadata": {},
     "output_type": "execute_result"
    }
   ],
   "source": [
    "def containsNeg(nums: List[Int]): Boolean = {\n",
    "    var exists = false\n",
    "    for(num <- nums)\n",
    "        if(num < 0)\n",
    "            exists = true\n",
    "    exists\n",
    "}\n",
    "\n",
    "containsNeg(List(1,2,3,4))\n",
    "containsNeg(List(1,2,-3,4))"
   ]
  },
  {
   "cell_type": "markdown",
   "id": "b13adaa5",
   "metadata": {},
   "source": [
    "不过更精简的定义方式是对传入的List调用高阶函数exists，就像这样："
   ]
  },
  {
   "cell_type": "code",
   "execution_count": 10,
   "id": "aa36e104",
   "metadata": {},
   "outputs": [
    {
     "data": {
      "text/plain": [
       "defined \u001b[32mfunction\u001b[39m \u001b[36mcontainsNeg\u001b[39m\r\n",
       "\u001b[36mres9_1\u001b[39m: \u001b[32mBoolean\u001b[39m = false\r\n",
       "\u001b[36mres9_2\u001b[39m: \u001b[32mBoolean\u001b[39m = true"
      ]
     },
     "execution_count": 10,
     "metadata": {},
     "output_type": "execute_result"
    }
   ],
   "source": [
    "def containsNeg(nums: List[Int]) = nums.exists(_ < 0)\n",
    "\n",
    "containsNeg(List(1,2,3,4))\n",
    "containsNeg(List(1,2,-3,4))"
   ]
  },
  {
   "cell_type": "markdown",
   "id": "dd3e8a28",
   "metadata": {},
   "source": [
    "这个e x i s t s方法代表了一种控制抽象。这是Scala类库提供的一个特殊用途的循环结构，并不是像while或for那样是语言内建的。在前一节，高阶函数filesMatching帮助我们在对象FileMatcher的实现中减少了代码重复。这里的exists也带来了相似的好处，不过由于exists是Scala集合API中的公共函数，它减少的是API使用方的代码重复。如果没有exists，而又打算编写一个containsOdd方法来检查某个列表是否包含奇数，可能会这样写："
   ]
  },
  {
   "cell_type": "code",
   "execution_count": 12,
   "id": "58a7bd07",
   "metadata": {},
   "outputs": [
    {
     "data": {
      "text/plain": [
       "defined \u001b[32mfunction\u001b[39m \u001b[36mcontainsOdd\u001b[39m\r\n",
       "\u001b[36mres11_1\u001b[39m: \u001b[32mBoolean\u001b[39m = false\r\n",
       "\u001b[36mres11_2\u001b[39m: \u001b[32mBoolean\u001b[39m = true"
      ]
     },
     "execution_count": 12,
     "metadata": {},
     "output_type": "execute_result"
    }
   ],
   "source": [
    "def containsOdd(nums: List[Int]): Boolean = {\n",
    "    var exists = false\n",
    "    for(num <- nums)\n",
    "        if(num % 2 == 1)\n",
    "            exists = true\n",
    "    exists\n",
    "}\n",
    "\n",
    "containsOdd(List(2))\n",
    "containsOdd(List(1,2))"
   ]
  },
  {
   "cell_type": "code",
   "execution_count": 13,
   "id": "77380409",
   "metadata": {},
   "outputs": [
    {
     "data": {
      "text/plain": [
       "defined \u001b[32mfunction\u001b[39m \u001b[36mcontainsOdd\u001b[39m\r\n",
       "\u001b[36mres12_1\u001b[39m: \u001b[32mBoolean\u001b[39m = false\r\n",
       "\u001b[36mres12_2\u001b[39m: \u001b[32mBoolean\u001b[39m = true"
      ]
     },
     "execution_count": 13,
     "metadata": {},
     "output_type": "execute_result"
    }
   ],
   "source": [
    "def containsOdd(nums: List[Int]) = nums.exists(_ % 2 == 1)\n",
    "\n",
    "containsOdd(List(2))\n",
    "containsOdd(List(1,2))"
   ]
  },
  {
   "cell_type": "markdown",
   "id": "0487d81d",
   "metadata": {},
   "source": [
    "这个版本的代码体再一次跟对应的containsNeg方法一致（使用exists的版本），除了搜索条件不同。这里的重复代码要少得多，因为所有的循环逻辑都被抽象到exists方法里了。\n",
    "Scala类库当中还有许多其他循环方法。跟exists一样，它们通常能帮助你缩短代码，如果你能找到机会使用它们。\n",
    "\n",
    "## 9.3 柯里化\n",
    "在第1章，我们说过Scala允许你创建新的控制抽象，“感觉就像是语言原生支持的那样”。尽管到目前为止你看到的例子的确都是控制抽象，应该不会有人会误以为它们是语言原生支持的。为了搞清楚如何做出那些用起来感觉更像是语言扩展的控制抽象，首先需要理解一个函数式编程技巧，那就是柯里化（currying）。\n",
    "\n",
    "一个经过柯里化的函数在应用时支持多个参数列表，而不是只有一个。示例9.2展示了一个常规的，没有经过柯里化的函数，对两个Int参数x和y做加法。"
   ]
  },
  {
   "cell_type": "code",
   "execution_count": 14,
   "id": "ec345099",
   "metadata": {},
   "outputs": [
    {
     "data": {
      "text/plain": [
       "defined \u001b[32mfunction\u001b[39m \u001b[36mplainOldSum\u001b[39m\r\n",
       "\u001b[36mres13_1\u001b[39m: \u001b[32mInt\u001b[39m = \u001b[32m3\u001b[39m"
      ]
     },
     "execution_count": 14,
     "metadata": {},
     "output_type": "execute_result"
    }
   ],
   "source": [
    "def plainOldSum(x: Int, y: Int) = x + y\n",
    "\n",
    "plainOldSum(1,2)"
   ]
  },
  {
   "cell_type": "markdown",
   "id": "1c86f99a",
   "metadata": {},
   "source": [
    "与此相反，示例9.3展示了一个相似功能的函数，不过这次是经过柯里化的。跟使用一个包含两个Int参数列表不同，应用这个函数到两个参数列表，每个列表包含一个Int参数。"
   ]
  },
  {
   "cell_type": "code",
   "execution_count": 15,
   "id": "7e585d26",
   "metadata": {},
   "outputs": [
    {
     "data": {
      "text/plain": [
       "defined \u001b[32mfunction\u001b[39m \u001b[36mcurriedSum\u001b[39m\r\n",
       "\u001b[36mres14_1\u001b[39m: \u001b[32mInt\u001b[39m = \u001b[32m3\u001b[39m"
      ]
     },
     "execution_count": 15,
     "metadata": {},
     "output_type": "execute_result"
    }
   ],
   "source": [
    "def curriedSum(x: Int)(y: Int) = x + y\n",
    "\n",
    "curriedSum(1)(2)"
   ]
  },
  {
   "cell_type": "markdown",
   "id": "b4ad46aa",
   "metadata": {},
   "source": [
    "这里发生的事情是，当你调用curriedSum，实际上是连着做了两次传统的函数调用。第一次调用接收了一个名为x的Int参数，返回一个用于第二次调用的函数值，这个函数接收一个Int参数y。参考下面这个名为first的函数，从原理上讲跟前面提到的curriedSum的第一次传统函数调用做了相同的事："
   ]
  },
  {
   "cell_type": "code",
   "execution_count": 16,
   "id": "0dd0907c",
   "metadata": {},
   "outputs": [
    {
     "data": {
      "text/plain": [
       "defined \u001b[32mfunction\u001b[39m \u001b[36mfirst\u001b[39m\r\n",
       "\u001b[36mres15_1\u001b[39m: \u001b[32mInt\u001b[39m => \u001b[32mInt\u001b[39m = ammonite.$sess.cmd15$Helper$$Lambda$2570/1588168324@5944283a"
      ]
     },
     "execution_count": 16,
     "metadata": {},
     "output_type": "execute_result"
    }
   ],
   "source": [
    "def first(x: Int) = (y: Int) => x + y\n",
    "\n",
    "first(1)"
   ]
  },
  {
   "cell_type": "markdown",
   "id": "5b3bca9e",
   "metadata": {},
   "source": [
    "把first函数应用到1（换句话说，调用第一个函数，传入1）将交出第二个函数："
   ]
  },
  {
   "cell_type": "code",
   "execution_count": 17,
   "id": "2bb5dba9",
   "metadata": {},
   "outputs": [
    {
     "data": {
      "text/plain": [
       "\u001b[36msecond\u001b[39m: \u001b[32mInt\u001b[39m => \u001b[32mInt\u001b[39m = ammonite.$sess.cmd15$Helper$$Lambda$2570/1588168324@2c1dc954"
      ]
     },
     "execution_count": 17,
     "metadata": {},
     "output_type": "execute_result"
    }
   ],
   "source": [
    "val second = first(1)"
   ]
  },
  {
   "cell_type": "markdown",
   "id": "8d11e63b",
   "metadata": {},
   "source": [
    "应用第二个函数到2将交出下面的结果："
   ]
  },
  {
   "cell_type": "code",
   "execution_count": 18,
   "id": "5a110b4b",
   "metadata": {},
   "outputs": [
    {
     "data": {
      "text/plain": [
       "\u001b[36mres17\u001b[39m: \u001b[32mInt\u001b[39m = \u001b[32m3\u001b[39m"
      ]
     },
     "execution_count": 18,
     "metadata": {},
     "output_type": "execute_result"
    }
   ],
   "source": [
    "second(2)"
   ]
  },
  {
   "cell_type": "markdown",
   "id": "13cd6917",
   "metadata": {},
   "source": [
    "这里的 first和 second函数只是对柯里化过程的示意，它们跟curriedSum并不直接相关。尽管如此，我们还是有办法获取到指向curriedSum的“第二个”函数的引用。这个办法就是通过占位符表示法，在一个部分应用函数表达式中使用curriedSum，就像这样："
   ]
  },
  {
   "cell_type": "code",
   "execution_count": 19,
   "id": "f9dbf532",
   "metadata": {},
   "outputs": [
    {
     "data": {
      "text/plain": [
       "\u001b[36monePlus\u001b[39m: \u001b[32mInt\u001b[39m => \u001b[32mInt\u001b[39m = ammonite.$sess.cmd18$Helper$$Lambda$2599/1644504026@32145953"
      ]
     },
     "execution_count": 19,
     "metadata": {},
     "output_type": "execute_result"
    }
   ],
   "source": [
    "val onePlus = curriedSum(1)_"
   ]
  },
  {
   "cell_type": "markdown",
   "id": "39e5652d",
   "metadata": {},
   "source": [
    "代码curriedSum（1）_中的下画线是第二个参数列表的占位符。[2]其结果是一个指向函数的引用，这个函数在被调用时，将对它唯一的Int入参加1后，返回结果："
   ]
  },
  {
   "cell_type": "code",
   "execution_count": 20,
   "id": "caf86d99",
   "metadata": {},
   "outputs": [
    {
     "data": {
      "text/plain": [
       "\u001b[36mres19\u001b[39m: \u001b[32mInt\u001b[39m = \u001b[32m3\u001b[39m"
      ]
     },
     "execution_count": 20,
     "metadata": {},
     "output_type": "execute_result"
    }
   ],
   "source": [
    "onePlus(2)"
   ]
  },
  {
   "cell_type": "markdown",
   "id": "6ab28160",
   "metadata": {},
   "source": [
    "如果想得到一个对它唯一的Int入参加2的函数，可以这样做："
   ]
  },
  {
   "cell_type": "code",
   "execution_count": 21,
   "id": "2c976296",
   "metadata": {},
   "outputs": [
    {
     "data": {
      "text/plain": [
       "\u001b[36mtwoPlus\u001b[39m: \u001b[32mInt\u001b[39m => \u001b[32mInt\u001b[39m = ammonite.$sess.cmd20$Helper$$Lambda$2613/1251639208@86fbd25\r\n",
       "\u001b[36mres20_1\u001b[39m: \u001b[32mInt\u001b[39m = \u001b[32m4\u001b[39m"
      ]
     },
     "execution_count": 21,
     "metadata": {},
     "output_type": "execute_result"
    }
   ],
   "source": [
    "val twoPlus = curriedSum(2)_\n",
    "twoPlus(2)"
   ]
  },
  {
   "cell_type": "markdown",
   "id": "10c476ac",
   "metadata": {},
   "source": [
    "## 9.4 编写新的控制结构\n",
    "在拥有一等函数的语言中，可以有效地制作出新的控制接口，尽管语言的语法是固定的。你需要做的就是创建接收函数作为入参的方法。\n",
    "\n",
    "例如下面这个“twice”控制结构，它重复某个操作两次，并返回结果："
   ]
  },
  {
   "cell_type": "code",
   "execution_count": 23,
   "id": "c9a0fc5a",
   "metadata": {},
   "outputs": [
    {
     "data": {
      "text/plain": [
       "defined \u001b[32mfunction\u001b[39m \u001b[36mtwice\u001b[39m\r\n",
       "\u001b[36mres22_1\u001b[39m: \u001b[32mDouble\u001b[39m = \u001b[32m7.0\u001b[39m\r\n",
       "\u001b[36mres22_2\u001b[39m: \u001b[32mDouble\u001b[39m = \u001b[32m7.0\u001b[39m"
      ]
     },
     "execution_count": 23,
     "metadata": {},
     "output_type": "execute_result"
    }
   ],
   "source": [
    "def twice(op: Double => Double, x: Double) = op(op(x))\n",
    "\n",
    "twice(_ + 1, 5)\n",
    "twice(1 + _, 5)"
   ]
  },
  {
   "cell_type": "markdown",
   "id": "abc4606d",
   "metadata": {},
   "source": [
    "本例中的op类型为Double => Double，意思是这是一个接收一个Double作为入参，返回另一个Double的函数。\n",
    "\n",
    "每当你发现某个控制模式在代码中多处出现，就应该考虑将这个模式实现为新的控制结构。在本章前面的部分看到了filesMatching这个非常特殊的控制模式，现在来看一个更加常用的编码模式：打开某个资源，对它进行操作，然后关闭这个资源。可以用类似如下的方法，将这个模式捕获成一个控制抽象："
   ]
  },
  {
   "cell_type": "code",
   "execution_count": 25,
   "id": "a0b8569c",
   "metadata": {},
   "outputs": [
    {
     "data": {
      "text/plain": [
       "\u001b[32mimport \u001b[39m\u001b[36mjava.io._\n",
       "\n",
       "\u001b[39m\r\n",
       "defined \u001b[32mfunction\u001b[39m \u001b[36mwithPrintWriter\u001b[39m"
      ]
     },
     "execution_count": 25,
     "metadata": {},
     "output_type": "execute_result"
    }
   ],
   "source": [
    "import java.io._\n",
    "\n",
    "def withPrintWriter(file: File, op: PrintWriter => Unit) = {\n",
    "    val writer = new PrintWriter(file)\n",
    "    try{\n",
    "        op(writer)\n",
    "    } finally {\n",
    "        writer.close()\n",
    "    }\n",
    "}"
   ]
  },
  {
   "cell_type": "markdown",
   "id": "1ab27b8e",
   "metadata": {},
   "source": [
    "有了这个方法后，你就可以像这样来使用它："
   ]
  },
  {
   "cell_type": "code",
   "execution_count": 26,
   "id": "0f254331",
   "metadata": {},
   "outputs": [],
   "source": [
    "withPrintWriter(new File(\"./temp/test.txt\"),\n",
    "               writer => writer.println(new java.util.Date))"
   ]
  },
  {
   "cell_type": "markdown",
   "id": "c16d1de0",
   "metadata": {},
   "source": [
    "使用这个方法的好处是，确保文件在最后被关闭的是withPrintWriter而不是用户代码。因此不可能出现使用者忘记关闭文件的情况。这个技巧被称作贷出模式（loan pattern），因为是某个控制抽象函数，比如withPrintWriter，打开某个资源并将这个资源“贷出”给函数。例如，前一例中的withPrintWriter将一个PrintWriter“贷出”给函数op。当函数完成时，它会表明自己不再需要这个“贷入”的资源。这时这个资源就在finally代码块中被关闭了，这样能确保不论函数是正常返回还是抛出异常，资源都会被正常关闭。\n",
    "\n",
    "可以用花括号而不是圆括号来表示参数列表，这样调用方的代码看上去更像是在使用内建的控制结构。在Scala中，只要有那种只传入一个参数的方法调用，都可以选择使用花括号来将入参包起来，而不是圆括号。\n",
    "\n",
    "例如，可以不这样写："
   ]
  },
  {
   "cell_type": "code",
   "execution_count": 1,
   "id": "e4b62178",
   "metadata": {},
   "outputs": [
    {
     "name": "stdout",
     "output_type": "stream",
     "text": [
      "hello, world!\n"
     ]
    }
   ],
   "source": [
    "println(\"hello, world!\")"
   ]
  },
  {
   "cell_type": "markdown",
   "id": "2a05144b",
   "metadata": {},
   "source": [
    "而是写成："
   ]
  },
  {
   "cell_type": "code",
   "execution_count": 2,
   "id": "37590f32",
   "metadata": {},
   "outputs": [
    {
     "name": "stdout",
     "output_type": "stream",
     "text": [
      "hello, world!\n"
     ]
    }
   ],
   "source": [
    "println{\"hello, world!\"}"
   ]
  },
  {
   "cell_type": "markdown",
   "id": "f47ba9d4",
   "metadata": {},
   "source": [
    "在第二个例子中，用了花括号而不是圆括号来将println的入参包起来。不过，这个花括号技巧仅对传入单个入参的场景适用。参考下面这个尝试打破这个规则的例子："
   ]
  },
  {
   "cell_type": "code",
   "execution_count": 4,
   "id": "cf78653b",
   "metadata": {},
   "outputs": [
    {
     "data": {
      "text/plain": [
       "\u001b[36mg\u001b[39m: \u001b[32mString\u001b[39m = \u001b[32m\"hello, world!\"\u001b[39m\r\n",
       "\u001b[36mres3_1\u001b[39m: \u001b[32mString\u001b[39m = \u001b[32m\"wo\"\u001b[39m"
      ]
     },
     "execution_count": 4,
     "metadata": {},
     "output_type": "execute_result"
    }
   ],
   "source": [
    "val g = \"hello, world!\"\n",
    "\n",
    "g.substring(7, 9)"
   ]
  },
  {
   "cell_type": "code",
   "execution_count": 4,
   "id": "44b37ac1",
   "metadata": {},
   "outputs": [
    {
     "name": "stderr",
     "output_type": "stream",
     "text": [
      "(console):1:14 expected \"}\"\r\n",
      "g.substring{7, 9}\r\n",
      "             ^"
     ]
    },
    {
     "ename": "",
     "evalue": "",
     "output_type": "error",
     "traceback": [
      "(console):1:14 expected \"}\"\r\ng.substring{7, 9}\r\n             ^"
     ]
    }
   ],
   "source": [
    "g.substring{7, 9}"
   ]
  },
  {
   "cell_type": "markdown",
   "id": "482e2d38",
   "metadata": {},
   "source": [
    "由于你尝试传入两个入参给substring，当试着将这些入参用花括号包起来时，会得到一个错误提示。这个时候需要使用圆括号："
   ]
  },
  {
   "cell_type": "code",
   "execution_count": 5,
   "id": "6ec36bc3",
   "metadata": {},
   "outputs": [
    {
     "data": {
      "text/plain": [
       "\u001b[36mres4\u001b[39m: \u001b[32mString\u001b[39m = \u001b[32m\"wo\"\u001b[39m"
      ]
     },
     "execution_count": 5,
     "metadata": {},
     "output_type": "execute_result"
    }
   ],
   "source": [
    "g.substring(7, 9)"
   ]
  },
  {
   "cell_type": "markdown",
   "id": "b18b62b8",
   "metadata": {},
   "source": [
    "Scala允许用花括号替代圆括号来传入单个入参的目的是为了让调用方程序员在花括号当中编写函数字面量。这能让方法用起来更像是控制抽象。拿前面的withPrintWriter举例，在最新的版本中，withPrintWriter接收两个入参，因此你不能用花括号。尽管如此，由于传入withPrintWriter的函数是参数列表中的最后一个，可以用柯里化将第一个File参数单独拉到一个参数列表中，这样剩下的函数就独占了第二个参数列表。示例9.4展示了如何重新定义withPrintWriter。"
   ]
  },
  {
   "cell_type": "code",
   "execution_count": 6,
   "id": "61271481",
   "metadata": {},
   "outputs": [
    {
     "data": {
      "text/plain": [
       "\u001b[32mimport \u001b[39m\u001b[36mjava.io._\n",
       "\n",
       "\u001b[39m\r\n",
       "defined \u001b[32mfunction\u001b[39m \u001b[36mwithPrintWriter\u001b[39m"
      ]
     },
     "execution_count": 6,
     "metadata": {},
     "output_type": "execute_result"
    }
   ],
   "source": [
    "import java.io._\n",
    "\n",
    "def withPrintWriter(file: File)(op: PrintWriter => Unit) = {\n",
    "    val writer = new PrintWriter(file)\n",
    "    try{\n",
    "        op(writer)\n",
    "    } finally {\n",
    "        writer.close()\n",
    "    }\n",
    "}"
   ]
  },
  {
   "cell_type": "markdown",
   "id": "585cc444",
   "metadata": {},
   "source": [
    "新版本跟老版本的唯一区别在于现在有两个各包含一个参数的参数列表，而不是一个包含两个参数的参数列表。仔细看两个参数之间的部分，在前一个版本的withPrintWriter中（173页），你看到的是...File, op...，而在新的版本中，你看到的是...File）（op...。有了这样的定义，你就可以用更舒服的语法来调用这个方法了："
   ]
  },
  {
   "cell_type": "code",
   "execution_count": 10,
   "id": "c1b10c3f",
   "metadata": {},
   "outputs": [
    {
     "data": {
      "text/plain": [
       "\u001b[36mfile\u001b[39m: \u001b[32mFile\u001b[39m = .\\temp\\date.txt\r\n",
       "\u001b[36mfile1\u001b[39m: \u001b[32mFile\u001b[39m = .\\temp\\date1.txt"
      ]
     },
     "execution_count": 10,
     "metadata": {},
     "output_type": "execute_result"
    }
   ],
   "source": [
    "val file = new File(\"./temp/date.txt\")\n",
    "withPrintWriter(file){\n",
    "    writer => writer.println(new java.util.Date)\n",
    "}\n",
    "val file1 = new File(\"./temp/date1.txt\")\n",
    "withPrintWriter{file1}{\n",
    "    writer => writer.println(new java.util.Date)\n",
    "}"
   ]
  },
  {
   "cell_type": "markdown",
   "id": "03ae3b50",
   "metadata": {},
   "source": [
    "在本例中，第一个参数列表，也就是那个包含了一个File入参的参数列表，用的是圆括号。而第二个参数列表，即包含函数入参的那个，用的是花括号。\n",
    "\n",
    "## 9.5 传名参数\n",
    "前一节的withPrintWriter方法跟语言内建的控制结构（比如if和while）不同，花括号中间的代码接收一个入参。传入withPrintWriter的函数需要一个类型为PrintWriter的入参，这个入参就是下面代码当中的“writer =>”："
   ]
  }
 ],
 "metadata": {
  "kernelspec": {
   "display_name": "Scala",
   "language": "scala",
   "name": "scala"
  },
  "language_info": {
   "codemirror_mode": "text/x-scala",
   "file_extension": ".scala",
   "mimetype": "text/x-scala",
   "name": "scala",
   "nbconvert_exporter": "script",
   "version": "2.12.8"
  }
 },
 "nbformat": 4,
 "nbformat_minor": 5
}
